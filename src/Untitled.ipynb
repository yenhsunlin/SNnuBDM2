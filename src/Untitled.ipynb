{
 "cells": [
  {
   "cell_type": "code",
   "execution_count": 1,
   "id": "ef21228e-9ae0-4ead-9414-74f9170c3641",
   "metadata": {},
   "outputs": [],
   "source": [
    "import os\n",
    "import time\n",
    "import numpy as np\n",
    "import ipyparallel as ipp\n",
    "import matplotlib.pyplot as plt"
   ]
  },
  {
   "cell_type": "code",
   "execution_count": 21,
   "id": "daba32d2-24c7-49b0-9ec7-645d197ab26d",
   "metadata": {
    "tags": []
   },
   "outputs": [
    {
     "name": "stdout",
     "output_type": "stream",
     "text": [
      "Starting 4 engines with <class 'ipyparallel.cluster.launcher.LocalEngineSetLauncher'>\n"
     ]
    },
    {
     "data": {
      "application/vnd.jupyter.widget-view+json": {
       "model_id": "3f3f21a78be44dad8bc3673bb2ed3f48",
       "version_major": 2,
       "version_minor": 0
      },
      "text/plain": [
       "  0%|          | 0/4 [00:00<?, ?engine/s]"
      ]
     },
     "metadata": {},
     "output_type": "display_data"
    },
    {
     "name": "stdout",
     "output_type": "stream",
     "text": [
      "Stopping engine(s): 1677656358\n",
      "engine set stopped 1677656358: {'engines': {'0': {'exit_code': 0, 'pid': 42924, 'identifier': '0'}, '1': {'exit_code': 0, 'pid': 42925, 'identifier': '1'}, '2': {'exit_code': 0, 'pid': 42926, 'identifier': '2'}, '3': {'exit_code': 0, 'pid': 42927, 'identifier': '3'}}, 'exit_code': 0}\n",
      "Stopping controller\n",
      "Controller stopped: {'exit_code': 0, 'pid': 42912, 'identifier': 'ipcontroller-1677656357-ws65-34754'}\n"
     ]
    }
   ],
   "source": [
    "task_durations = [1] * 25\n",
    "# request a cluster\n",
    "with ipp.Cluster(n=4) as rc:\n",
    "    # get a view on the cluster\n",
    "    view = rc.load_balanced_view()\n",
    "    # submit the tasks\n",
    "    asyncresult = view.map_async(lambda x: x*x, np.arange(10).tolist())\n",
    "    # wait interactively for results\n",
    "    #asyncresult.wait_interactive()\n",
    "    # retrieve actual results\n",
    "    result = asyncresult.get()\n",
    "# at this point, the cluster processes have been shutdown"
   ]
  },
  {
   "cell_type": "code",
   "execution_count": 22,
   "id": "7dcc2b7b-7c1c-4843-afe8-57e828fe97fb",
   "metadata": {},
   "outputs": [
    {
     "data": {
      "text/plain": [
       "[0, 1, 4, 9, 16, 25, 36, 49, 64, 81]"
      ]
     },
     "execution_count": 22,
     "metadata": {},
     "output_type": "execute_result"
    }
   ],
   "source": [
    "result"
   ]
  },
  {
   "cell_type": "code",
   "execution_count": 17,
   "id": "e7773f61-6dfd-4377-89a4-ffb20e40e006",
   "metadata": {},
   "outputs": [
    {
     "data": {
      "text/plain": [
       "[None, None, None, None, None, None, None, None, None, None]"
      ]
     },
     "execution_count": 17,
     "metadata": {},
     "output_type": "execute_result"
    }
   ],
   "source": [
    "result"
   ]
  },
  {
   "cell_type": "code",
   "execution_count": 18,
   "id": "2e30d5b3-9be9-4952-90ce-62f71cd5ac1e",
   "metadata": {},
   "outputs": [
    {
     "name": "stdout",
     "output_type": "stream",
     "text": [
      "5\n"
     ]
    }
   ],
   "source": [
    "print(5)"
   ]
  },
  {
   "cell_type": "code",
   "execution_count": null,
   "id": "5039d4d1-bcad-4e2b-aa7c-05762b2b40f7",
   "metadata": {},
   "outputs": [],
   "source": []
  }
 ],
 "metadata": {
  "kernelspec": {
   "display_name": "Python 3 (ipykernel)",
   "language": "python",
   "name": "python3"
  },
  "language_info": {
   "codemirror_mode": {
    "name": "ipython",
    "version": 3
   },
   "file_extension": ".py",
   "mimetype": "text/x-python",
   "name": "python",
   "nbconvert_exporter": "python",
   "pygments_lexer": "ipython3",
   "version": "3.9.7"
  }
 },
 "nbformat": 4,
 "nbformat_minor": 5
}
