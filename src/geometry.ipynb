{
 "cells": [
  {
   "cell_type": "code",
   "execution_count": 1,
   "id": "167a64e8-dc23-4ce7-8952-ba3124dbd4bd",
   "metadata": {},
   "outputs": [],
   "source": [
    "import numpy as np"
   ]
  },
  {
   "cell_type": "code",
   "execution_count": 6,
   "id": "bc9fafb7-4e08-43ed-9fb3-c9fc775c6867",
   "metadata": {},
   "outputs": [],
   "source": [
    "# %% Sanity check for capital Theta\n",
    "def sanityCheckTheta(D,Rstar,theta):\n",
    "    \"\"\"\n",
    "    Do the sanity check for capital Theta that the inputs satisfy\n",
    "    -1 <= d*sin(theta)/D <= 1 where d is the l.o.s distance\n",
    "    \n",
    "    Input\n",
    "    ------\n",
    "    D: the SNv propagation distance D\n",
    "    Rstar: the distance between Earth and SN\n",
    "    theta: the open-angle in rad\n",
    "    \n",
    "    Output\n",
    "    ------\n",
    "    bool: is the inputs sane?\n",
    "    \"\"\"\n",
    "    # Get l.o.s d\n",
    "    d = d_los(D,Rstar,theta)\n",
    "    return -1 <= d*np.sin(theta)/D <= 1\n",
    "\n",
    "\n",
    "# %% Sanity check for alpha\n",
    "def sanityCheckAlpha(D,Rstar,theta):\n",
    "    \"\"\"\n",
    "    Do the sanity check for scattering angle alpha that the inputs\n",
    "    satisfy -1 <= Rstar*sin(theta)/D <= 1\n",
    "    \n",
    "    Input\n",
    "    ------\n",
    "    D: the SNv propagation distance D\n",
    "    Rstar: the distance between Earth and SN\n",
    "    theta: the open-angle in rad\n",
    "    \n",
    "    Output\n",
    "    ------\n",
    "    bool: is the inputs sane?\n",
    "    \"\"\"\n",
    "    return -1 <= Rstar*np.sin(theta)/D <= 1\n",
    "    \n",
    "\n",
    "# %% Get the scattering angle alpha\n",
    "def getAlpha(D,Rstar,theta):\n",
    "    \"\"\"\n",
    "    Get the scattering angle alpha via law of cosine.\n",
    "    If we did it with law of cosine, then for the case of alpha > 0.5pi,\n",
    "    it will always return pi - alpha which cannot reflect the pratical\n",
    "    situation\n",
    "    \n",
    "    Input\n",
    "    ------\n",
    "    D: the SNv propagation distance D\n",
    "    Rstar: the distance between Earth and SN\n",
    "    theta: the open-angle in rad\n",
    "    \n",
    "    Output\n",
    "    ------\n",
    "    alpha: scattering angle alpha in rad\n",
    "    \"\"\"\n",
    "    # Find l.o.s. d^2\n",
    "    d2 = d_los(D,Rstar,theta,True)\n",
    "    d = np.sqrt(d2)\n",
    "    # Get cos(alpha)\n",
    "    cosAlpha = (Rstar**2 - D**2 - d2)/(2*D*d)\n",
    "    # Get alpha via arccos\n",
    "    alpha = np.arccos(cosAlpha)\n",
    "    return alpha\n",
    "\n",
    "\n",
    "# %% Calculate the l.o.s distance d\n",
    "def d_los(D,Rstar,theta,is_square = False):\n",
    "    \"\"\"\n",
    "    Calculate the l.o.s distance d \n",
    "    \n",
    "    Input\n",
    "    ------\n",
    "    D: the SNv propagation distance D\n",
    "    Rstar: the distance between Earth and SN\n",
    "    theta: the open-angle in rad\n",
    "    is_square: return the square of such distance, default is False\n",
    "    \n",
    "    Output\n",
    "    ------\n",
    "    d: the l.o.s distance d\n",
    "    \"\"\"\n",
    "    sinTheta = np.sin(theta)\n",
    "    common = D**2 + Rstar**2 - 2*Rstar**2*sinTheta**2\n",
    "    root = 2*Rstar*np.sqrt((D + Rstar*sinTheta)*(D - Rstar*sinTheta)*(1 - sinTheta)*(1 + sinTheta))\n",
    "    \n",
    "    # d square, there are two solutions, one with minus root the other plus root\n",
    "    # Since the input theta is always acute, we have to check the d we picked up also corresponds\n",
    "    # to the theta that is acute. If the corresponds theta is obtuse, we have to change sign\n",
    "    # Firstly, start with minus root\n",
    "    d2 = common - root\n",
    "    # Check the corresponding theta is acute (0<=cos(theta)<=1) or obtuse (-1<=cos(theta)<0)\n",
    "    cosTheta = (Rstar**2 + d2 - D**2)/(2*Rstar*np.sqrt(d2))\n",
    "    if 0 <= cosTheta <= 1:\n",
    "        # theta is acute as desired\n",
    "        pass\n",
    "    else:\n",
    "        # theta is obtuse and we have to change to plus root\n",
    "        d2 = common + root\n",
    "    \n",
    "    # Return the correct l.o.s d according to user's choice    \n",
    "    if is_square is False:\n",
    "        return np.sqrt(d2)\n",
    "    else:\n",
    "        return d2\n",
    "    \n",
    "    \n",
    "# %% Calculate ell\n",
    "def ell(Rstar,Re,theta,beta,is_square = False):\n",
    "    \"\"\"\n",
    "    Calculate the distance ell\n",
    "    \n",
    "    Input\n",
    "    ------\n",
    "    Rstar: the distance between Earth and SN\n",
    "    Re: the distance between Earth and the GC\n",
    "    theta: the open-angle in rad\n",
    "    beta: the off-center angle in rad\n",
    "    is_square: return the square of such distance, default is False\n",
    "    \n",
    "    Output\n",
    "    ------\n",
    "    ell: the distance ell\n",
    "    \"\"\"\n",
    "    # Calculate d^2\n",
    "    d2 = d_los(D,Rstar,theta,True)\n",
    "    # Get d\n",
    "    small_d = np.sqrt(d2)\n",
    "    # Calculate ell^2\n",
    "    ell2 = Re**2 + d2*np.cos(theta)**2 - 2*Re*small_d*np.cos(theta)*np.cos(beta)\n",
    "    if is_square is False:\n",
    "        return np.sqrt(ell2)\n",
    "    else:\n",
    "        return ell2\n",
    "\n",
    "\n",
    "# %% Calculate r'\n",
    "def rPrime(D,Rstar,Re,theta,phi,beta,tolerance = 1e-15):\n",
    "    \"\"\"\n",
    "    Calculate the distance from boosted point to GC r'\n",
    "    \n",
    "    Input\n",
    "    ------\n",
    "    d: the l.o.s distance d\n",
    "    Rstar: the distance between Earth and SN\n",
    "    Re: the distance between Earth and the GC\n",
    "    theta: the open-angle in rad\n",
    "    phi: the azimuth angle in rad\n",
    "    beta: the off-center angle in rad\n",
    "    \n",
    "    Output\n",
    "    ------\n",
    "    r': the distance r'\n",
    "    \"\"\"\n",
    "    # ell^2\n",
    "    ell2 = ell(Rstar,Re,theta,beta,True)\n",
    "    # d^2\n",
    "    d2 = d_los(D,Rstar,theta,True)\n",
    "    # h\n",
    "    h = np.sqrt(d2)*np.sin(theta)\n",
    "    # cos(iota) and iota\n",
    "    cosIota = (Re**2 - ell2 - d2*np.cos(theta)**2)/(2*np.cos(theta)*np.sqrt(ell2*d2))\n",
    "    # Using sin(arccos(x)) = sqrt(1-x^2)\n",
    "    if 0 <= np.abs(cosIota) <= 1:\n",
    "        # normal case\n",
    "        sinIota = np.sqrt(1 - cosIota**2)\n",
    "    elif np.abs(cosIota) - 1 < tolerance:\n",
    "        # cosIota is outside the valid range but its value is still within the\n",
    "        # tolerance, which implies abs(cosIota) = 1 is still ok to our calculation.\n",
    "        # Since cosIota is slight larger than 1 but within the tolerance, we switch 1 - x^2 to x^2 - 1\n",
    "        # to avoid minus sign occuring in square root\n",
    "        sinIota = np.sqrt(cosIota**2 - 1)\n",
    "    else:\n",
    "        # cosIota is not only outside the valid range but also untolerable\n",
    "        raise print('cosIota value is outside the tolarance range, please check again')\n",
    "    # r'^2\n",
    "    rp2 = ell2*cosIota**2 + (np.sqrt(ell2)*sinIota - h*np.sin(phi))**2 + h**2*np.cos(phi)**2\n",
    "    return np.sqrt(rp2)\n"
   ]
  },
  {
   "cell_type": "code",
   "execution_count": 18,
   "id": "f0a2089d-96a7-4f56-9268-ba4e0be5cb94",
   "metadata": {},
   "outputs": [],
   "source": [
    "# %% Get the scattering angle alpha\n",
    "def get_alpha(d,Rstar,theta):\n",
    "    \"\"\"\n",
    "    Get the scattering angle alpha via law of cosine.\n",
    "    If we did it with law of cosine, then for the case of alpha > 0.5pi,\n",
    "    it will always return pi - alpha which cannot reflect the pratical\n",
    "    situation\n",
    "    \n",
    "    Input\n",
    "    ------\n",
    "    d: the l.o.s distance d\n",
    "    Rstar: the distance between Earth and SN\n",
    "    theta: the open-angle in rad\n",
    "    \n",
    "    Output\n",
    "    ------\n",
    "    alpha: scattering angle alpha in rad\n",
    "    \"\"\"\n",
    "    # Get D^2\n",
    "    D2 = get_D(d,Rstar,theta,True)\n",
    "    D = np.sqrt(D2)\n",
    "    # Get cos(alpha)\n",
    "    cosAlpha = (Rstar**2 - D2 - d**2)/(2*D*d)\n",
    "    # Get alpha via arccos\n",
    "    alpha = np.arccos(cosAlpha)\n",
    "    return alpha\n",
    "\n",
    "\n",
    "# %% Calculate D\n",
    "def get_D(d,Rstar,theta,is_square = False):\n",
    "    \"\"\"\n",
    "    Calculate the distance between SN and boosted point D\n",
    "    \n",
    "    Input\n",
    "    ------\n",
    "    d: the l.o.s distance d\n",
    "    Rstar: the distance between Earth and SN\n",
    "    theta: the open-angle in rad\n",
    "    is_square: return the square of such distance, default is False\n",
    "    \n",
    "    Output\n",
    "    ------\n",
    "    D: the distance D\n",
    "    \"\"\"\n",
    "    # Calculate D^2 via law of cosine\n",
    "    D2 = d**2 + Rstar**2 - 2*d*Rstar*np.cos(theta)\n",
    "    if is_square is False:\n",
    "        return np.sqrt(D2)\n",
    "    elif is_square is True:\n",
    "        return D2\n",
    "    else:\n",
    "        raise ValueError('\\'is_square\\' must be either True or False')\n",
    "    \n",
    "\n",
    "# %% Calculate ell\n",
    "def get_ell(d,Re,theta,beta,is_square = False):\n",
    "    \"\"\"\n",
    "    Calculate the distance ell\n",
    "    \n",
    "    Input\n",
    "    ------\n",
    "    d: the l.o.s distance d\n",
    "    Re: the distance between Earth and the GC\n",
    "    theta: the open-angle in rad\n",
    "    beta: the off-center angle in rad\n",
    "    is_square: return the square of such distance, default is False\n",
    "    \n",
    "    Output\n",
    "    ------\n",
    "    ell: the distance ell\n",
    "    \"\"\"\n",
    "    # Calculate ell^2 via law of cosine\n",
    "    ell2 = Re**2 + (d*np.cos(theta))**2 - 2*Re*d*np.cos(theta)*np.cos(beta)\n",
    "    if is_square is False:\n",
    "        return np.sqrt(ell2)\n",
    "    elif is_square is True:\n",
    "        return ell2\n",
    "    else:\n",
    "        raise ValueError('\\'is_square\\' must be either True or False')\n",
    "\n",
    "\n",
    "# %% Calculate r'\n",
    "def get_rprime(d,Rstar,Re,theta,phi,beta,tolerance = 1e-15):\n",
    "    \"\"\"\n",
    "    Calculate the distance from boosted point to GC r'\n",
    "    \n",
    "    Input\n",
    "    ------\n",
    "    d: the l.o.s distance d\n",
    "    Rstar: the distance between Earth and SN\n",
    "    Re: the distance between Earth and the GC\n",
    "    theta: the open-angle in rad\n",
    "    phi: the azimuth angle in rad\n",
    "    beta: the off-center angle in rad\n",
    "    \n",
    "    Output\n",
    "    ------\n",
    "    r': the distance r'\n",
    "    \"\"\"\n",
    "    # ell^2\n",
    "    ell2 = get_ell(d,Re,theta,beta,True)\n",
    "    # D^2\n",
    "    D2 = get_D(d,Rstar,theta,True)\n",
    "    # h\n",
    "    h = d*np.sin(theta)\n",
    "    # cos(iota) and iota\n",
    "    cosIota = (Re**2 - ell2 - (d*np.cos(theta))**2)/(2*np.cos(theta)*np.sqrt(ell2)*d)\n",
    "    # Using sin(arccos(x)) = sqrt(1-x^2)\n",
    "    if 0 <= np.abs(cosIota) <= 1:\n",
    "        # normal case\n",
    "        sinIota = np.sqrt(1 - cosIota**2)\n",
    "    elif np.abs(cosIota) - 1 < tolerance:\n",
    "        # cosIota is outside the valid range but its value is still within the\n",
    "        # tolerance, which implies abs(cosIota) = 1 is still ok to our calculation.\n",
    "        # Since cosIota is slight larger than 1 but within the tolerance, we switch 1 - x^2 to x^2 - 1\n",
    "        # to avoid minus sign occuring in square root\n",
    "        sinIota = np.sqrt(cosIota**2 - 1)\n",
    "    else:\n",
    "        # cosIota is not only outside the valid range but also untolerable\n",
    "        raise print('cosIota value is outside the tolarance range, please check again')\n",
    "    # r'^2\n",
    "    rp2 = ell2*cosIota**2 + (np.sqrt(ell2)*sinIota - h*np.sin(phi))**2 + h**2*np.cos(phi)**2\n",
    "    return np.sqrt(rp2)\n",
    "\n",
    "\n",
    "# Calculate l.o.s d for a given time\n",
    "def get_d"
   ]
  },
  {
   "cell_type": "code",
   "execution_count": 19,
   "id": "befcb3a1-57eb-4c89-8754-6e0869ef2d42",
   "metadata": {},
   "outputs": [],
   "source": [
    "D = 11\n",
    "Re = 8.5\n",
    "Rstar = 18\n",
    "theta = 0.01*np.pi\n",
    "phi = np.pi/4\n",
    "beta = 0.045"
   ]
  },
  {
   "cell_type": "code",
   "execution_count": 16,
   "id": "39df2f71-52b6-4023-902c-8ebe67d8b7c1",
   "metadata": {},
   "outputs": [],
   "source": [
    "from scipy.integrate import quad"
   ]
  },
  {
   "cell_type": "code",
   "execution_count": 25,
   "id": "743340e6-a00c-412e-9066-cdc3a23cfb56",
   "metadata": {},
   "outputs": [
    {
     "data": {
      "text/plain": [
       "(40.92592245672427, 8.617053479670056e-12)"
      ]
     },
     "execution_count": 25,
     "metadata": {},
     "output_type": "execute_result"
    }
   ],
   "source": [
    "quad(lambda phi_x: rPrime(D,Rstar,Re,theta,phi_x,beta),0,2*np.pi)"
   ]
  },
  {
   "cell_type": "code",
   "execution_count": 14,
   "id": "7257eb8b-1686-4645-8940-02b0af7ea8f1",
   "metadata": {},
   "outputs": [
    {
     "data": {
      "text/plain": [
       "1.5143760438933807"
      ]
     },
     "execution_count": 14,
     "metadata": {},
     "output_type": "execute_result"
    }
   ],
   "source": [
    "rPrime(D,Rstar,Re,theta,phi,beta)"
   ]
  },
  {
   "cell_type": "code",
   "execution_count": 20,
   "id": "9472d32a-b844-47ac-a1c2-5d3ee9b6a3aa",
   "metadata": {},
   "outputs": [
    {
     "data": {
      "text/plain": [
       "1.5143760438933807"
      ]
     },
     "execution_count": 20,
     "metadata": {},
     "output_type": "execute_result"
    }
   ],
   "source": [
    "get_rprime(d_los(D,Rstar,theta),Rstar,Re,theta,phi,beta,tolerance = 1e-15)"
   ]
  },
  {
   "cell_type": "code",
   "execution_count": 15,
   "id": "eb5b596a-c626-47de-aa6b-093889747593",
   "metadata": {},
   "outputs": [
    {
     "name": "stdout",
     "output_type": "stream",
     "text": [
      "7.005658150586865 True True 1.5374999363678117 1.4977987188087702 1.5143760438933807\n"
     ]
    }
   ],
   "source": [
    "print(d_los(D,Rstar,theta),\n",
    "sanityCheckTheta(D,Rstar,theta),\n",
    "sanityCheckAlpha(D,Rstar,theta),\n",
    "ell(Rstar,Re,theta,beta),\n",
    "(Re- d_los(D,Rstar,theta)*np.cos(theta)),\n",
    "rPrime(D,Rstar,Re,theta,phi,beta))"
   ]
  },
  {
   "cell_type": "code",
   "execution_count": 36,
   "id": "5cefab94-2952-481a-a852-e1c881b38569",
   "metadata": {},
   "outputs": [
    {
     "data": {
      "text/plain": [
       "0.028366203012016263"
      ]
     },
     "execution_count": 36,
     "metadata": {},
     "output_type": "execute_result"
    }
   ],
   "source": [
    "getAlpha(D,Rstar,theta)/np.pi"
   ]
  },
  {
   "cell_type": "code",
   "execution_count": 37,
   "id": "9dc10233-856c-421b-84de-35c69f8ff067",
   "metadata": {},
   "outputs": [
    {
     "data": {
      "text/plain": [
       "True"
      ]
     },
     "execution_count": 37,
     "metadata": {},
     "output_type": "execute_result"
    }
   ],
   "source": [
    "sanityCheckAlpha(D,Rstar,theta)"
   ]
  },
  {
   "cell_type": "code",
   "execution_count": 40,
   "id": "264b942b-ae53-4593-814e-b5c9bf099d63",
   "metadata": {},
   "outputs": [
    {
     "data": {
      "text/plain": [
       "0.9995065603657316"
      ]
     },
     "execution_count": 40,
     "metadata": {},
     "output_type": "execute_result"
    }
   ],
   "source": [
    "np.cos(theta)"
   ]
  },
  {
   "cell_type": "code",
   "execution_count": 46,
   "id": "7de050a3-2896-4ea8-adea-deba452191e3",
   "metadata": {},
   "outputs": [
    {
     "data": {
      "text/plain": [
       "3.110176727053904"
      ]
     },
     "execution_count": 46,
     "metadata": {},
     "output_type": "execute_result"
    }
   ],
   "source": [
    "np.arccos((-D**2 + Rstar**2 + d_los(D,Rstar,theta,True))/(2*Rstar*d_los(D,Rstar,theta)))"
   ]
  },
  {
   "cell_type": "code",
   "execution_count": 44,
   "id": "58daf6cf-3d43-4e85-b249-138fa2130736",
   "metadata": {},
   "outputs": [
    {
     "data": {
      "text/plain": [
       "2.5009535579126934"
      ]
     },
     "execution_count": 44,
     "metadata": {},
     "output_type": "execute_result"
    }
   ],
   "source": [
    "d_los(D,Rstar,theta)"
   ]
  },
  {
   "cell_type": "code",
   "execution_count": 48,
   "id": "ce130da9-8844-4c9e-83a1-49d9cf45e460",
   "metadata": {},
   "outputs": [
    {
     "data": {
      "text/plain": [
       "3.1101767270538954"
      ]
     },
     "execution_count": 48,
     "metadata": {},
     "output_type": "execute_result"
    }
   ],
   "source": [
    "np.pi-theta"
   ]
  },
  {
   "cell_type": "code",
   "execution_count": null,
   "id": "a999e08b-854b-467d-be07-34be67502482",
   "metadata": {},
   "outputs": [],
   "source": []
  }
 ],
 "metadata": {
  "kernelspec": {
   "display_name": "Python 3 (ipykernel)",
   "language": "python",
   "name": "python3"
  },
  "language_info": {
   "codemirror_mode": {
    "name": "ipython",
    "version": 3
   },
   "file_extension": ".py",
   "mimetype": "text/x-python",
   "name": "python",
   "nbconvert_exporter": "python",
   "pygments_lexer": "ipython3",
   "version": "3.9.7"
  }
 },
 "nbformat": 4,
 "nbformat_minor": 5
}
