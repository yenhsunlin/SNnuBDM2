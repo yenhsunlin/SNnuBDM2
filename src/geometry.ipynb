{
 "cells": [
  {
   "cell_type": "code",
   "execution_count": 6,
   "id": "167a64e8-dc23-4ce7-8952-ba3124dbd4bd",
   "metadata": {},
   "outputs": [],
   "source": [
    "import numpy as np\n",
    "from constants import *\n",
    "import matplotlib.pyplot as plt\n",
    "%config InlineBackend.figure_format='retina'\n",
    "import warnings\n",
    "# Define my own warning\n",
    "class ToleranceWarning(UserWarning):\n",
    "    pass"
   ]
  },
  {
   "cell_type": "code",
   "execution_count": 7,
   "id": "f0a2089d-96a7-4f56-9268-ba4e0be5cb94",
   "metadata": {},
   "outputs": [],
   "source": [
    "# %% Get the scattering angle alpha\n",
    "def get_alpha(d,Rstar,theta):\n",
    "    \"\"\"\n",
    "    Get the scattering angle alpha via law of cosine.\n",
    "    If we did it with law of cosine, then for the case of alpha > 0.5pi,\n",
    "    it will always return pi - alpha which cannot reflect the pratical\n",
    "    situation\n",
    "    \n",
    "    Input\n",
    "    ------\n",
    "    d: the l.o.s distance d\n",
    "    Rstar: the distance between Earth and SN\n",
    "    theta: the open-angle in rad\n",
    "    \n",
    "    Output\n",
    "    ------\n",
    "    alpha: scattering angle alpha in rad\n",
    "    \"\"\"\n",
    "    # Get D^2\n",
    "    D2 = get_D(d,Rstar,theta,True)\n",
    "    D = np.sqrt(D2)\n",
    "    # Get cos(alpha)\n",
    "    cosAlpha = (Rstar**2 - D2 - d**2)/(2*D*d)\n",
    "    # Get alpha via arccos\n",
    "    alpha = np.arccos(cosAlpha)\n",
    "    return alpha\n",
    "\n",
    "\n",
    "# %% Calculate D\n",
    "def get_D(d,Rstar,theta,is_square = False):\n",
    "    \"\"\"\n",
    "    Calculate the distance between SN and boosted point D\n",
    "    \n",
    "    Input\n",
    "    ------\n",
    "    d: the l.o.s distance d\n",
    "    Rstar: the distance between Earth and SN\n",
    "    theta: the open-angle in rad\n",
    "    is_square: return the square of such distance, default is False\n",
    "    \n",
    "    Output\n",
    "    ------\n",
    "    D: the distance D\n",
    "    \"\"\"\n",
    "    # Calculate D^2 via law of cosine\n",
    "    D2 = d**2 + Rstar**2 - 2*d*Rstar*np.cos(theta)\n",
    "    if is_square is False:\n",
    "        return np.sqrt(D2)\n",
    "    elif is_square is True:\n",
    "        return D2\n",
    "    else:\n",
    "        raise ValueError('\\'is_square\\' must be either True or False')\n",
    "    \n",
    "\n",
    "# %% Calculate ell\n",
    "def get_ell(d,Re,theta,beta,is_square = False):\n",
    "    \"\"\"\n",
    "    Calculate the distance ell\n",
    "    \n",
    "    Input\n",
    "    ------\n",
    "    d: the l.o.s distance d\n",
    "    Re: the distance between Earth and the GC\n",
    "    theta: the open-angle in rad\n",
    "    beta: the off-center angle in rad\n",
    "    is_square: return the square of such distance, default is False\n",
    "    \n",
    "    Output\n",
    "    ------\n",
    "    ell: the distance ell\n",
    "    \"\"\"\n",
    "    # Calculate ell^2 via law of cosine\n",
    "    ell2 = Re**2 + (d*np.cos(theta))**2 - 2*Re*d*np.cos(theta)*np.cos(beta)\n",
    "    if is_square is False:\n",
    "        return np.sqrt(ell2)\n",
    "    elif is_square is True:\n",
    "        return ell2\n",
    "    else:\n",
    "        raise ValueError('\\'is_square\\' must be either True or False')\n",
    "\n",
    "\n",
    "# %% Calculate r'\n",
    "def get_rprime(d,Rstar,Re,theta,phi,beta,tolerance = 1e-10):\n",
    "    \"\"\"\n",
    "    Calculate the distance from boosted point to GC r'\n",
    "    \n",
    "    Input\n",
    "    ------\n",
    "    d: the l.o.s distance d\n",
    "    Rstar: the distance between Earth and SN\n",
    "    Re: the distance between Earth and the GC\n",
    "    theta: the open-angle in rad\n",
    "    phi: the azimuth angle in rad\n",
    "    beta: the off-center angle in rad\n",
    "    \n",
    "    Output\n",
    "    ------\n",
    "    r': the distance r'\n",
    "    \"\"\"\n",
    "    # ell^2\n",
    "    ell2 = get_ell(d,Re,theta,beta,True)\n",
    "    # D^2\n",
    "    D2 = get_D(d,Rstar,theta,True)\n",
    "    # h\n",
    "    h = d*np.sin(theta)\n",
    "    # cos(iota) and iota\n",
    "    cosIota = (Re**2 - ell2 - (d*np.cos(theta))**2)/(2*np.cos(theta)*np.sqrt(ell2)*d)\n",
    "    # Using sin(arccos(x)) = sqrt(1-x^2)\n",
    "    if 0 <= np.abs(cosIota) <= 1:\n",
    "        # normal case\n",
    "        sinIota = np.sqrt(1 - cosIota**2)\n",
    "    elif Re == Rstar and beta == 0:\n",
    "        # This is GC = SN case and directly applies cos(iota) = 1\n",
    "        cosIota = 1\n",
    "        sinIota = 0\n",
    "    elif np.abs(cosIota) - 1 <= tolerance:\n",
    "        # This is not GC = SN case but would be very close.\n",
    "        # We firstly check if the cos(iota) is within the tolerance range.\n",
    "        # If so, then we consider it is GC ~ SN\n",
    "        cosIota = 1\n",
    "        sinIota = 0\n",
    "    else:\n",
    "        # cos(iota) is outside the tolerance range\n",
    "        warnings.warn('The inputs resulted cos(iota) outsides the tolerance range.', ToleranceWarning)\n",
    "        sinIota = np.sqrt(cosIota**2 - 1)\n",
    "    # r'^2\n",
    "    rp2 = ell2*cosIota**2 + (np.sqrt(ell2)*sinIota - h*np.sin(phi))**2 + h**2*np.cos(phi)**2\n",
    "    return np.sqrt(rp2)\n",
    "\n",
    "\n",
    "# %% Calculate l.o.s d for a given time\n",
    "def get_d(t,vx,Rstar,theta):\n",
    "    \"\"\"\n",
    "    Calculate the distance l.o.s d\n",
    "    \n",
    "    Input\n",
    "    ------\n",
    "    t: the arrival time of BDM at Earth relative to the first SN neutrino on the Earth\n",
    "    vx: BDM velocity in the unit of light speed\n",
    "    Rstar: the distance between Earth and SN\n",
    "    theta: the open-angle in rad\n",
    "    \n",
    "    Output\n",
    "    ------\n",
    "    d: the l.o.s\n",
    "    \"\"\"\n",
    "    zeta = Rstar + light_speed*t/kpc2cm\n",
    "    cosTheta = np.cos(theta)\n",
    "    d = (zeta - Rstar*vx*cosTheta - np.sqrt((Rstar**2 - zeta**2)*(1 - vx**2) + (Rstar*vx*cosTheta - zeta)**2))*vx/(1-vx**2)\n",
    "    return d\n",
    "\n",
    "\n",
    "# %% BDM velocity in the unit of light speed\n",
    "def vx(Tx,mx):\n",
    "    \"\"\"\n",
    "    The BDM velocity in the unit of light speed\n",
    "    \n",
    "    Input\n",
    "    ------\n",
    "    Tx: DM kinetic energy\n",
    "    mx: DM mass\n",
    "    \n",
    "    Output\n",
    "    ------\n",
    "    vx: VDM velocity\n",
    "    \"\"\"\n",
    "    return np.sqrt(Tx*(Tx+2*mx))/(Tx+mx)"
   ]
  },
  {
   "cell_type": "code",
   "execution_count": 16,
   "id": "a78d1c1d-b8c5-4b1c-aa2a-b5296e49e2b6",
   "metadata": {},
   "outputs": [],
   "source": [
    "t = 1e-3*yr2s\n",
    "Tx = 10\n",
    "mx = 1e-3\n",
    "theta_ls = np.logspace(-7,0.196,50)\n",
    "phi = 0.7\n",
    "Rstar = Re\n",
    "beta = 0.0"
   ]
  },
  {
   "cell_type": "code",
   "execution_count": 17,
   "id": "d94911aa-6bfa-4285-891a-f10a0122f204",
   "metadata": {},
   "outputs": [],
   "source": [
    "d_ls = []\n",
    "ell_ls =[]\n",
    "D_ls = []\n",
    "r_ls = []\n",
    "for theta in theta_ls:\n",
    "    d_ls.append(get_d(t,vx(Tx,mx),Rstar,theta))\n",
    "\n",
    "for i in range(50):\n",
    "    ell_ls.append(get_ell(d_ls[i],Re,theta_ls[i],beta))\n",
    "    D_ls.append(get_D(d_ls[i],Rstar,theta_ls[i]))\n",
    "    r_ls.append(get_rprime(d_ls[i],Rstar,Re,theta_ls[i],phi,beta,1e-15))"
   ]
  },
  {
   "cell_type": "code",
   "execution_count": 18,
   "id": "39df2f71-52b6-4023-902c-8ebe67d8b7c1",
   "metadata": {},
   "outputs": [
    {
     "data": {
      "text/plain": [
       "<matplotlib.legend.Legend at 0x7f9809daef40>"
      ]
     },
     "execution_count": 18,
     "metadata": {},
     "output_type": "execute_result"
    },
    {
     "data": {
      "image/png": "[encoded data removed]",
      "text/plain": [
       "<Figure size 432x288 with 1 Axes>"
      ]
     },
     "metadata": {
      "image/png": {
       "height": 249,
       "width": 379
      },
      "needs_background": "light"
     },
     "output_type": "display_data"
    }
   ],
   "source": [
    "plt.plot(theta_ls,d_ls,label='$d$')\n",
    "plt.plot(theta_ls,ell_ls,'.',label=r'$\\ell$')\n",
    "plt.plot(theta_ls,D_ls,label='$D$')\n",
    "plt.plot(theta_ls,r_ls,label='$r$')\n",
    "plt.xscale('log')\n",
    "plt.yscale('log')\n",
    "plt.legend()"
   ]
  },
  {
   "cell_type": "code",
   "execution_count": 15,
   "id": "743340e6-a00c-412e-9066-cdc3a23cfb56",
   "metadata": {},
   "outputs": [
    {
     "data": {
      "text/plain": [
       "\u001b[0;31mSignature:\u001b[0m \u001b[0mwarnings\u001b[0m\u001b[0;34m.\u001b[0m\u001b[0mwarn\u001b[0m\u001b[0;34m(\u001b[0m\u001b[0mmessage\u001b[0m\u001b[0;34m,\u001b[0m \u001b[0mcategory\u001b[0m\u001b[0;34m=\u001b[0m\u001b[0;32mNone\u001b[0m\u001b[0;34m,\u001b[0m \u001b[0mstacklevel\u001b[0m\u001b[0;34m=\u001b[0m\u001b[0;36m1\u001b[0m\u001b[0;34m,\u001b[0m \u001b[0msource\u001b[0m\u001b[0;34m=\u001b[0m\u001b[0;32mNone\u001b[0m\u001b[0;34m)\u001b[0m\u001b[0;34m\u001b[0m\u001b[0;34m\u001b[0m\u001b[0m\n",
       "\u001b[0;31mDocstring:\u001b[0m Issue a warning, or maybe ignore it or raise an exception.\n",
       "\u001b[0;31mType:\u001b[0m      builtin_function_or_method\n"
      ]
     },
     "metadata": {},
     "output_type": "display_data"
    }
   ],
   "source": [
    "warnings.warn?"
   ]
  },
  {
   "cell_type": "code",
   "execution_count": 14,
   "id": "7257eb8b-1686-4645-8940-02b0af7ea8f1",
   "metadata": {},
   "outputs": [
    {
     "data": {
      "text/plain": [
       "1.5143760438933807"
      ]
     },
     "execution_count": 14,
     "metadata": {},
     "output_type": "execute_result"
    }
   ],
   "source": [
    "rPrime(D,Rstar,Re,theta,phi,beta)"
   ]
  },
  {
   "cell_type": "code",
   "execution_count": 20,
   "id": "9472d32a-b844-47ac-a1c2-5d3ee9b6a3aa",
   "metadata": {},
   "outputs": [
    {
     "data": {
      "text/plain": [
       "1.5143760438933807"
      ]
     },
     "execution_count": 20,
     "metadata": {},
     "output_type": "execute_result"
    }
   ],
   "source": [
    "get_rprime(d_los(D,Rstar,theta),Rstar,Re,theta,phi,beta,tolerance = 1e-15)"
   ]
  },
  {
   "cell_type": "code",
   "execution_count": 15,
   "id": "eb5b596a-c626-47de-aa6b-093889747593",
   "metadata": {},
   "outputs": [
    {
     "name": "stdout",
     "output_type": "stream",
     "text": [
      "7.005658150586865 True True 1.5374999363678117 1.4977987188087702 1.5143760438933807\n"
     ]
    }
   ],
   "source": [
    "print(d_los(D,Rstar,theta),\n",
    "sanityCheckTheta(D,Rstar,theta),\n",
    "sanityCheckAlpha(D,Rstar,theta),\n",
    "ell(Rstar,Re,theta,beta),\n",
    "(Re- d_los(D,Rstar,theta)*np.cos(theta)),\n",
    "rPrime(D,Rstar,Re,theta,phi,beta))"
   ]
  },
  {
   "cell_type": "code",
   "execution_count": 36,
   "id": "5cefab94-2952-481a-a852-e1c881b38569",
   "metadata": {},
   "outputs": [
    {
     "data": {
      "text/plain": [
       "0.028366203012016263"
      ]
     },
     "execution_count": 36,
     "metadata": {},
     "output_type": "execute_result"
    }
   ],
   "source": [
    "getAlpha(D,Rstar,theta)/np.pi"
   ]
  },
  {
   "cell_type": "code",
   "execution_count": 37,
   "id": "9dc10233-856c-421b-84de-35c69f8ff067",
   "metadata": {},
   "outputs": [
    {
     "data": {
      "text/plain": [
       "True"
      ]
     },
     "execution_count": 37,
     "metadata": {},
     "output_type": "execute_result"
    }
   ],
   "source": [
    "sanityCheckAlpha(D,Rstar,theta)"
   ]
  },
  {
   "cell_type": "code",
   "execution_count": 40,
   "id": "264b942b-ae53-4593-814e-b5c9bf099d63",
   "metadata": {},
   "outputs": [
    {
     "data": {
      "text/plain": [
       "0.9995065603657316"
      ]
     },
     "execution_count": 40,
     "metadata": {},
     "output_type": "execute_result"
    }
   ],
   "source": [
    "np.cos(theta)"
   ]
  },
  {
   "cell_type": "code",
   "execution_count": 46,
   "id": "7de050a3-2896-4ea8-adea-deba452191e3",
   "metadata": {},
   "outputs": [
    {
     "data": {
      "text/plain": [
       "3.110176727053904"
      ]
     },
     "execution_count": 46,
     "metadata": {},
     "output_type": "execute_result"
    }
   ],
   "source": [
    "np.arccos((-D**2 + Rstar**2 + d_los(D,Rstar,theta,True))/(2*Rstar*d_los(D,Rstar,theta)))"
   ]
  },
  {
   "cell_type": "code",
   "execution_count": 44,
   "id": "58daf6cf-3d43-4e85-b249-138fa2130736",
   "metadata": {},
   "outputs": [
    {
     "data": {
      "text/plain": [
       "2.5009535579126934"
      ]
     },
     "execution_count": 44,
     "metadata": {},
     "output_type": "execute_result"
    }
   ],
   "source": [
    "d_los(D,Rstar,theta)"
   ]
  },
  {
   "cell_type": "code",
   "execution_count": 48,
   "id": "ce130da9-8844-4c9e-83a1-49d9cf45e460",
   "metadata": {},
   "outputs": [
    {
     "data": {
      "text/plain": [
       "3.1101767270538954"
      ]
     },
     "execution_count": 48,
     "metadata": {},
     "output_type": "execute_result"
    }
   ],
   "source": [
    "np.pi-theta"
   ]
  },
  {
   "cell_type": "code",
   "execution_count": null,
   "id": "a999e08b-854b-467d-be07-34be67502482",
   "metadata": {},
   "outputs": [],
   "source": []
  }
 ],
 "metadata": {
  "kernelspec": {
   "display_name": "Python 3 (ipykernel)",
   "language": "python",
   "name": "python3"
  },
  "language_info": {
   "codemirror_mode": {
    "name": "ipython",
    "version": 3
   },
   "file_extension": ".py",
   "mimetype": "text/x-python",
   "name": "python",
   "nbconvert_exporter": "python",
   "pygments_lexer": "ipython3",
   "version": "3.9.7"
  }
 },
 "nbformat": 4,
 "nbformat_minor": 5
}
