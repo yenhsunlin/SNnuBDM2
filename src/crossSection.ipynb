{
 "cells": [
  {
   "cell_type": "code",
   "execution_count": 70,
   "id": "359dd83c-1399-4102-9e96-948b6a807505",
   "metadata": {},
   "outputs": [],
   "source": [
    "import numpy as np\n",
    "import matplotlib.pyplot as plt\n",
    "from scipy.integrate import quad"
   ]
  },
  {
   "cell_type": "code",
   "execution_count": 11,
   "id": "818659c3-f53b-4e83-bfdf-5da50a858d38",
   "metadata": {},
   "outputs": [],
   "source": [
    "# Useful constant\n",
    "# 1/MeV to cm\n",
    "to_cm = 1.973e-11\n",
    "# 1/MeV^2 to cm^2\n",
    "to_cm2 = to_cm**2\n",
    "# electron mass in MeV\n",
    "me = 0.511\n",
    "# tau mass in MeV\n",
    "mtau = 1776.86\n",
    "# mu mass in MeV\n",
    "mmu = 105.658\n",
    "# gram to MeV\n",
    "g2MeV = 1/(1.783e-27)\n",
    "# 1/s to MeV\n",
    "s2MeV = 6.529e-22\n",
    "# Fine structure constant for EM interaction\n",
    "alphaEM = 1/137\n",
    "# Electric charge squared\n",
    "eSquared = 4*np.pi*alphaEM"
   ]
  },
  {
   "cell_type": "code",
   "execution_count": 118,
   "id": "e90451e2-e2d0-4210-9079-7cf9747bd74c",
   "metadata": {},
   "outputs": [],
   "source": [
    "def amplitudeSquared(s,t,u,m1,m2,mV):\n",
    "    \"\"\"\n",
    "    The spin-averaged amplitude squared for vector interactio\n",
    "    \n",
    "    Input\n",
    "    ------\n",
    "    s: Mandelstam variables s\n",
    "    t: Mandelstam variables t\n",
    "    u: Mandelstam variables u\n",
    "    m1: Mass of incoming particle 1\n",
    "    m2: Mass of particle 2 to be scattered off\n",
    "    mV: Mediator mass\n",
    "    \n",
    "    Output\n",
    "    ------\n",
    "    scalar: spin-averaged amplitude squared\n",
    "    \"\"\"\n",
    "    # Define sum over mass squared\n",
    "    massSum = m1**2 + m2**2\n",
    "    # Spin-averaged amplitude-squared\n",
    "    ampSq = 2/(t - mV**2)**2*(s**2 + u**2 + 4*t*massSum - 2*massSum**2)\n",
    "    return ampSq\n",
    "\n",
    "\n",
    "def getMomentum(m,T):\n",
    "    \"\"\"\n",
    "    Get the momentum of particle with mass m and kinetic energy T\n",
    "    \n",
    "    Input\n",
    "    ------\n",
    "    m: Mass of the particle\n",
    "    T: Kinetic energy of the particle\n",
    "    \n",
    "    Output\n",
    "    ------\n",
    "    scalar: The associated particle momentum\n",
    "    \"\"\"\n",
    "    return np.sqrt(T*(T + 2*m))\n",
    "\n",
    "\n",
    "def getVelocity(m,T):\n",
    "    \"\"\"\n",
    "    Get the velocity of particle with mass m and kinetic energy T\n",
    "    \n",
    "    Input\n",
    "    ------\n",
    "    m: Mass of the particle\n",
    "    T: Kinetic energy of the particle\n",
    "    \n",
    "    Output\n",
    "    ------\n",
    "    scalar: The associated dimensionless particle velocity\n",
    "    \"\"\"\n",
    "    return getMomentum(m,T)/(T + m)\n",
    "\n",
    "\n",
    "def getEv(mx,Tx,psi):\n",
    "    \"\"\"\n",
    "    Get the required neutrino energy to boost DM up with kinetic\n",
    "    energy Tx at angle psi\n",
    "    \n",
    "    Input\n",
    "    ------\n",
    "    mx: Mass of DM\n",
    "    Tx: BDM kinetic energy\n",
    "    psi: Scattering angle\n",
    "    \n",
    "    Output\n",
    "    ------\n",
    "    Ev: The requires neutrino energy. If the resulting Ev is negative,\n",
    "        then it is unphysical\n",
    "    \"\"\"\n",
    "    px = getMomentum(mx,Tx)\n",
    "    return -mx*Tx/(Tx - px*np.cos(psi))\n",
    "\n",
    "\n",
    "def dEv(mx,Tx,psi):\n",
    "    \"\"\"\n",
    "    Get the dEv/dTx\n",
    "    \n",
    "    Input\n",
    "    ------\n",
    "    mx: Mass of DM\n",
    "    Tx: BDM kinetic energy\n",
    "    psi: Scattering angle\n",
    "    \n",
    "    Output\n",
    "    ------\n",
    "    scalar: dEv/dTx\n",
    "    \"\"\"\n",
    "    px = getMomentum(mx,Tx)\n",
    "    x = np.cos(psi)\n",
    "    return mx**2*Tx*x/(Tx - px*x)**2\n",
    "    \n",
    "\n",
    "def stuLab(m2,T,psi):\n",
    "    \"\"\"\n",
    "    The Mandelstam variables s, t and u in lab frame for massless\n",
    "    incoming particle 1 and massive particle 2 at rest in the beginning\n",
    "    \n",
    "    Input\n",
    "    ------\n",
    "    m2: Mass of particle 2 to be scattered off\n",
    "    T: The kinetic energy received by m2 after scattering\n",
    "    psi: The scattering angle of m2 with respect to the incoming particle 1\n",
    "    \n",
    "    Output\n",
    "    ------\n",
    "    tup: (s,t,u)\n",
    "    \"\"\"\n",
    "    p = getMomentum(m2,T)\n",
    "    x = np.cos(psi)\n",
    "    s = m2**2*(p*x + T)/(p*x - T)\n",
    "    t = -2*m2*T\n",
    "    u = m2**2 - t*(1 + m2/(T - p*x))\n",
    "    return s,t,u\n",
    "\n",
    "\n",
    "def maxPsi(mx,Tx):\n",
    "    \"\"\"\n",
    "    Get the maximumly allowed scattering angle psi\n",
    "    \n",
    "    Input\n",
    "    ------\n",
    "    mx: Mass of DM\n",
    "    Tx: BDM kinetic energy\n",
    "    \n",
    "    Output\n",
    "    ------\n",
    "    psi: maximum psi allowed to have physical Ev, in rad\n",
    "    \"\"\"\n",
    "    maxCosValue = np.sqrt(Tx/(Tx + 2*mx))\n",
    "    return np.arccos(maxCosValue)\n",
    "\n",
    "\n",
    "def diffCrossSectionNuDM(mx,mV,Tx,psi,gV,gD):\n",
    "    \"\"\"\n",
    "    Get the differential Nu-DM scattering cross section over psi\n",
    "    \n",
    "    Input\n",
    "    ------\n",
    "    mx: Mass of DM\n",
    "    mV: Mediator mass\n",
    "    Tx: BDM kinetic energy\n",
    "    psi: Scattering angle\n",
    "    gV: The coupling strength for V-Nu-Nu vertex\n",
    "    gD: The coupling strength for V-DM-DM vertex\n",
    "    \n",
    "    Output\n",
    "    ------\n",
    "    scalar: differential cross section, cm^2 per rad\n",
    "    \"\"\"\n",
    "    if psi < maxPsi(mx,Tx):\n",
    "        # Get the Mandelstam variables\n",
    "        s,t,u = stuLab(mx,Tx,psi)\n",
    "        # Get the amplitude squared\n",
    "        ampSq = amplitudeSquared(s,t,u,0,mx,mV)\n",
    "        # Differential cross section\n",
    "        diffCrox = (gV*gD)**2*ampSq*np.sqrt((1/mx + 2/Tx)/mx**3)*np.sin(psi)*to_cm2\n",
    "    else:\n",
    "        diffCrox = 0\n",
    "    return diffCrox\n",
    "\n",
    "\n",
    "def kallenLambda(x,y,z):\n",
    "    return x**2 + y**2 + z**2 - 2*(x*y + y*z + z*x)\n",
    "\n",
    "\n",
    "def totalCrossSectionDMe(mx,mV,Tx,eps,gD):\n",
    "    \"\"\"\n",
    "    Get the total DM-electron scattering cross section\n",
    "    \n",
    "    Input\n",
    "    ------\n",
    "    mx: Mass of DM\n",
    "    mV: Mediator mass\n",
    "    Tx: BDM kinetic energy\n",
    "    eps: The coupling strength for V-e-e vertex\n",
    "    gD: The coupling strength for V-DM-DM vertex\n",
    "    \n",
    "    Output\n",
    "    ------\n",
    "    scalar: total cross section, cm^2\n",
    "    \"\"\"\n",
    "    s = mx**2 + me**2 + 2*(mx + Tx)*me \n",
    "    ExSq = (s + mx**2 - me**2)**2/4/s    # Ex^2\n",
    "    pSq = (s - (mx + me)**2)*(s - (mx - me)**2)/4/s    # p^2\n",
    "    \n",
    "    # Define the d\\sigma/dt\n",
    "    def _dsig(t):\n",
    "        u = 2*(mx**2 + me**2) - s - t\n",
    "        return to_cm2*amplitudeSquared(s,t,u,mx,me,mV)\n",
    "    \n",
    "    # Define the integration range\n",
    "    tm = 2*mx**2 - 2*(ExSq + pSq)\n",
    "    tp = 2*mx**2 - 2*(ExSq - pSq)\n",
    "    # Evaluating the integral \\int dt*d\\sigma/dt\n",
    "    totCrox,_ = quad(_dsig,tm,tp)\n",
    "    return totCrox*(gD*eps)**2**eSquared/64/np.pi/s/pSq"
   ]
  },
  {
   "cell_type": "code",
   "execution_count": 119,
   "id": "a0f90601-50db-4975-8d76-061cad542917",
   "metadata": {},
   "outputs": [],
   "source": [
    "mx_ls = np.logspace(-5,1,100)\n",
    "Tx = 100\n",
    "sig_xe_ls = []\n",
    "for mx in mx_ls:\n",
    "    sig_xe_ls.append(totalCrossSectionDMe(mx,mx/3,Tx,1,1))"
   ]
  },
  {
   "cell_type": "code",
   "execution_count": 120,
   "id": "e7620224-3372-4aca-b1a2-a30af9e51ae0",
   "metadata": {},
   "outputs": [
    {
     "data": {
      "image/png": "[encoded data removed]",
      "text/plain": [
       "<Figure size 640x480 with 1 Axes>"
      ]
     },
     "metadata": {},
     "output_type": "display_data"
    }
   ],
   "source": [
    "plt.plot(mx_ls,sig_xe_ls)\n",
    "plt.xscale('log')\n",
    "plt.yscale('log')"
   ]
  },
  {
   "cell_type": "code",
   "execution_count": 68,
   "id": "72b554f6-74dc-4233-8dc7-f0ab7f21e391",
   "metadata": {},
   "outputs": [
    {
     "name": "stderr",
     "output_type": "stream",
     "text": [
      "/var/folders/qf/n6502vwn5yz_j_q3fyn7nt140000gn/T/ipykernel_43875/1721939418.py:58: RuntimeWarning: divide by zero encountered in double_scalars\n",
      "  return -mx*Tx/(Tx - px*np.cos(psi))\n",
      "/var/folders/qf/n6502vwn5yz_j_q3fyn7nt140000gn/T/ipykernel_43875/1721939418.py:77: RuntimeWarning: divide by zero encountered in double_scalars\n",
      "  return mx**2*Tx*x/(Tx - px*x)**2\n",
      "/var/folders/qf/n6502vwn5yz_j_q3fyn7nt140000gn/T/ipykernel_43875/4145442203.py:10: RuntimeWarning: invalid value encountered in double_scalars\n",
      "  crox_ls.append(diffCrossSectionNuDM(mx,mV,Tx,psi,1,1)*dEv(mx,Tx,psi)*Ev**2/(np.exp(Ev)+1))\n"
     ]
    }
   ],
   "source": [
    "mx = 0.1\n",
    "Tx = 10\n",
    "mV = mx/3\n",
    "psi_ls = np.logspace(-5,np.log10(maxPsi(mx,Tx)),100)\n",
    "crox_ls = []\n",
    "Ev_ls = []\n",
    "dEvdTx_ls = []\n",
    "for psi in psi_ls:\n",
    "    Ev = getEv(mx,Tx,psi)\n",
    "    crox_ls.append(diffCrossSectionNuDM(mx,mV,Tx,psi,1,1)*dEv(mx,Tx,psi)*Ev**2/(np.exp(Ev)+1))\n",
    "    Ev_ls.append(Ev)\n",
    "    dEvdTx_ls.append(dEv(mx,Tx,psi))"
   ]
  },
  {
   "cell_type": "code",
   "execution_count": 69,
   "id": "1c6f22c9-1cbb-445b-a29b-72aeeb4567c9",
   "metadata": {},
   "outputs": [
    {
     "data": {
      "image/png": "[encoded data removed]",
      "text/plain": [
       "<Figure size 640x480 with 1 Axes>"
      ]
     },
     "metadata": {},
     "output_type": "display_data"
    }
   ],
   "source": [
    "plt.plot(psi_ls,crox_ls)\n",
    "plt.xscale('log')\n",
    "plt.yscale('log')"
   ]
  },
  {
   "cell_type": "code",
   "execution_count": 58,
   "id": "04f973bd-a6ce-48ab-8d8a-632d14660612",
   "metadata": {},
   "outputs": [
    {
     "data": {
      "image/png": "[encoded data removed]",
      "text/plain": [
       "<Figure size 640x480 with 1 Axes>"
      ]
     },
     "metadata": {},
     "output_type": "display_data"
    }
   ],
   "source": [
    "plt.plot(psi_ls,Ev_ls)\n",
    "plt.xscale('log')\n",
    "plt.yscale('log')"
   ]
  },
  {
   "cell_type": "code",
   "execution_count": 62,
   "id": "ddf1d735-7be8-4c56-bdcd-8f1a4da94818",
   "metadata": {},
   "outputs": [
    {
     "data": {
      "image/png": "[encoded data removed]",
      "text/plain": [
       "<Figure size 640x480 with 1 Axes>"
      ]
     },
     "metadata": {},
     "output_type": "display_data"
    }
   ],
   "source": [
    "plt.plot(psi_ls,dEvdTx_ls)\n",
    "plt.xscale('log')\n",
    "plt.yscale('log')"
   ]
  },
  {
   "cell_type": "code",
   "execution_count": 66,
   "id": "614a5726-ed4a-4255-b856-7aa006a87be1",
   "metadata": {},
   "outputs": [
    {
     "data": {
      "text/plain": [
       "41.357670369729895"
      ]
     },
     "execution_count": 66,
     "metadata": {},
     "output_type": "execute_result"
    }
   ],
   "source": [
    "dEv(mx,Tx,0.1)"
   ]
  },
  {
   "cell_type": "code",
   "execution_count": 48,
   "id": "a8bf60cf-f0ce-49c9-9eb8-ec3276139993",
   "metadata": {},
   "outputs": [
    {
     "data": {
      "text/plain": [
       "1.0471975511965976"
      ]
     },
     "execution_count": 48,
     "metadata": {},
     "output_type": "execute_result"
    }
   ],
   "source": [
    "np.arccos(0.5)"
   ]
  },
  {
   "cell_type": "code",
   "execution_count": 50,
   "id": "fffe4dc0-e908-43c0-b3aa-58577b1c9b86",
   "metadata": {},
   "outputs": [
    {
     "data": {
      "text/plain": [
       "0.955336489125606"
      ]
     },
     "execution_count": 50,
     "metadata": {},
     "output_type": "execute_result"
    }
   ],
   "source": [
    "np.cos(0.3)"
   ]
  },
  {
   "cell_type": "code",
   "execution_count": 123,
   "id": "4cb6a0c9-d8b5-4be0-a580-343fd5c9c6f4",
   "metadata": {},
   "outputs": [
    {
     "data": {
      "text/plain": [
       "0.5639426413606289"
      ]
     },
     "execution_count": 123,
     "metadata": {},
     "output_type": "execute_result"
    }
   ],
   "source": [
    "maxPsi(1,5)"
   ]
  },
  {
   "cell_type": "code",
   "execution_count": 124,
   "id": "631b09c9-dacd-41f6-be60-947c0e6e6f44",
   "metadata": {},
   "outputs": [
    {
     "data": {
      "text/plain": [
       "0.1404897017535205"
      ]
     },
     "execution_count": 124,
     "metadata": {},
     "output_type": "execute_result"
    }
   ],
   "source": [
    "maxPsi(1,100)"
   ]
  },
  {
   "cell_type": "code",
   "execution_count": null,
   "id": "5e965713-cb6b-4a45-8e54-4bee76b76d86",
   "metadata": {},
   "outputs": [],
   "source": []
  }
 ],
 "metadata": {
  "kernelspec": {
   "display_name": "Python 3 (ipykernel)",
   "language": "python",
   "name": "python3"
  },
  "language_info": {
   "codemirror_mode": {
    "name": "ipython",
    "version": 3
   },
   "file_extension": ".py",
   "mimetype": "text/x-python",
   "name": "python",
   "nbconvert_exporter": "python",
   "pygments_lexer": "ipython3",
   "version": "3.9.13"
  }
 },
 "nbformat": 4,
 "nbformat_minor": 5
}
