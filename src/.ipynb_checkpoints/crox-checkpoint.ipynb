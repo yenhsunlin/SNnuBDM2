{
 "cells": [
  {
   "cell_type": "code",
   "execution_count": 1,
   "id": "b8554e2d-42ca-4ded-90ca-8af0df07c667",
   "metadata": {},
   "outputs": [],
   "source": [
    "import numpy as np\n",
    "import matplotlib.pyplot as plt\n",
    "%config InlineBackend.figure_format='retina'\n",
    "from scipy.integrate import quad,dblquad\n",
    "from scipy.optimize import root_scalar\n",
    "#import multiprocessing as mp\n",
    "import vegas"
   ]
  },
  {
   "cell_type": "code",
   "execution_count": 2,
   "id": "469bf58b-a07a-4101-8007-9fcd9cb9ec10",
   "metadata": {},
   "outputs": [],
   "source": [
    "# Useful constant\n",
    "# 1/MeV^2 to cm^2\n",
    "to_cm2 = (1.973e-11)**2\n",
    "# electron mass in MeV\n",
    "me = 0.511\n",
    "# tau mass in MeV\n",
    "mtau = 1776.86\n",
    "# mu mass in MeV\n",
    "mmu = 105.658\n",
    "# gram to MeV\n",
    "g2MeV = 1/(1.783e-27)"
   ]
  },
  {
   "cell_type": "code",
   "execution_count": 41,
   "id": "39a506b5-55d5-4ae9-8458-56de6270fd22",
   "metadata": {},
   "outputs": [],
   "source": [
    "def scatteringAmplitudeSquaree(s,t,mf,mx,mV):\n",
    "    \"\"\"\n",
    "    The spin-averaged amplitude squared for vector interaction\n",
    "    \n",
    "    Input\n",
    "    ------\n",
    "    s: Mandelstam variables s\n",
    "    t: Mandelstam variables t\n",
    "    mf: f mass\n",
    "    mx: DM mass \n",
    "    mV: mediator mass\n",
    "    \n",
    "    Output\n",
    "    ------\n",
    "    scalar: spin-averaged amplitude squared, dimensionless\n",
    "    \"\"\"\n",
    "    # Define sum over mass squared and u channel\n",
    "    massSum = mf**2 + mx**2\n",
    "    u = 2*masSum - s - t\n",
    "    \n",
    "    # Spin-averaged amplitude-squared\n",
    "    ampSquared = 2/(t-mV**2)**2*(s**2+u**2+4*t*massSum-2*massSum**2)\n",
    "    return ampSquared\n",
    "\n",
    "\n",
    "def getBDMp(Tx,mx):\n",
    "    \"\"\"\n",
    "    Get the BDM momentum, please do check if the inputs meet the\n",
    "    physical requirements\n",
    "    \n",
    "    Input\n",
    "    ------\n",
    "    Tx: BDM kinetic energy\n",
    "    mx: DM mass\n",
    "    \n",
    "    Output\n",
    "    ------\n",
    "    px: the BDM momentum\n",
    "    \"\"\"\n",
    "    return np.sqrt(Tx*(Tx + 2*mx))\n",
    "\n",
    "\n",
    "def getCosPhi(Ev,Tx,mx,psi):\n",
    "    \"\"\"\n",
    "    Get the cos(phi) where phi is the neutrino scattering angle,\n",
    "    please do check if the inputs meet the physical requirements\n",
    "    \n",
    "    Input\n",
    "    ------\n",
    "    Ev: the initial neutrino energy\n",
    "    Tx: the BDM kinetic energy\n",
    "    mx: the DM mass\n",
    "    psi: the DM scattering angle\n",
    "    \n",
    "    Output\n",
    "    ------\n",
    "    cos(phi): the cosine value of the neutrino scattering phi\n",
    "    \"\"\"\n",
    "    return 1/np.sqrt(1 + np.sin(psi)**2/(Ev/getBDMp(Tx,mx) - np.cos(psi))**2)\n",
    "\n",
    "\n",
    "def getEv_prime(Ev,Tx,mx,psi):\n",
    "    \"\"\"\n",
    "    Neutrino energy after scattering, Ev_prime, please do check if the\n",
    "    inputs meet the physical requirements\n",
    "    \"\"\"\n",
    "    return Ev*mx/(mx + Ev*(1 - getCosPhi(Ev,Tx,mx,psi)))\n",
    "\n",
    "\n",
    "def getEvCosPhi(Tx,mx,psi,max_Ev = 1000):\n",
    "    \"\"\"\n",
    "    Get the initial neutrino energy and scattering angle cos(phi) for\n",
    "    a given (Tx,mx,psi). Additional \\'flag\\' and \\'msg\\' will be output\n",
    "    to indicate the set of solution is valid or not\n",
    "    \n",
    "    Input\n",
    "    ------\n",
    "    Tx: BDM kinetic energy\n",
    "    mx: DM mass\n",
    "    psi: the DM scattering angle, according to the scheme, it should\n",
    "    be negative (below the horizon)\n",
    "    max_Ev: Maximum Ev to be searched for the solution of the algorithm\n",
    "    \n",
    "    Output\n",
    "    ------\n",
    "    tuple\n",
    "    Ev: Required initial neutrino energy\n",
    "    cos(phi): the cosine value of the neutrino scattering\n",
    "    flag: \\'valid\\' or \\'invalid\\' for the solution\n",
    "    msg: 1: Pass, if flag returns \\'valid\\'\n",
    "         2: Solution exists but might not be physical because energy-\n",
    "            momentum conservation is violated. Such violation could be\n",
    "            due to round-off error. Further check is necessary\n",
    "         3: The algorithm cannot find the solution for Ev for the given\n",
    "            \\'max_Ev\\'.\n",
    "    \"\"\"\n",
    "    # Equation for getting Tx\n",
    "    def _Tx(Ev):\n",
    "        return Ev - getEv_prime(Ev,Tx,mx,psi)\n",
    "    # Target function for root_scalar to find Ev -> Ev_prime - Ev = Tx\n",
    "    def _f(Ev):\n",
    "        return _Tx(Ev) - Tx\n",
    "    # Try to solve the Ef with root_scalar\n",
    "    try:\n",
    "        Ev = root_scalar(_f, bracket=[0, max_Ev], method='brentq').root\n",
    "        # Get phi via arccos instead of arctan to aviod minus phi \n",
    "        cosPhi = getCosPhi(Ev,Tx,mx,psi)\n",
    "        # Check the energy-momentum conservation\n",
    "        if Ev/getBDMp(Tx,mx) >= 1:\n",
    "            # pass!\n",
    "            flag = 'valid'\n",
    "            msg = 1\n",
    "        else:\n",
    "            # solution exists but energy-momentum conservation is violated\n",
    "            flag = 'invalid'\n",
    "            msg = 2\n",
    "    except:\n",
    "        # root_scalar cannot find Ev in the given range\n",
    "        Ev = np.nan\n",
    "        cosPhi = np.nan\n",
    "        flag = 'invalid'\n",
    "        msg = 3\n",
    "\n",
    "    return Ev,cosPhi,flag,msg\n",
    "\n",
    "\n",
    "def fiDiffCrossSectionElectronDM(s,t,mf,mx,mV):\n",
    "    \"\"\"\n",
    "    Frame-independent differential cross section, the Mandelstam variable u is\n",
    "    determined by the relation 2(mx^2+mf^2)-s-t\n",
    "    \n",
    "    Input\n",
    "    ------\n",
    "    s: Mandelstam variables s\n",
    "    t: Mandelstam variables t\n",
    "    mf: the incoming f mass\n",
    "    mx: the DM mass, at rest initially \n",
    "    mV: mediator mass\n",
    "    \n",
    "    Output\n",
    "    ------\n",
    "    scalar: Frame-independent differential cross section  with unit 1/MeV^3\n",
    "    \"\"\"\n",
    "    #u = 2*(mf**2+mx**2)-s-t\n",
    "    p_star_squared = (s-(mf+mx)**2)*(s-(mf-mx)**2)/4\n",
    "    sp_avg_M2 = spin_avg_M2_2vector(s,t,mf,mx,mV)\n",
    "    diff_sig = sp_avg_M2/(64*np.pi*p_star_squared)\n",
    "    \n",
    "    return diff_sig\n",
    "\n",
    "\n",
    "def labDiffCrossSectionNuDM(Tx,mx,mV,psi):\n",
    "    \"\"\"\n",
    "    Lab-frame differential cross section for neutrino-DM scattering\n",
    "    \n",
    "    Input\n",
    "    ------\n",
    "    Ev: the initial neutrino energy\n",
    "    mx: DM mass \n",
    "    mV: mediator mass\n",
    "    psi: the DM scattering angle in rad\n",
    "    \n",
    "    Output\n",
    "    ------\n",
    "    scalar: Lab-frame differential cross section with unit 1/MeV^2 * 1/rad\n",
    "    \"\"\"\n",
    "    # Neutrino scattering angle phi\n",
    "    cosPhi = 1/np.sqrt(1 + np.sin(psi)**2/(Ev/px(Tx,mx) - np.cos(psi))**2)\n",
    "    # Energy of particle f after scattering\n",
    "    Ev_prime = Ev*mx/(mx+Ev*(1 - cosPhi))\n",
    "    \n",
    "    # The Mandelstam variables\n",
    "    s = 2*Ev*mx + mx**2\n",
    "    t = -2*Ev*Ev_prime*(1 - cosPhi)\n",
    "    # The scattering amplitude squared\n",
    "    amp = scatteringAmplitudeSquaree(s,t,0,mx,mV)\n",
    "    # The lab-frame differential cross section\n",
    "    diffCrox = (1/32/np.pi)/(mx + Ev*(1 - cosPhi))**2*amp\n",
    "    \n",
    "    return diffCrox\n",
    "\n",
    "\n",
    "def Kallen_lambda(x,y,z):\n",
    "    \"\"\"\n",
    "    The Kallen lambda function\n",
    "    \"\"\"\n",
    "    return x**2+y**2+z**2-2*(x*y+y*z+z*x)\n",
    "\n",
    "\n",
    "def get_tpm(m1,m2,s):\n",
    "    \"\"\"\n",
    "    Get the integration range for frame-independent cross section\n",
    "    \n",
    "    Input\n",
    "    ------\n",
    "    m1: the particle that is going to scatter\n",
    "    m2: the particle that is going to be scattered off\n",
    "    s: the s-channel\n",
    "    \n",
    "    Output\n",
    "    ------\n",
    "    tuple: the allowd range for t: (t_max,t_min)\n",
    "    \"\"\"\n",
    "    E_star2 = (s + m1**2 - m2**2)**2/4/s\n",
    "    p_star2 = Kallen_lambda(s,m1**2,m2**2)/4/s\n",
    "    tp = 2*m1**2 -2*E_star2 + 2*p_star2\n",
    "    tm = 2*m1**2 -2*E_star2 - 2*p_star2\n",
    "    #tp = (mx**2+mf**2)/2 - s/2 - (mx**2-mf**2)**2/2/s + Kallen_lambda(s,mf**2,mx**2)/2/s\n",
    "    #tm = tp - Kallen_lambda(s,mf**2,mx**2)/s\n",
    "    #tm = (mx**2+mf**2)/2 - s/2 - (mx**2-mf**2)**2/2/s - Kallen_lambda(s,mx**2,mf**2)/2/s\n",
    "    return tp,tm\n",
    "\n",
    "\n",
    "\n",
    "\n",
    "\n",
    "\n",
    "\n",
    "\n"
   ]
  },
  {
   "cell_type": "code",
   "execution_count": 42,
   "id": "9f78da46-c0f0-4717-be01-859d83edad5c",
   "metadata": {},
   "outputs": [
    {
     "data": {
      "text/plain": [
       "(3.001831164877354, 0.454232660085072, 'valid', 1)"
      ]
     },
     "execution_count": 42,
     "metadata": {},
     "output_type": "execute_result"
    }
   ],
   "source": [
    "getEvCosPhi(3,0.001,0.3*np.pi)"
   ]
  },
  {
   "cell_type": "code",
   "execution_count": 14,
   "id": "c97836f4-0f39-4fac-a5a7-29b70eb68256",
   "metadata": {},
   "outputs": [],
   "source": [
    "# Kinetic mixing from mu/tau loops, only important when the direct mixing \\epsilon = 0\n",
    "def eps_prime(gV,q):\n",
    "    \"\"\"\n",
    "    Get the epsilon induced by mu/tau loops\n",
    "    \n",
    "    Input\n",
    "    ------\n",
    "    gV: the DM-lepton coupling constant\n",
    "    q: the momentum transfer, in MeV\n",
    "    \n",
    "    Output\n",
    "    ------\n",
    "    scalar: the epsilon\n",
    "    \"\"\"\n",
    "    # electric charge\n",
    "    e = np.sqrt(4*np.pi/137)\n",
    "    \n",
    "    # Define q^2. In this t-channel, q^2 is always spacelike\n",
    "    q2 = -q**2\n",
    "    # define the integrand\n",
    "    integ = lambda x: x*(1-x)*np.log((mtau**2-x*(1-x)*q2)/(mmu**2-x*(1-x)*q2))*e*gV/2/np.pi**2\n",
    "    # evaluate epsilon\n",
    "    eps_p,_ = quad(integ,0,1)\n",
    "    return -eps_p\n",
    "\n",
    "\n",
    "def diff_sig_xnu(Tx,mx,mV,psi,gV,gD,max_Ef=1000):\n",
    "    \"\"\"\n",
    "    Differential cross section for SNnu-DM scattering at scattering angle psi for DM\n",
    "    \n",
    "    Input\n",
    "    ------\n",
    "    Ev: The initial SN neutrino energy, MeV\n",
    "    Tx: The DM kinetic energy after boost, MeV\n",
    "    mx: DM mass, MeV\n",
    "    mV: mediator mass, MeV\n",
    "    psi: The DM scattering angle after boost, rad\n",
    "    gV: the DM-nu coupling constant\n",
    "    gD: the DM-DM coupling constant\n",
    "    max_Ef: Upper limit for the root finding algortihm to find the solution.\n",
    "            Try to increase if get_Ef_phi returns error\n",
    "    \n",
    "    Output\n",
    "    ------\n",
    "    scalar: cm^2\n",
    "    \"\"\"\n",
    "    # Get the associated initial nu energy and its scattering angle phi\n",
    "    Ev,phi,flag,_ = get_Ef_phi(Tx,mx,psi,max_Ef)\n",
    "    \n",
    "    # Calculating the DM-nu cross section at angle psi and converts it into cm^2\n",
    "    if flag == 'valid':\n",
    "        crox = (gV*gD)**2*diff_sig_lab(Ev,mx,mV,phi)*to_cm2\n",
    "    elif flag == 'invalid': # if it is invalid, the inputs cannot happen\n",
    "        crox = 0\n",
    "    return crox\n",
    "\n",
    "\n",
    "def sig_xe(Tx,mx,mV,eps,gD):\n",
    "    \"\"\"\n",
    "    The total cross section for DM-electron scattering in the detector\n",
    "    \n",
    "    Input\n",
    "    ------\n",
    "    Tx: The DM kinetic energy after boost, MeV\n",
    "    mx: DM mass, MeV\n",
    "    mV: mediator mass, MeV\n",
    "    B: [bV,bA], coefficients for vector and axial-vector interactions at vertex\n",
    "        Gamma. B = [1,0] indicates vector interaction only\n",
    "    C: [cV,cA], coefficients for vector and axial-vector interactions at vertex\n",
    "        Gamma_prime. C = [1,0] indicates vector interaction only\n",
    "    \n",
    "    Output\n",
    "    ------\n",
    "    scalar: cm^2\n",
    "    \"\"\"\n",
    "    Ex = Tx+mx    # The DM total energy\n",
    "    s = mx**2+me**2+2*Ex*me    # The s channel\n",
    "    tp,tm = get_tpm(mx,me,s)    # The allowed range for t channel\n",
    "    e2 = 4*np.pi/137    # e^2 in terms of fine structure constant\n",
    "    \n",
    "    # evaluate cross section\n",
    "    dsdt = lambda t: diff_sig_fi(s,t,mx,me,mV)*to_cm2*(eps*gD)**2*e2\n",
    "    crox,_ = quad(dsdt,tm,tp)\n",
    "    \n",
    "    return crox"
   ]
  },
  {
   "cell_type": "code",
   "execution_count": 16,
   "id": "2be17763-6a10-4b78-947c-7ba4f000fed2",
   "metadata": {},
   "outputs": [
    {
     "data": {
      "text/plain": [
       "3.574988727822382e-24"
      ]
     },
     "execution_count": 16,
     "metadata": {},
     "output_type": "execute_result"
    }
   ],
   "source": [
    "sig_xe(50,1,1/3,1,1)"
   ]
  },
  {
   "cell_type": "code",
   "execution_count": 42,
   "id": "6c0f277f-8c5d-4d60-a5d4-07002b10330b",
   "metadata": {},
   "outputs": [
    {
     "data": {
      "text/plain": [
       "3.574988727822382e-24"
      ]
     },
     "execution_count": 42,
     "metadata": {},
     "output_type": "execute_result"
    }
   ],
   "source": [
    "sig_xe(50,1,1/3,1,1)"
   ]
  },
  {
   "cell_type": "code",
   "execution_count": 43,
   "id": "e5976b4b-b3dc-4b0a-8d17-40580713eb91",
   "metadata": {},
   "outputs": [
    {
     "data": {
      "text/plain": [
       "(-50.13056050000003, -72.75507243168784)"
      ]
     },
     "execution_count": 43,
     "metadata": {},
     "output_type": "execute_result"
    }
   ],
   "source": [
    "get_tpm(10,me,10**2+me**2+2*(50+10)*me)"
   ]
  },
  {
   "cell_type": "code",
   "execution_count": 31,
   "id": "6ba88c06-0d4d-4ba8-9406-2207baa67653",
   "metadata": {},
   "outputs": [
    {
     "data": {
      "text/plain": [
       "(-0.6305605000000014, -51.5016663688382)"
      ]
     },
     "execution_count": 31,
     "metadata": {},
     "output_type": "execute_result"
    }
   ],
   "source": [
    "get_tpm(1,me,1**2+me**2+2*(50+1)*me)"
   ]
  },
  {
   "cell_type": "code",
   "execution_count": 44,
   "id": "3b8513d0-c909-480e-94b4-047443300320",
   "metadata": {},
   "outputs": [],
   "source": [
    "tlist = np.linspace(-72.75507243168784, -50.13056050000003,50)"
   ]
  },
  {
   "cell_type": "code",
   "execution_count": 45,
   "id": "72dac97f-a6fe-4d7e-b662-734848cd47dd",
   "metadata": {},
   "outputs": [],
   "source": [
    "siglist = []\n",
    "for t in tlist:\n",
    "    s = 10**2+me**2+2*(50+10)*me\n",
    "    siglist.append(diff_sig_fi(s,t,10,me,10/3))"
   ]
  },
  {
   "cell_type": "code",
   "execution_count": 46,
   "id": "fabe253d-2b6c-4a0e-9d47-fb1268f8a37d",
   "metadata": {},
   "outputs": [
    {
     "data": {
      "text/plain": [
       "[<matplotlib.lines.Line2D at 0x7fa6003de1c0>]"
      ]
     },
     "execution_count": 46,
     "metadata": {},
     "output_type": "execute_result"
    },
    {
     "data": {
      "image/png": "[encoded data removed]",
      "text/plain": [
       "<Figure size 432x288 with 1 Axes>"
      ]
     },
     "metadata": {
      "image/png": {
       "height": 258,
       "width": 386
      },
      "needs_background": "light"
     },
     "output_type": "display_data"
    }
   ],
   "source": [
    "plt.plot(tlist,siglist)"
   ]
  },
  {
   "cell_type": "code",
   "execution_count": 29,
   "id": "f6ab869f-8e67-432d-9c2e-00824c87b4fb",
   "metadata": {},
   "outputs": [
    {
     "data": {
      "text/plain": [
       "(-50.130560499999994, -72.75507243168788)"
      ]
     },
     "execution_count": 29,
     "metadata": {},
     "output_type": "execute_result"
    }
   ],
   "source": [
    "get_tpm(me,10,10**2+me**2+2*(50+10)*me)"
   ]
  },
  {
   "cell_type": "code",
   "execution_count": 57,
   "id": "7351bbf1-e873-4c1d-840b-9daa4a187c42",
   "metadata": {},
   "outputs": [
    {
     "data": {
      "text/plain": [
       "(-1.0658141036401503e-14, -22.624511931687824)"
      ]
     },
     "execution_count": 57,
     "metadata": {},
     "output_type": "execute_result"
    }
   ],
   "source": [
    "get_tpm(10,me,10**2+me**2+2*(50+10)*me)"
   ]
  },
  {
   "cell_type": "code",
   "execution_count": 36,
   "id": "7323c5a2-8881-4de4-88c2-b1d9d02edd7e",
   "metadata": {},
   "outputs": [],
   "source": [
    "s=10**2+me**2+2*(50+10)*me"
   ]
  },
  {
   "cell_type": "code",
   "execution_count": 37,
   "id": "3e59ccd3-2067-4dda-b214-62495eb1c4cf",
   "metadata": {},
   "outputs": [
    {
     "data": {
      "text/plain": [
       "3655.6939999999995"
      ]
     },
     "execution_count": 37,
     "metadata": {},
     "output_type": "execute_result"
    }
   ],
   "source": [
    "(s-(10+me)**2)*(s-(10-me)**2)"
   ]
  },
  {
   "cell_type": "code",
   "execution_count": 51,
   "id": "8367134b-b854-4d59-ba72-4ab5cc41e600",
   "metadata": {},
   "outputs": [],
   "source": [
    "def sig_xnu_bar(Ev_range,mx,mV,gV,gD):\n",
    "    # Energy range of interest\n",
    "    Ev_min,Ev_max = Ev_range\n",
    "    \n",
    "    # Frame-independent cross section\n",
    "    def _sig_xnu(Ev):\n",
    "        s = 2*Ev*mx + mx**2\n",
    "        tp,tm = get_tpm(0,mx,s)\n",
    "        crox,_ = quad(lambda t: diff_sig_fi(s,t,0,mx,mV)*to_cm2,tm,tp)\n",
    "        return crox\n",
    "    \n",
    "    # Evaluate energy-average cross section\n",
    "    avg_crox,_ = quad(_sig_xnu,Ev_min,Ev_max)\n",
    "    # Including coupling constants\n",
    "    avg_crox = avg_crox*(gV*gD)**2/(4*np.pi)/(Ev_max-Ev_min)\n",
    "    return avg_crox\n",
    "\n",
    "\n",
    "def sig_xe_bar(Tx_range,mx,mV,eps,gD):\n",
    "    \n",
    "    # Get the Txmin and Txmax\n",
    "    Tx_min,Tx_max = Tx_range\n",
    "    \n",
    "    #sig_xe(Tx,mx,mV,B,C,eps,gD)\n",
    "    _sig_xe = lambda Tx: sig_xe(Tx,mx,mV,eps,gD)#sig_xe_vector(Tx,mx,mV,eps,gD)\n",
    "    \n",
    "    avg_crox,_ = quad(_sig_xe,Tx_min,Tx_max)\n",
    "    avg_crox = avg_crox/(Tx_max-Tx_min)\n",
    "    return avg_crox\n"
   ]
  },
  {
   "cell_type": "code",
   "execution_count": 66,
   "id": "f7d41de6-3592-4ce2-9b0a-63c71147b899",
   "metadata": {},
   "outputs": [],
   "source": [
    "mx_list = np.logspace(-6,1,50)\n",
    "Tmax_list = np.logspace(-2,4,20)\n",
    "sig_xnu_list = []\n",
    "sig_xe_list = []\n",
    "for mx in mx_list:\n",
    "    sig_xnu_list.append(sig_xnu_bar([0.5,100],mx,mx/3,1,1))\n",
    "    sig_xe_list.append(sig_xe_bar([0.5,100],mx,mx/3,1,1))\n",
    "sig_xnu_list = np.array(sig_xnu_list)\n",
    "sig_xe_list = np.array(sig_xe_list)"
   ]
  },
  {
   "cell_type": "code",
   "execution_count": 67,
   "id": "a999e0ce-9ffa-46a6-a648-930f2c42a645",
   "metadata": {},
   "outputs": [
    {
     "data": {
      "image/png": "[encoded data removed]",
      "text/plain": [
       "<Figure size 432x288 with 1 Axes>"
      ]
     },
     "metadata": {
      "image/png": {
       "height": 281,
       "width": 400
      },
      "needs_background": "light"
     },
     "output_type": "display_data"
    }
   ],
   "source": [
    "plt.plot(mx_list/3,sig_xnu_list,label=r'$\\chi\\nu$, $\\Omega$-average')\n",
    "plt.plot(mx_list/3,sig_xe_list,label='$\\chi e$, $\\Omega$-integrated')\n",
    "plt.xscale('log')\n",
    "plt.yscale('log')\n",
    "#plt.ylim(1e-27,1e-15)\n",
    "plt.xlabel(r'$m_V$ [MeV]')\n",
    "plt.ylabel(r'$\\bar{\\sigma}~[{\\rm cm}^2]$')\n",
    "plt.title(r'$\\{\\varepsilon,g_V,g_D\\}=\\{1,1,1\\}~{\\rm and}~m_\\chi=3m_V$')\n",
    "plt.legend()\n",
    "#plt.savefig('../plots/cross_section_lighter_mV.pdf',bbox_inches='tight')\n",
    "plt.show()"
   ]
  },
  {
   "cell_type": "code",
   "execution_count": 65,
   "id": "2195a2b4-eea7-4c9e-86b6-1a936acde5df",
   "metadata": {},
   "outputs": [
    {
     "data": {
      "text/plain": [
       "array([1.80271376e-16, 1.18098750e-16, 7.73676882e-17, 5.06836065e-17,\n",
       "       3.32021031e-17, 2.17494717e-17, 1.42465271e-17, 9.33113560e-18,\n",
       "       6.11092502e-18, 4.00127730e-18, 2.61919320e-18, 1.71376011e-18,\n",
       "       1.12059963e-18, 7.32025196e-19, 4.77491702e-19, 3.10787744e-19,\n",
       "       2.01645007e-19, 1.30240976e-19, 8.35961986e-20, 5.32114061e-20,\n",
       "       3.35158258e-20, 2.08477667e-20, 1.27877064e-20, 7.72801813e-21,\n",
       "       4.59899061e-21, 2.69306117e-21, 1.54963232e-21, 8.74288753e-22,\n",
       "       4.82140165e-22, 2.58863267e-22, 1.34707506e-22, 6.76406574e-23,\n",
       "       3.26655440e-23, 1.51625428e-23, 6.78787435e-24, 2.95255534e-24,\n",
       "       1.25934906e-24, 5.30566575e-25, 2.21436813e-25, 9.14435217e-26,\n",
       "       3.72189744e-26, 1.48447137e-26, 5.75569646e-27, 2.14560516e-27,\n",
       "       7.57703721e-28, 2.48812412e-28, 7.44500480e-29, 1.99796760e-29,\n",
       "       4.79777541e-30, 1.04735291e-30])"
      ]
     },
     "execution_count": 65,
     "metadata": {},
     "output_type": "execute_result"
    }
   ],
   "source": [
    "sig_xnu_list"
   ]
  },
  {
   "cell_type": "code",
   "execution_count": null,
   "id": "a0534980-fcb7-4184-86f3-725db5c01e4e",
   "metadata": {},
   "outputs": [],
   "source": []
  }
 ],
 "metadata": {
  "kernelspec": {
   "display_name": "Python 3 (ipykernel)",
   "language": "python",
   "name": "python3"
  },
  "language_info": {
   "codemirror_mode": {
    "name": "ipython",
    "version": 3
   },
   "file_extension": ".py",
   "mimetype": "text/x-python",
   "name": "python",
   "nbconvert_exporter": "python",
   "pygments_lexer": "ipython3",
   "version": "3.9.7"
  }
 },
 "nbformat": 4,
 "nbformat_minor": 5
}
