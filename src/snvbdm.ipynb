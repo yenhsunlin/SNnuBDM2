{
 "cells": [
  {
   "cell_type": "code",
   "execution_count": 1,
   "id": "3f20d799-6eed-4094-875e-c8a74b863c40",
   "metadata": {},
   "outputs": [],
   "source": [
    "import numpy as np\n",
    "import matplotlib.pyplot as plt\n",
    "import vegas\n",
    "from constants import *\n",
    "import multiprocessing as mp"
   ]
  },
  {
   "cell_type": "code",
   "execution_count": 18,
   "id": "710b471d-1c7c-4e1c-9e03-3a051244dbcb",
   "metadata": {},
   "outputs": [],
   "source": [
    "from geometry import getRprime,getd,getD,getCosPsi\n",
    "from crossSection import getVelocity,getMomentum,diffCrossSectionNuDM,totalCrossSectionDMe,dEv,getEv,maxPsi,maxtheta"
   ]
  },
  {
   "cell_type": "code",
   "execution_count": 3,
   "id": "722dc008-efce-4e0b-8950-245eec97574b",
   "metadata": {},
   "outputs": [],
   "source": [
    "def dnv(D,Ev,Lv = Lv,tau = 10):\n",
    "    \"\"\"\n",
    "    Neutrino number density per energy at d\n",
    "    \n",
    "    Input\n",
    "    ------\n",
    "    Enu: Neutrino energy in MeV\n",
    "    D: Distance from the boosted point to the SN explosion site, in kpc\n",
    "    Lv: Neutrino luminosity, default is 1e52 erg/s\n",
    "    tau: duration of the SN explosion\n",
    "    \n",
    "    Output\n",
    "    ------\n",
    "    Neutrino flux at d: # per Enu per cm**3\n",
    "    \"\"\"\n",
    "    Lv = Lv*erg2MeV*tau\n",
    "    D = D*kpc2cm\n",
    "    \n",
    "    # Fermi dirac distribution\n",
    "    def _fv(Ev,Tv):\n",
    "        exponent = Ev/Tv - 3\n",
    "        return (1/18.9686)*Tv**(-3)*(Ev**2/(np.exp(exponent) + 1))\n",
    "    \n",
    "    nue_dist = _fv(Ev,2.76)/11\n",
    "    nueb_dist = _fv(Ev,4.01)/16\n",
    "    # total 4 species for x\n",
    "    nux_dist = _fv(Ev,6.26)/25\n",
    "    \n",
    "    luminosity = Lv/(4*np.pi*D**2*lightSpeed)\n",
    "    return luminosity*(nue_dist+nueb_dist+4*nux_dist)\n",
    "\n",
    "\n",
    "def nx(r,mx):\n",
    "    \"\"\"\n",
    "    DM halo number density at r in MW\n",
    "    \n",
    "    Input\n",
    "    ------\n",
    "    r: distance to GC, in kpc\n",
    "    mx: DM mass in MeV\n",
    "    \n",
    "    Output\n",
    "    ------\n",
    "    DM number density, #/cm^3 at r\n",
    "    \"\"\"\n",
    "    rr=r/24.42\n",
    "    return (184/mx)/(rr*(1 + rr)**2)"
   ]
  },
  {
   "cell_type": "code",
   "execution_count": 4,
   "id": "2894a222-0535-4ba4-ba46-1e5be0ec2d96",
   "metadata": {},
   "outputs": [],
   "source": [
    "def get_Ev(Tx,mx,alpha):\n",
    "    \"\"\"\n",
    "    Calculate the neutrino energy to produce DM kinetic energy at\n",
    "    lab frame with scattering angle alpha via analytical expression.\n",
    "    \n",
    "    Input\n",
    "    ------\n",
    "    Tx: DM kinetic energy\n",
    "    mx: DM mass\n",
    "    alpha: scattering angle in lab frame\n",
    "    \n",
    "    Output\n",
    "    Ev: the corresponding neutrino energy\n",
    "    \"\"\" \n",
    "    sec = 1/np.cos(alpha)\n",
    "    Enu = (Tx*sec**2+sec*np.sqrt(Tx*(2*mx+Tx)))/(2-Tx*np.tan(alpha)**2/mx)\n",
    "    return Enu\n",
    "\n",
    "def gamma(Ev,mx):\n",
    "    \"\"\"\n",
    "    Calculate gamma factor in CM frame\n",
    "    \"\"\"\n",
    "    s = mx**2+2*Ev*mx\n",
    "    Ecm = 0.5*(s+mx**2)/np.sqrt(s)\n",
    "    return Ecm/mx\n",
    "\n",
    "\n",
    "def g(Ev,mx,alpha):\n",
    "    \"\"\"\n",
    "    Calculate BDM angular distribution dndOmega\n",
    "    \n",
    "    Input\n",
    "    ------\n",
    "    Enu: Neutrino energy\n",
    "    mx: DM mass\n",
    "    alpha: lab frame scattering angle in [0,Pi/2]\n",
    "    \n",
    "    Output\n",
    "    ------\n",
    "    g: PDF of scattering angle alpha\n",
    "    \"\"\" \n",
    "    if 0 <= alpha <= np.pi/2 and Ev > 0:\n",
    "        gm = gamma(Ev,mx)\n",
    "        sec = 1/np.cos(alpha)\n",
    "        dndOmega = gm**2*sec**3/np.pi/(1+gm**2*np.tan(alpha)**2)**2\n",
    "    else:\n",
    "        dndOmega = 0\n",
    "    return dndOmega\n",
    "\n",
    "def dEv_legacy(Tx,mx,alpha):\n",
    "    \"\"\"\n",
    "    Calculate dEv/dTx via analytical expression. Note that the given\n",
    "    inputs must lead to positive Ev or the corresponding dEvdTx would\n",
    "    be unphysical\n",
    "    \n",
    "    Input\n",
    "    ------\n",
    "    Tx: DM kinetic energy\n",
    "    mx: DM mass\n",
    "    alpha: scattering angle in lab frame\n",
    "    \n",
    "    Output\n",
    "    ------\n",
    "    dEv/dTx: the derivative of Ev over Tx\n",
    "    \"\"\"\n",
    "    sec = 1/np.cos(alpha)\n",
    "    numerator = mx**2*sec*(2*sec*np.sqrt(Tx*(2*mx + Tx)) + 2*mx + Tx*sec**2 + Tx)\n",
    "    denominator = (Tx*np.tan(alpha)**2 - 2*mx)**2*np.sqrt(Tx*(2*mx + Tx))\n",
    "    return numerator/denominator\n"
   ]
  },
  {
   "cell_type": "code",
   "execution_count": 5,
   "id": "a2c8e8b4-3d1c-444b-90d2-cc71ab8802ff",
   "metadata": {},
   "outputs": [],
   "source": [
    "def getJx(Tx,mx,mV,r,D,psi,gV=1,gD=1,tau=10):\n",
    "    \"\"\"\n",
    "    Evaluate the BDM emissivity toward the direction psi at the given boosted point \n",
    "    \n",
    "    Input\n",
    "    ------\n",
    "    Tx: BDM kinetic energy, MeV\n",
    "    mx: DM mass, MeV\n",
    "    mV: mediator mass, MeV\n",
    "    r: distance from boosted point to GC for calculating DM number density, kpc\n",
    "    D: distance from boosted point to the SN explosion site, kpc\n",
    "    psi: the BDM scattering angle, rad\n",
    "    gV: DM-neutrino coupling constant, default 1\n",
    "    gD: DM-DM coupling constant, default 1\n",
    "    \n",
    "    Output\n",
    "    ------\n",
    "    jx: BDM emissivity at the boosted point, 1/(MeV*cm^3*s*rad)\n",
    "    \"\"\"   \n",
    "    # Get the required Ev\n",
    "    Ev = getEv(Tx,mx,psi)\n",
    "    # Get dEv/dTx\n",
    "    dEvdTx = dEv(Tx,mx,psi) \n",
    "    # Get the differential DM-nu scattering cross section\n",
    "    diffCrox = diffCrossSectionNuDM(Tx,mx,mV,psi,gV,gD)\n",
    "    # Get the emissivity jx\n",
    "    jx = lightSpeed*diffCrox*nx(r,mx)*dnv(D,Ev,Lv,tau)*dEvdTx\n",
    "    return jx\n",
    "    \n",
    "\n",
    "def xemissivity_legacy(Tx,mx,r,D,Rstar,cosPsi,sigxv = 1e-45,Re = 8.5,max_Ev = 100,tau = 10):\n",
    "    \"\"\"\n",
    "    Evaluate the BDM emissivity toward the direction psi at the given boosted point \n",
    "    (legacy version)\n",
    "    \n",
    "    Input\n",
    "    ------\n",
    "    Tx: BDM kinetic energy, MeV\n",
    "    mx: DM mass, MeV\n",
    "    r: distance from boosted point to GC for calculating DM number density, kpc\n",
    "    D: distance from boosted point to the SN explosion site, kpc\n",
    "    Rstar: distance from SN to the Earth, kpc\n",
    "    psi: the BDM scattering angle, rad\n",
    "    Re: distance from GC to Earth, default 8.5 kpc\n",
    "    max_Ev: maximum neutrino energy to be searched for, default 100 MeV\n",
    "    \n",
    "    Output\n",
    "    ------\n",
    "    jx: BDM emissivity at the boosted point, 1/(MeV*cm^3*s*rad)\n",
    "    \"\"\"\n",
    "    psi = np.arccos(cosPsi)\n",
    "    Ev = get_Ev(Tx,mx,psi)\n",
    "    if Tx < 2*mx/np.tan(psi)**2:\n",
    "        # Get dEv/dTx\n",
    "        dEvdTx =  dEv_legacy(Tx,mx,psi)\n",
    "        # Get the emissivity jx\n",
    "        jx = lightSpeed*sigxv*nx(r,mx)*dnv(D,Ev,Lv,tau)*dEvdTx\n",
    "        return jx\n",
    "    else:\n",
    "        # flag is invalid, unphysical inputs\n",
    "        return 0\n",
    "        "
   ]
  },
  {
   "cell_type": "code",
   "execution_count": 6,
   "id": "8ba3125f-7b0a-4427-bc78-1abdc48a9d3c",
   "metadata": {},
   "outputs": [],
   "source": [
    "def diffFluxAtEarth(t,Tx,mx,mV,Rstar,theta,phi,beta,Re=8.5,r_cut=1e-5,gV=1,gD=1,tau=10):\n",
    "    \"\"\"\n",
    "    The differential BDM flux over open angle theta at Earth\n",
    "    \n",
    "    Input\n",
    "    ------\n",
    "    t: The differential BDM flux at time t, relative to the first SN neutrino\n",
    "        arriving at Earth\n",
    "    Tx: BDM kinetic energy, MeV\n",
    "    mx: DM mass, MeV\n",
    "    mV: Mediator mass, MeV\n",
    "    Rstar: Distance from Earth to SN, kpc\n",
    "    theta: The open angle theta\n",
    "    phi: The azimuthal angle along the Earth-SN axis, rad\n",
    "    beta: The deviation angle, characterizing how SN deviates the GC, rad\n",
    "    Re: The distance from Earth to GC, default 8.5 kpc\n",
    "    r_cut: Ignore the BDM contribution when r' < r_cut, default 1e-5 kpc\n",
    "    gV: DM-neutrino coupling constant, default 1\n",
    "    gD: DM-DM coupling constant, default 1\n",
    "    tau: The duration of SN explosion, default 10 s\n",
    "    \n",
    "    Output\n",
    "    ------\n",
    "    scalar: The diff. BDM flux at Earth, # per MeV per cm^2 per second per rad\n",
    "    \"\"\"\n",
    "    # Get BDM velocity\n",
    "    vx = getVelocity(Tx,mx)\n",
    "    # Get the propagation length of BDM via given t and vx\n",
    "    d = getd(t,vx,Rstar,theta)\n",
    "    # Get the required SNv propagation length\n",
    "    D = getD(d,Rstar,theta)\n",
    "    # Get the distance between boosted point to GC\n",
    "    rprime = getRprime(d,Rstar,Re,theta,phi,beta)\n",
    "    if rprime >= r_cut:\n",
    "        # Get the BDM scattering angle psi\n",
    "        psi = np.arccos(getCosPsi(d,Rstar,theta))\n",
    "        # Evaluate the xemissivity\n",
    "        jx = getJx(Tx,mx,mV,rprime,D,psi,gV,gD,tau)\n",
    "        # Jacobian\n",
    "        J = lightSpeed/((d - Rstar*np.cos(theta))/D + 1/vx)\n",
    "        # BDM flux\n",
    "        return J*jx*vx*np.sin(theta)\n",
    "    else:\n",
    "        return 0\n",
    "    \n",
    "def get_BDMflux_theta_legacy(t,Tx,mx,Rstar,theta,phi,beta,sigxv = 1e-45,Re = 8.5,max_Ev = 100,tau = 10):\n",
    "    # Get BDM velocity\n",
    "    vx = getVelocity(Tx,mx)\n",
    "    # Get the propagation length of BDM via given t and vx\n",
    "    d = getd(t,vx,Rstar,theta)\n",
    "    # Get the required SNv propagation length\n",
    "    D = getD(d,Rstar,theta)\n",
    "    # Get the distance between boosted point to GC\n",
    "    rprime = getRprime(d,Rstar,Re,theta,phi,beta)\n",
    "    if rprime >= 1e-5:\n",
    "        # Get the BDM scattering angle psi\n",
    "        cosPsi = getCosPsi(d,Rstar,theta)\n",
    "        # Evaluate the xemissivity\n",
    "        jx = xemissivity_legacy(Tx,mx,rprime,D,Rstar,cosPsi,sigxv,Re,max_Ev,tau)\n",
    "        # Jacobian\n",
    "        J = lightSpeed/((d - Rstar*np.cos(theta))/D + 1/vx)\n",
    "        # BDM flux\n",
    "        return J*jx*vx*np.sin(theta)\n",
    "    else:\n",
    "        return 0"
   ]
  },
  {
   "cell_type": "code",
   "execution_count": 17,
   "id": "5af42f39-4f96-4305-bd73-ab1f001c92f5",
   "metadata": {},
   "outputs": [
    {
     "name": "stdout",
     "output_type": "stream",
     "text": [
      "Object `maxtheta` not found.\n"
     ]
    }
   ],
   "source": [
    "maxtheta?"
   ]
  },
  {
   "cell_type": "code",
   "execution_count": 9,
   "id": "76bb9d8e-249f-4e5b-96ce-0e194fb163da",
   "metadata": {},
   "outputs": [
    {
     "name": "stderr",
     "output_type": "stream",
     "text": [
      "/var/folders/qf/n6502vwn5yz_j_q3fyn7nt140000gn/T/ipykernel_58665/2930311937.py:22: RuntimeWarning: overflow encountered in exp\n",
      "  return (1/18.9686)*Tv**(-3)*(Ev**2/(np.exp(exponent) + 1))\n"
     ]
    },
    {
     "name": "stdout",
     "output_type": "stream",
     "text": [
      "10\r"
     ]
    }
   ],
   "source": [
    "Rstar = 8.5\n",
    "Tx = 10\n",
    "mx = 1\n",
    "mV = mx/3\n",
    "theta_ls = np.logspace(-2,np.log10(np.pi/2),20)\n",
    "phi_ls = np.linspace(0,2*np.pi,20)\n",
    "bdmflux_legacy = []\n",
    "time_ls = np.logspace(np.log10(yr2s)-3,np.log10(yr2s)+2.3,10)\n",
    "i = 1\n",
    "for t in time_ls:\n",
    "    def f(x):\n",
    "        theta = x[0]\n",
    "        return 2*np.pi*get_BDMflux_theta_legacy(t,Tx,mx,Rstar,theta,0,0)\n",
    "        #if ~np.isnan(flux):\n",
    "        #    return flux\n",
    "        #else: return 0\n",
    "    integ = vegas.Integrator([[0, np.pi]])\n",
    "    result = integ(f,nitn=10,neval=1000)\n",
    "    bdmflux_legacy.append(result.mean)\n",
    "    print(i,end='\\r')\n",
    "    i+=1"
   ]
  },
  {
   "cell_type": "code",
   "execution_count": 14,
   "id": "4e7d9053-f461-4ffc-ab92-ab9da64214a0",
   "metadata": {},
   "outputs": [
    {
     "data": {
      "text/plain": [
       "Text(0.5, 1.0, '$T_\\\\chi =$10 MeV, $m_\\\\chi = $1 keV and $\\\\sigma_{\\\\chi\\\\nu}=10^{-45}$ cm$^2$')"
      ]
     },
     "execution_count": 14,
     "metadata": {},
     "output_type": "execute_result"
    },
    {
     "data": {
      "image/png": "[encoded data removed]",
      "text/plain": [
       "<Figure size 640x480 with 1 Axes>"
      ]
     },
     "metadata": {},
     "output_type": "display_data"
    }
   ],
   "source": [
    "plt.plot(time_ls/yr2s,bdmflux_legacy)\n",
    "plt.xscale('log')\n",
    "plt.yscale('log')\n",
    "plt.xlabel(r'$t$ [yr]')\n",
    "plt.ylabel(r'$d\\Phi_\\chi/dT_\\chi$ [MeV^{-1} cm$^{-2} s^{-1}$]')\n",
    "plt.title(r'$T_\\chi =$'+str(Tx) +r' MeV, $m_\\chi = $' + str(mx)+ r' keV and $\\sigma_{\\chi\\nu}=10^{-45}$ cm$^2$')\n",
    "#plt.ylim(1e-19,1e-12)"
   ]
  },
  {
   "cell_type": "code",
   "execution_count": 26,
   "id": "04101554-5aff-41f2-89ee-056bc95aa229",
   "metadata": {},
   "outputs": [
    {
     "name": "stdout",
     "output_type": "stream",
     "text": [
      "29\r"
     ]
    },
    {
     "name": "stderr",
     "output_type": "stream",
     "text": [
      "/var/folders/qf/n6502vwn5yz_j_q3fyn7nt140000gn/T/ipykernel_58716/2930311937.py:22: RuntimeWarning: overflow encountered in exp\n",
      "  return (1/18.9686)*Tv**(-3)*(Ev**2/(np.exp(exponent) + 1))\n"
     ]
    },
    {
     "name": "stdout",
     "output_type": "stream",
     "text": [
      "100\r"
     ]
    }
   ],
   "source": [
    "Rstar = 8.5\n",
    "Tx = 10\n",
    "mx = 1e-2\n",
    "mV = mx/3\n",
    "theta_ls = np.logspace(-5,np.log10(np.pi/2),50)\n",
    "phi_ls = np.linspace(0,2*np.pi,20)\n",
    "bdmflux = []\n",
    "time_ls = np.logspace(np.log10(yr2s)-3,np.log10(yr2s)+1,100)\n",
    "integ = vegas.Integrator([[0, np.pi]])\n",
    "i = 1\n",
    "for t in time_ls:\n",
    "    # Target function\n",
    "    def f(x):\n",
    "        theta = x[0]\n",
    "        return 2*np.pi*diffFluxAtEarth(t,Tx,mx,mV,Rstar,theta,0,0)\n",
    "    # Setup integrand for vegas\n",
    "    result = integ(f,nitn=10,neval=2000)\n",
    "    bdmflux.append(result.mean)\n",
    "    print(i,end='\\r')\n",
    "    i+=1"
   ]
  },
  {
   "cell_type": "code",
   "execution_count": 29,
   "id": "0aa9a31f-3216-4f96-bf4c-382852c7f146",
   "metadata": {},
   "outputs": [
    {
     "data": {
      "text/plain": [
       "(1000000.0, 1.3256726854900068e+20)"
      ]
     },
     "execution_count": 29,
     "metadata": {},
     "output_type": "execute_result"
    },
    {
     "data": {
      "image/png": "[encoded data removed]",
      "text/plain": [
       "<Figure size 640x480 with 1 Axes>"
      ]
     },
     "metadata": {},
     "output_type": "display_data"
    }
   ],
   "source": [
    "plt.plot(time_ls/yr2s,np.array(bdmflux))\n",
    "plt.xscale('log')\n",
    "plt.yscale('log')\n",
    "plt.xlabel(r'$t$ [yr]')\n",
    "plt.ylabel(r'$d\\Phi_\\chi/dT_\\chi$ [MeV^{-1} cm$^{-2} s^{-1}$]')\n",
    "plt.title(f'$T_\\chi = {Tx}$ MeV, $m_\\chi = {mx}$ keV and $g_V=g_D=1$')\n",
    "plt.ylim(1e6,)"
   ]
  },
  {
   "cell_type": "code",
   "execution_count": 35,
   "id": "e28ff394-388b-4657-8ac0-107438fd9795",
   "metadata": {},
   "outputs": [
    {
     "name": "stdout",
     "output_type": "stream",
     "text": [
      "3\r"
     ]
    },
    {
     "name": "stderr",
     "output_type": "stream",
     "text": [
      "/var/folders/qf/n6502vwn5yz_j_q3fyn7nt140000gn/T/ipykernel_58716/2930311937.py:22: RuntimeWarning: overflow encountered in exp\n",
      "  return (1/18.9686)*Tv**(-3)*(Ev**2/(np.exp(exponent) + 1))\n"
     ]
    },
    {
     "name": "stdout",
     "output_type": "stream",
     "text": [
      "7\r"
     ]
    }
   ],
   "source": [
    "#theta_ls = np.logspace(-5,np.log10(np.pi/2),50)\n",
    "#phi_ls = np.linspace(0,2*np.pi,20)\n",
    "gV = 1e-6\n",
    "gD = 1e-6\n",
    "event = []\n",
    "mx_ls = np.logspace(-6,1,7)\n",
    "#time_ls = np.logspace(np.log10(yr2s)-3,np.log10(yr2s)+1,100)\n",
    "integ = vegas.Integrator([[10,30*yr2s],[5,100],[0, 0.5*np.pi]])\n",
    "i = 1\n",
    "for mx in mx_ls:\n",
    "    mV = mx/3\n",
    "    # Target function\n",
    "    def f(x):\n",
    "        t = x[0]\n",
    "        Tx = x[1]\n",
    "        theta = x[2]\n",
    "        return 2*np.pi*diffFluxAtEarth(t,Tx,mx,mV,Rstar,theta,0,0,gV=gV,gD=gD)\n",
    "    # Setup integrand for vegas\n",
    "    result = integ(f,nitn=10,neval=10000)\n",
    "    event.append(result.mean)\n",
    "    print(i,end='\\r')\n",
    "    i+=1"
   ]
  },
  {
   "cell_type": "code",
   "execution_count": 37,
   "id": "f4aa151b-93a2-4da0-8b98-10bec71d9e25",
   "metadata": {},
   "outputs": [
    {
     "data": {
      "image/png": "[encoded data removed]",
      "text/plain": [
       "<Figure size 640x480 with 1 Axes>"
      ]
     },
     "metadata": {},
     "output_type": "display_data"
    }
   ],
   "source": [
    "plt.plot(mx_ls,event,'.')\n",
    "plt.xscale('log')\n",
    "plt.yscale('log')"
   ]
  },
  {
   "cell_type": "code",
   "execution_count": 8,
   "id": "fa226c3c-87f4-4f82-9dfa-2e6295f4b2d7",
   "metadata": {},
   "outputs": [
    {
     "data": {
      "text/plain": [
       "\u001b[0;31mSignature:\u001b[0m \u001b[0mget_d\u001b[0m\u001b[0;34m(\u001b[0m\u001b[0mt\u001b[0m\u001b[0;34m,\u001b[0m \u001b[0mvx\u001b[0m\u001b[0;34m,\u001b[0m \u001b[0mRstar\u001b[0m\u001b[0;34m,\u001b[0m \u001b[0mtheta\u001b[0m\u001b[0;34m)\u001b[0m\u001b[0;34m\u001b[0m\u001b[0;34m\u001b[0m\u001b[0m\n",
       "\u001b[0;31mDocstring:\u001b[0m\n",
       "Calculate the distance l.o.s d\n",
       "\n",
       "Input\n",
       "------\n",
       "t: the arrival time of BDM at Earth relative to the first SN neutrino on the Earth\n",
       "vx: BDM velocity in the unit of light speed\n",
       "Rstar: the distance between Earth and SN\n",
       "theta: the open-angle in rad\n",
       "\n",
       "Output\n",
       "------\n",
       "d: the l.o.s\n",
       "\u001b[0;31mFile:\u001b[0m      ~/GitHub/SNnuBDM2/src/geometry.py\n",
       "\u001b[0;31mType:\u001b[0m      function\n"
      ]
     },
     "metadata": {},
     "output_type": "display_data"
    }
   ],
   "source": [
    "get_d?"
   ]
  },
  {
   "cell_type": "code",
   "execution_count": 9,
   "id": "8288aeea-f666-4686-a97a-0cbcc87dd29d",
   "metadata": {},
   "outputs": [
    {
     "data": {
      "text/plain": [
       "\u001b[0;31mSignature:\u001b[0m \u001b[0mget_D\u001b[0m\u001b[0;34m(\u001b[0m\u001b[0md\u001b[0m\u001b[0;34m,\u001b[0m \u001b[0mRstar\u001b[0m\u001b[0;34m,\u001b[0m \u001b[0mtheta\u001b[0m\u001b[0;34m,\u001b[0m \u001b[0mis_square\u001b[0m\u001b[0;34m=\u001b[0m\u001b[0;32mFalse\u001b[0m\u001b[0;34m)\u001b[0m\u001b[0;34m\u001b[0m\u001b[0;34m\u001b[0m\u001b[0m\n",
       "\u001b[0;31mDocstring:\u001b[0m\n",
       "Calculate the distance between SN and boosted point D\n",
       "\n",
       "Input\n",
       "------\n",
       "d: the l.o.s distance d\n",
       "Rstar: the distance between Earth and SN\n",
       "theta: the open-angle in rad\n",
       "is_square: return the square of such distance, default is False\n",
       "\n",
       "Output\n",
       "------\n",
       "D: the distance D\n",
       "\u001b[0;31mFile:\u001b[0m      ~/GitHub/SNnuBDM2/src/geometry.py\n",
       "\u001b[0;31mType:\u001b[0m      function\n"
      ]
     },
     "metadata": {},
     "output_type": "display_data"
    }
   ],
   "source": [
    "get_D?"
   ]
  },
  {
   "cell_type": "code",
   "execution_count": 10,
   "id": "cb010d2c-5580-43d5-9ee4-ab2a77355b6a",
   "metadata": {},
   "outputs": [
    {
     "data": {
      "text/plain": [
       "\u001b[0;31mSignature:\u001b[0m \u001b[0mget_cosPsi\u001b[0m\u001b[0;34m(\u001b[0m\u001b[0md\u001b[0m\u001b[0;34m,\u001b[0m \u001b[0mRstar\u001b[0m\u001b[0;34m,\u001b[0m \u001b[0mtheta\u001b[0m\u001b[0;34m)\u001b[0m\u001b[0;34m\u001b[0m\u001b[0;34m\u001b[0m\u001b[0m\n",
       "\u001b[0;31mDocstring:\u001b[0m\n",
       "Get the cosine value of scattering angle cos(psi).\n",
       "If we did it with law of cosine, then for the case of psi > pi/2,\n",
       "it will always return pi - psi which cannot reflect the pratical\n",
       "situation\n",
       "\n",
       "Input\n",
       "------\n",
       "d: the l.o.s distance d\n",
       "Rstar: the distance between Earth and SN\n",
       "theta: the open-angle in rad\n",
       "\n",
       "Output\n",
       "------\n",
       "psi: scattering angle in rad\n",
       "\u001b[0;31mFile:\u001b[0m      ~/GitHub/SNnuBDM2/src/geometry.py\n",
       "\u001b[0;31mType:\u001b[0m      function\n"
      ]
     },
     "metadata": {},
     "output_type": "display_data"
    }
   ],
   "source": [
    "?get_cosPsi"
   ]
  },
  {
   "cell_type": "code",
   "execution_count": 9,
   "id": "4632f53a-18a2-49ed-af9d-5eb8401b94d4",
   "metadata": {},
   "outputs": [
    {
     "data": {
      "text/plain": [
       "\u001b[0;31mSignature:\u001b[0m \u001b[0mget_BDMv\u001b[0m\u001b[0;34m(\u001b[0m\u001b[0mTx\u001b[0m\u001b[0;34m,\u001b[0m \u001b[0mmx\u001b[0m\u001b[0;34m)\u001b[0m\u001b[0;34m\u001b[0m\u001b[0;34m\u001b[0m\u001b[0m\n",
       "\u001b[0;31mDocstring:\u001b[0m\n",
       "The BDM velocity in the unit of light speed\n",
       "\n",
       "Input\n",
       "------\n",
       "Tx: DM kinetic energy\n",
       "mx: DM mass\n",
       "\n",
       "Output\n",
       "------\n",
       "vx: VDM velocity\n",
       "\u001b[0;31mFile:\u001b[0m      ~/GitHub/SNnuBDM2/src/crossSection.py\n",
       "\u001b[0;31mType:\u001b[0m      function\n"
      ]
     },
     "metadata": {},
     "output_type": "display_data"
    }
   ],
   "source": [
    "get_BDMv?"
   ]
  },
  {
   "cell_type": "code",
   "execution_count": 4,
   "id": "ea40a314-02cc-4fb3-93dc-204e1189906c",
   "metadata": {},
   "outputs": [
    {
     "data": {
      "text/plain": [
       "\u001b[0;31mSignature:\u001b[0m \u001b[0mdiffCrossSectionNuDM\u001b[0m\u001b[0;34m(\u001b[0m\u001b[0mcosPhi\u001b[0m\u001b[0;34m,\u001b[0m \u001b[0mEv\u001b[0m\u001b[0;34m,\u001b[0m \u001b[0mmx\u001b[0m\u001b[0;34m,\u001b[0m \u001b[0mmV\u001b[0m\u001b[0;34m,\u001b[0m \u001b[0mgV\u001b[0m\u001b[0;34m,\u001b[0m \u001b[0mgD\u001b[0m\u001b[0;34m)\u001b[0m\u001b[0;34m\u001b[0m\u001b[0;34m\u001b[0m\u001b[0m\n",
       "\u001b[0;31mDocstring:\u001b[0m\n",
       "Lab-frame differential cross section for neutrino-DM scattering\n",
       "\n",
       "Input\n",
       "------\n",
       "cosPhi: the cos(phi) where phi is the neutrino scattering angle\n",
       "Ev: the initial neutrino energy\n",
       "mx: DM mass in MeV\n",
       "mV: mediator mass in MeV\n",
       "gV: the nu-DM coupling constant\n",
       "gD: the DM-DM coupling constant\n",
       "\n",
       "Output\n",
       "------\n",
       "nu-DM diff. cross section: Lab-frame with unit 1/cm^2 * 1/rad\n",
       "\u001b[0;31mFile:\u001b[0m      ~/GitHub/SNnuBDM2/src/crossSection.py\n",
       "\u001b[0;31mType:\u001b[0m      function\n"
      ]
     },
     "metadata": {},
     "output_type": "display_data"
    }
   ],
   "source": [
    "diffCrossSectionNuDM?"
   ]
  },
  {
   "cell_type": "code",
   "execution_count": 7,
   "id": "9c1f91ee-7476-4bc6-a021-efccd1a9c495",
   "metadata": {},
   "outputs": [],
   "source": [
    "from matplotlib.colors import LogNorm"
   ]
  },
  {
   "cell_type": "code",
   "execution_count": 43,
   "id": "4d3aa38a-1ab3-4134-a368-385969d16917",
   "metadata": {},
   "outputs": [],
   "source": [
    "ph_ls = np.logspace(-9,np.log10(np.pi/2),100)\n",
    "Ev_ls = np.linspace(5,100,50)"
   ]
  },
  {
   "cell_type": "code",
   "execution_count": 44,
   "id": "74d68ad0-2eb7-4521-8f90-79f7628f3b11",
   "metadata": {},
   "outputs": [],
   "source": [
    "two_dim = []\n",
    "ev_1000 = []\n",
    "ev_100 = []\n",
    "ev_50 = []\n",
    "ev_5 = []\n",
    "for phi in ph_ls:\n",
    "    #sigxv = diffCrossSectionNuDM(np.cos(phi),Ev,1e-3,1e-3/3,1,1)\n",
    "    ev_100.append(diffCrossSectionNuDM(np.cos(phi),100,1e-3,1e-3/3,1,1))\n",
    "    ev_50.append(diffCrossSectionNuDM(np.cos(phi),50,1e-3,1e-3/3,1,1))\n",
    "    ev_5.append(diffCrossSectionNuDM(np.cos(phi),5,1e-3,1e-3/3,1,1))\n",
    "    ev_1000.append(diffCrossSectionNuDM(np.cos(phi),1000,1e-3,1e-3/3,1,1))\n",
    "    "
   ]
  },
  {
   "cell_type": "code",
   "execution_count": 45,
   "id": "762ba6eb-f684-41f0-8127-04294c2dfe0f",
   "metadata": {},
   "outputs": [
    {
     "data": {
      "text/plain": [
       "<matplotlib.legend.Legend at 0x7f9999ab57c0>"
      ]
     },
     "execution_count": 45,
     "metadata": {},
     "output_type": "execute_result"
    },
    {
     "data": {
      "image/png": "[encoded data removed]",
      "text/plain": [
       "<Figure size 640x480 with 1 Axes>"
      ]
     },
     "metadata": {},
     "output_type": "display_data"
    }
   ],
   "source": [
    "plt.plot(ph_ls,ev_1000,label=1000)\n",
    "plt.plot(ph_ls,ev_100,label=100)\n",
    "plt.plot(ph_ls,ev_50,label=50)\n",
    "plt.plot(ph_ls,ev_5,label=5)\n",
    "plt.yscale('log')\n",
    "plt.xscale('log')\n",
    "plt.legend()"
   ]
  },
  {
   "cell_type": "code",
   "execution_count": 31,
   "id": "fa378c0e-46d5-4987-bed9-fafdcc308035",
   "metadata": {},
   "outputs": [],
   "source": [
    "Tx = 5\n",
    "mx = 1e-3\n",
    "Rstar = 8.5\n",
    "vx = get_BDMv(Tx,mx)\n",
    "theta_ls = np.logspace(-9,np.log10(np.pi),100)\n",
    "t = 1000*yr2s\n",
    "diffsigxv = []\n",
    "Ev_ls = []\n",
    "d_ls = []\n",
    "D_ls = []\n",
    "psi_ls =[]\n",
    "phi_ls =[]\n",
    "for theta in theta_ls:\n",
    "    d = get_d(t,vx,Rstar,theta)\n",
    "    cospsi = get_cosPsi(d,Rstar,theta)\n",
    "    Ev,cosphi,flag,_ = get_Ev_cosPhi(Tx,mx,cospsi,max_Ev = 100)\n",
    "    D = get_D(d,Rstar,theta)\n",
    "    if flag == 'valid':\n",
    "        sigxv = diffCrossSectionNuDM(cosphi,Ev,mx,mx/3,1,1)*dnv(D,Ev)\n",
    "    else:\n",
    "        sigxv = 0\n",
    "        Ev = 0\n",
    "    diffsigxv.append(sigxv)\n",
    "    Ev_ls.append(Ev)\n",
    "    d_ls.append(d)\n",
    "    D_ls.append(D)\n",
    "    psi_ls.append(cospsi)\n",
    "    phi_ls.append(cosphi)"
   ]
  },
  {
   "cell_type": "code",
   "execution_count": 13,
   "id": "e5fd118f-41cc-4346-8448-5a83fa282eb5",
   "metadata": {},
   "outputs": [
    {
     "data": {
      "text/plain": [
       "Text(0.5, 0, '$\\\\theta$ [$\\\\pi$]')"
      ]
     },
     "execution_count": 13,
     "metadata": {},
     "output_type": "execute_result"
    },
    {
     "data": {
      "image/png": "[encoded data removed]",
      "text/plain": [
       "<Figure size 640x480 with 1 Axes>"
      ]
     },
     "metadata": {},
     "output_type": "display_data"
    }
   ],
   "source": [
    "plt.plot(theta_ls/np.pi,diffsigxv)\n",
    "plt.xscale('log')\n",
    "plt.yscale('log')\n",
    "plt.xlabel(r'$\\theta$ [$\\pi$]')\n",
    "#plt.xlim(1e-4,)"
   ]
  },
  {
   "cell_type": "code",
   "execution_count": 14,
   "id": "e70222f7-d78c-41e2-a08c-8abbd32e6bda",
   "metadata": {},
   "outputs": [
    {
     "data": {
      "text/plain": [
       "Text(0.5, 0, '$\\\\theta$ [$\\\\pi$]')"
      ]
     },
     "execution_count": 14,
     "metadata": {},
     "output_type": "execute_result"
    },
    {
     "data": {
      "image/png": "[encoded data removed]",
      "text/plain": [
       "<Figure size 640x480 with 1 Axes>"
      ]
     },
     "metadata": {},
     "output_type": "display_data"
    }
   ],
   "source": [
    "plt.plot(theta_ls/np.pi,Ev_ls)\n",
    "plt.xscale('log')\n",
    "plt.yscale('log')\n",
    "plt.xlabel(r'$\\theta$ [$\\pi$]')"
   ]
  },
  {
   "cell_type": "code",
   "execution_count": 15,
   "id": "78ffcd49-2b3b-43fa-b19a-1743a7f5029c",
   "metadata": {},
   "outputs": [
    {
     "data": {
      "text/plain": [
       "Text(0.5, 0, '$\\\\theta$ [$\\\\pi$]')"
      ]
     },
     "execution_count": 15,
     "metadata": {},
     "output_type": "execute_result"
    },
    {
     "data": {
      "image/png": "[encoded data removed]",
      "text/plain": [
       "<Figure size 640x480 with 1 Axes>"
      ]
     },
     "metadata": {},
     "output_type": "display_data"
    }
   ],
   "source": [
    "plt.plot(theta_ls/np.pi,d_ls,label='$d$')\n",
    "plt.plot(theta_ls/np.pi,D_ls,label='$D$')\n",
    "plt.legend()\n",
    "plt.xscale('log')\n",
    "plt.yscale('log')\n",
    "plt.xlabel(r'$\\theta$ [$\\pi$]')"
   ]
  },
  {
   "cell_type": "code",
   "execution_count": 39,
   "id": "cd28a37e-8cce-487f-8a69-7413be4f648c",
   "metadata": {},
   "outputs": [
    {
     "data": {
      "text/plain": [
       "Text(0.5, 0, '$cos\\\\phi$')"
      ]
     },
     "execution_count": 39,
     "metadata": {},
     "output_type": "execute_result"
    },
    {
     "data": {
      "image/png": "[encoded data removed]",
      "text/plain": [
       "<Figure size 640x480 with 1 Axes>"
      ]
     },
     "metadata": {},
     "output_type": "display_data"
    }
   ],
   "source": [
    "plt.plot(np.nan_to_num(phi_ls),Ev_ls)\n",
    "#plt.plot(theta_ls/np.pi,np.arccos(phi_ls)/np.pi,label='$\\phi$')\n",
    "#plt.legend()\n",
    "#plt.xscale('log')\n",
    "#plt.yscale('log')\n",
    "plt.ylabel(r'$E_\\nu$')\n",
    "plt.xlabel(r'$cos\\phi$')"
   ]
  },
  {
   "cell_type": "code",
   "execution_count": 40,
   "id": "82b860a7-e8ef-4cb6-a971-a6468f60ad4a",
   "metadata": {},
   "outputs": [
    {
     "data": {
      "text/plain": [
       "[0,\n",
       " 0,\n",
       " 0,\n",
       " 0,\n",
       " 0,\n",
       " 0,\n",
       " 0,\n",
       " 0,\n",
       " 0,\n",
       " 0,\n",
       " 0,\n",
       " 0,\n",
       " 0,\n",
       " 0,\n",
       " 0,\n",
       " 0,\n",
       " 0,\n",
       " 0,\n",
       " 0,\n",
       " 0,\n",
       " 0,\n",
       " 0,\n",
       " 0,\n",
       " 0,\n",
       " 0,\n",
       " 0,\n",
       " 0,\n",
       " 0,\n",
       " 0,\n",
       " 0,\n",
       " 0,\n",
       " 0,\n",
       " 0,\n",
       " 0,\n",
       " 0,\n",
       " 0,\n",
       " 0,\n",
       " 0,\n",
       " 0,\n",
       " 0,\n",
       " 0,\n",
       " 0,\n",
       " 0,\n",
       " 0,\n",
       " 0,\n",
       " 0,\n",
       " 0,\n",
       " 0,\n",
       " 0,\n",
       " 0,\n",
       " 0,\n",
       " 0,\n",
       " 0,\n",
       " 0,\n",
       " 0,\n",
       " 0,\n",
       " 0,\n",
       " 0,\n",
       " 0,\n",
       " 31.0163771741714,\n",
       " 16.03762407454196,\n",
       " 10.981203525379355,\n",
       " 8.551139005921813,\n",
       " 7.19819683828296,\n",
       " 6.388526644810698,\n",
       " 5.885836652100548,\n",
       " 5.56793068384888,\n",
       " 5.36507910743992,\n",
       " 5.2351009814751475,\n",
       " 5.151659646122504,\n",
       " 5.098048582595748,\n",
       " 5.06359068717454,\n",
       " 5.041439185511999,\n",
       " 5.0271969477597365,\n",
       " 5.018038120974524,\n",
       " 5.012145988266618,\n",
       " 5.008352301633866,\n",
       " 5.005905696495899,\n",
       " 5.004323013867105,\n",
       " 5.003293899618338,\n",
       " 5.002619552488262,\n",
       " 5.002173242125985,\n",
       " 5.001874679802196,\n",
       " 5.001673303212661,\n",
       " 5.001537427374679,\n",
       " 5.001447317235569,\n",
       " 5.001390874647958,\n",
       " 5.00136104817693,\n",
       " 5.00135438604852,\n",
       " 5.001370403220617,\n",
       " 5.001411657845706,\n",
       " 5.001484699316741,\n",
       " 5.001602527848089,\n",
       " 5.001790379244661,\n",
       " 5.002100196520686,\n",
       " 5.002652125982609,\n",
       " 5.0037819267879575,\n",
       " 5.00678442152766,\n",
       " 5.021577012783162,\n",
       " 0]"
      ]
     },
     "execution_count": 40,
     "metadata": {},
     "output_type": "execute_result"
    }
   ],
   "source": [
    "Ev_ls"
   ]
  },
  {
   "cell_type": "code",
   "execution_count": 20,
   "id": "fe29853a-8632-420f-b3e1-82cc1097010c",
   "metadata": {},
   "outputs": [
    {
     "data": {
      "text/plain": [
       "Text(0.5, 0, '$\\\\theta$ [$\\\\pi$]')"
      ]
     },
     "execution_count": 20,
     "metadata": {},
     "output_type": "execute_result"
    },
    {
     "data": {
      "image/png": "[encoded data removed]",
      "text/plain": [
       "<Figure size 640x480 with 1 Axes>"
      ]
     },
     "metadata": {},
     "output_type": "display_data"
    }
   ],
   "source": [
    "plt.plot(theta_ls/np.pi,d_ls,label='$d$')\n",
    "#plt.plot(theta_ls/np.pi,D_ls,label='$D$')\n",
    "plt.legend()\n",
    "plt.xscale('log')\n",
    "plt.yscale('log')\n",
    "plt.xlabel(r'$\\theta$ [$\\pi$]')"
   ]
  },
  {
   "cell_type": "code",
   "execution_count": 20,
   "id": "91dcae77-0c14-4672-a17e-44f3694e521e",
   "metadata": {},
   "outputs": [
    {
     "data": {
      "text/plain": [
       "3.141592653589793"
      ]
     },
     "execution_count": 20,
     "metadata": {},
     "output_type": "execute_result"
    }
   ],
   "source": [
    "np.arccos(-1)"
   ]
  },
  {
   "cell_type": "code",
   "execution_count": 17,
   "id": "b00700bc-83df-43f4-bf84-662b4067dc42",
   "metadata": {},
   "outputs": [
    {
     "data": {
      "text/plain": [
       "True"
      ]
     },
     "execution_count": 17,
     "metadata": {},
     "output_type": "execute_result"
    }
   ],
   "source": [
    "np.isnan(phi_ls[2])"
   ]
  },
  {
   "cell_type": "code",
   "execution_count": 21,
   "id": "b8473774-4147-439e-a968-8e8b26f80e76",
   "metadata": {},
   "outputs": [
    {
     "data": {
      "text/plain": [
       "False"
      ]
     },
     "execution_count": 21,
     "metadata": {},
     "output_type": "execute_result"
    }
   ],
   "source": [
    "True and False"
   ]
  },
  {
   "cell_type": "code",
   "execution_count": null,
   "id": "89b8fad4-4493-4439-a188-8f676a0c457f",
   "metadata": {},
   "outputs": [],
   "source": []
  }
 ],
 "metadata": {
  "kernelspec": {
   "display_name": "Python 3 (ipykernel)",
   "language": "python",
   "name": "python3"
  },
  "language_info": {
   "codemirror_mode": {
    "name": "ipython",
    "version": 3
   },
   "file_extension": ".py",
   "mimetype": "text/x-python",
   "name": "python",
   "nbconvert_exporter": "python",
   "pygments_lexer": "ipython3",
   "version": "3.9.13"
  }
 },
 "nbformat": 4,
 "nbformat_minor": 5
}
