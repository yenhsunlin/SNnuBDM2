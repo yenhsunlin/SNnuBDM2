{
 "cells": [
  {
   "cell_type": "code",
   "execution_count": 1,
   "id": "3f20d799-6eed-4094-875e-c8a74b863c40",
   "metadata": {},
   "outputs": [],
   "source": [
    "import numpy as np\n",
    "import matplotlib.pyplot as plt\n",
    "import vegas\n",
    "from constants import *"
   ]
  },
  {
   "cell_type": "code",
   "execution_count": 2,
   "id": "710b471d-1c7c-4e1c-9e03-3a051244dbcb",
   "metadata": {},
   "outputs": [],
   "source": [
    "from geometry import get_rprime,get_d,get_D,get_cosPsi\n",
    "from crossSection import get_BDMv,get_BDMp,diffCrossSectionNuDM,get_Ev_cosPhi"
   ]
  },
  {
   "cell_type": "code",
   "execution_count": 21,
   "id": "722dc008-efce-4e0b-8950-245eec97574b",
   "metadata": {},
   "outputs": [],
   "source": [
    "def dnv(D,Ev,Lv = Lv,tau = 10):\n",
    "    \"\"\"\n",
    "    Neutrino number density per energy at d\n",
    "    \n",
    "    Input\n",
    "    ------\n",
    "    Enu: Neutrino energy in MeV\n",
    "    D: Distance from the boosted point to the SN explosion site, in kpc\n",
    "    Lv: Neutrino luminosity, default is 1e52 erg/s\n",
    "    tau: duration of the SN explosion\n",
    "    \n",
    "    Output\n",
    "    ------\n",
    "    Neutrino flux at d: # per Enu per cm**3\n",
    "    \"\"\"\n",
    "    Lv = Lv*erg2MeV*tau\n",
    "    D = D*kpc2cm\n",
    "    \n",
    "    # Fermi dirac distribution\n",
    "    def _fv(Ev,Tv):\n",
    "        exponent = Ev/Tv - 3\n",
    "        return (1/18.9686)*Tv**(-3)*(Ev**2/(np.exp(exponent) + 1))\n",
    "    \n",
    "    nue_dist = _fv(Ev,2.76)/11\n",
    "    nueb_dist = _fv(Ev,4.01)/16\n",
    "    # total 4 species for x\n",
    "    nux_dist = _fv(Ev,6.26)/25\n",
    "    \n",
    "    luminosity = Lv/(4*np.pi*D**2*light_speed)\n",
    "    return luminosity*(nue_dist+nueb_dist+4*nux_dist)\n",
    "\n",
    "\n",
    "def nx(r,mx):\n",
    "    \"\"\"\n",
    "    DM halo number density at r in MW\n",
    "    \n",
    "    Input\n",
    "    ------\n",
    "    r: distance to GC, in kpc\n",
    "    mx: DM mass in MeV\n",
    "    \n",
    "    Output\n",
    "    ------\n",
    "    DM number density, #/cm^3 at r\n",
    "    \"\"\"\n",
    "    rr=r/24.42\n",
    "    return (184/mx)/(rr*(1 + rr)**2)"
   ]
  },
  {
   "cell_type": "markdown",
   "id": "e949f32b-2edf-48af-ba7c-fd51e921e6ba",
   "metadata": {},
   "source": [
    "The term $dE_\\nu/dT_\\chi$ can be evaluated through the reciprocal of\n",
    "$$\n",
    "\\frac{dT_\\chi}{dE_\\nu} = \\frac{d}{dE_\\nu}\\left( E_\\nu - \\frac{E_\\nu m_\\chi}{m_\\chi + E_\\nu(1-\\cos\\phi)}\\right)\n",
    "$$\n",
    "where\n",
    "$$\n",
    "\\cos\\phi = \\frac{1}{\\sqrt{1+\\frac{\\sin^2\\psi}{(E_\\nu/p_\\chi -\\cos\\psi)^2}}}.\n",
    "$$\n",
    "We solved this with \n",
    "$$\n",
    "\\frac{d T_\\chi}{dE_\\nu}=1+\\frac{E_{\\nu}m_{\\chi}}{[m_{\\chi}+E_{\\nu}(1-1/\\sqrt{\\xi})]^{2}}\\left[1-\\frac{E_{\\nu}\\sin^{2}\\psi}{p_{\\chi}(\\frac{E_{\\nu}}{p_{\\chi}}-\\cos\\psi)^{3}\\xi^{3/2}}-\\frac{1}{\\sqrt{\\xi}}\\right]-\\frac{m_{\\chi}}{m_{\\chi}+E_{\\nu}(1-1/\\sqrt{\\xi})}\n",
    "$$\n",
    "where\n",
    "$$\n",
    "\\xi = 1+\\frac{\\sin^2\\psi}{(E_\\nu/p_\\chi -\\cos\\psi)^2}\n",
    "$$"
   ]
  },
  {
   "cell_type": "code",
   "execution_count": 22,
   "id": "2894a222-0535-4ba4-ba46-1e5be0ec2d96",
   "metadata": {},
   "outputs": [],
   "source": [
    "def get_Ev(Tx,mx,alpha):\n",
    "    \"\"\"\n",
    "    Calculate the neutrino energy to produce DM kinetic energy at\n",
    "    lab frame with scattering angle alpha via analytical expression.\n",
    "    \n",
    "    Input\n",
    "    ------\n",
    "    Tx: DM kinetic energy\n",
    "    mx: DM mass\n",
    "    alpha: scattering angle in lab frame\n",
    "    \n",
    "    Output\n",
    "    Ev: the corresponding neutrino energy\n",
    "    \"\"\" \n",
    "    sec = 1/np.cos(alpha)\n",
    "    Enu = (Tx*sec**2+sec*np.sqrt(Tx*(2*mx+Tx)))/(2-Tx*np.tan(alpha)**2/mx)\n",
    "    return Enu\n",
    "\n",
    "def gamma(Ev,mx):\n",
    "    \"\"\"\n",
    "    Calculate gamma factor in CM frame\n",
    "    \"\"\"\n",
    "    s = mx**2+2*Ev*mx\n",
    "    Ecm = 0.5*(s+mx**2)/np.sqrt(s)\n",
    "    return Ecm/mx\n",
    "\n",
    "\n",
    "def g(Ev,mx,alpha):\n",
    "    \"\"\"\n",
    "    Calculate BDM angular distribution dndOmega\n",
    "    \n",
    "    Input\n",
    "    ------\n",
    "    Enu: Neutrino energy\n",
    "    mx: DM mass\n",
    "    alpha: lab frame scattering angle in [0,Pi/2]\n",
    "    \n",
    "    Output\n",
    "    ------\n",
    "    g: PDF of scattering angle alpha\n",
    "    \"\"\" \n",
    "    if 0 <= alpha <= np.pi/2 and Ev > 0:\n",
    "        gm = gamma(Ev,mx)\n",
    "        sec = 1/np.cos(alpha)\n",
    "        dndOmega = gm**2*sec**3/np.pi/(1+gm**2*np.tan(alpha)**2)**2\n",
    "    else:\n",
    "        dndOmega = 0\n",
    "    return dndOmega\n",
    "\n",
    "def dEv_legacy(Tx,mx,alpha):\n",
    "    \"\"\"\n",
    "    Calculate dEv/dTx via analytical expression. Note that the given\n",
    "    inputs must lead to positive Ev or the corresponding dEvdTx would\n",
    "    be unphysical\n",
    "    \n",
    "    Input\n",
    "    ------\n",
    "    Tx: DM kinetic energy\n",
    "    mx: DM mass\n",
    "    alpha: scattering angle in lab frame\n",
    "    \n",
    "    Output\n",
    "    ------\n",
    "    dEv/dTx: the derivative of Ev over Tx\n",
    "    \"\"\"\n",
    "    sec = 1/np.cos(alpha)\n",
    "    numerator = mx**2*sec*(2*sec*np.sqrt(Tx*(2*mx + Tx)) + 2*mx + Tx*sec**2 + Tx)\n",
    "    denominator = (Tx*np.tan(alpha)**2 - 2*mx)**2*np.sqrt(Tx*(2*mx + Tx))\n",
    "    return numerator/denominator\n"
   ]
  },
  {
   "cell_type": "code",
   "execution_count": 28,
   "id": "a2c8e8b4-3d1c-444b-90d2-cc71ab8802ff",
   "metadata": {},
   "outputs": [],
   "source": [
    "def dEv(Ev,Tx,mx,psi):\n",
    "    \"\"\"\n",
    "    Get the dEv/dTx for the given inputs\n",
    "    \"\"\"\n",
    "    px = get_BDMp(Tx,mx)\n",
    "    xi = 1 + np.sin(psi)**2/(Ev/px - np.cos(psi))**2\n",
    "    A = Ev*mx/(mx + Ev*(1 - 1/np.sqrt(xi)))**2\n",
    "    B = 1 - Ev*np.sin(psi)**2/px/(Ev/px - np.cos(psi))**3/xi**1.5 - 1/np.sqrt(xi)\n",
    "    C = mx/(mx + Ev*(1 - 1/np.sqrt(xi)))\n",
    "    dTxdEv = 1 + A*B - C\n",
    "    return 1/dTxdEv\n",
    "\n",
    "\n",
    "def xemissivity(Tx,mx,mV,r,D,Rstar,cosPsi,Re = 8.5,gV = 1,gD = 1,max_Ev = 100,deltaTx = 1e-6,tau = 10):\n",
    "    \"\"\"\n",
    "    Evaluate the BDM emissivity toward the direction psi at the given boosted point \n",
    "    \n",
    "    Input\n",
    "    ------\n",
    "    Tx: BDM kinetic energy, MeV\n",
    "    mx: DM mass, MeV\n",
    "    mV: mediator mass, MeV\n",
    "    r: distance from boosted point to GC for calculating DM number density, kpc\n",
    "    D: distance from boosted point to the SN explosion site, kpc\n",
    "    Rstar: distance from SN to the Earth, kpc\n",
    "    psi: the BDM scattering angle, rad\n",
    "    Re: distance from GC to Earth, default 8.5 kpc\n",
    "    gV: DM-neutrino coupling constant, default 1\n",
    "    gD: DM-DM coupling constant, default 1\n",
    "    max_Ev: maximum neutrino energy to be searched for, default 100 MeV\n",
    "    \n",
    "    Output\n",
    "    ------\n",
    "    jx: BDM emissivity at the boosted point, 1/(MeV*cm^3*s*rad)\n",
    "    \"\"\"\n",
    "    # Get the required Ev and cos(phi) to generate BDM with kinetic energy Tx with DM\n",
    "    # scattering angle psi\n",
    "    Ev,cosPhi,flag,_ = get_Ev_cosPhi(Tx,mx,cosPsi,max_Ev = max_Ev)\n",
    "    Evp,_,flag_dTx,_ = get_Ev_cosPhi(Tx + deltaTx,mx,cosPsi,max_Ev = 100*max_Ev)\n",
    "    # If both flags are valid, proceed the calculation. Otherwise, terminates the function \n",
    "    if flag == 'valid' and flag_dTx == 'valid':\n",
    "        # Get the differential DM-nu scattering cross section\n",
    "        diffCrox = diffCrossSectionNuDM(cosPhi,Ev,mx,mV,gV,gD)\n",
    "        # Get dEv/dTx\n",
    "        dEvdTx = (Evp - Ev)/deltaTx # dEv(Ev,Tx,mx,psi) # \n",
    "        # Get the emissivity jx\n",
    "        jx = light_speed*diffCrox*nx(r,mx)*dnv(D,Ev,Lv,tau)*dEvdTx\n",
    "        return jx\n",
    "    else:\n",
    "        # flag is invalid, unphysical inputs\n",
    "        return 0\n",
    "    \n",
    "\n",
    "def xemissivity_legacy(Tx,mx,r,D,Rstar,cosPsi,sigxv = 1e-45,Re = 8.5,max_Ev = 100,tau = 10):\n",
    "    \"\"\"\n",
    "    Evaluate the BDM emissivity toward the direction psi at the given boosted point \n",
    "    (legacy version)\n",
    "    \n",
    "    Input\n",
    "    ------\n",
    "    Tx: BDM kinetic energy, MeV\n",
    "    mx: DM mass, MeV\n",
    "    r: distance from boosted point to GC for calculating DM number density, kpc\n",
    "    D: distance from boosted point to the SN explosion site, kpc\n",
    "    Rstar: distance from SN to the Earth, kpc\n",
    "    psi: the BDM scattering angle, rad\n",
    "    Re: distance from GC to Earth, default 8.5 kpc\n",
    "    max_Ev: maximum neutrino energy to be searched for, default 100 MeV\n",
    "    \n",
    "    Output\n",
    "    ------\n",
    "    jx: BDM emissivity at the boosted point, 1/(MeV*cm^3*s*rad)\n",
    "    \"\"\"\n",
    "    psi = np.arccos(cosPsi)\n",
    "    Ev = get_Ev(Tx,mx,psi)\n",
    "    if Tx < 2*mx/np.tan(psi)**2:\n",
    "        # Get dEv/dTx\n",
    "        dEvdTx =  dEv_legacy(Tx,mx,psi)\n",
    "        # Get the emissivity jx\n",
    "        jx = light_speed*sigxv*nx(r,mx)*dnv(D,Ev,Lv,tau)*dEvdTx\n",
    "        return jx\n",
    "    else:\n",
    "        # flag is invalid, unphysical inputs\n",
    "        return 0\n",
    "        "
   ]
  },
  {
   "cell_type": "code",
   "execution_count": 26,
   "id": "8ba3125f-7b0a-4427-bc78-1abdc48a9d3c",
   "metadata": {},
   "outputs": [],
   "source": [
    "def get_BDMflux_theta(t,Tx,mx,mV,Rstar,theta,phi,beta,Re = 8.5,gV = 1,gD = 1,max_Ev = 100,tau = 10):\n",
    "    # Get BDM velocity\n",
    "    vx = get_BDMv(Tx,mx)\n",
    "    # Get the propagation length of BDM via given t and vx\n",
    "    d = get_d(t,vx,Rstar,theta)\n",
    "    # Get the required SNv propagation length\n",
    "    D = get_D(d,Rstar,theta)\n",
    "    # Get the distance between boosted point to GC\n",
    "    rprime = get_rprime(d,Rstar,Re,theta,phi,beta)\n",
    "    if rprime >= 1e-6 and D <= Rstar:\n",
    "        # Get the BDM scattering angle psi\n",
    "        cosPsi = get_cosPsi(d,Rstar,theta)\n",
    "        # Evaluate the xemissivity\n",
    "        jx = xemissivity(Tx,mx,mV,rprime,D,Rstar,cosPsi,Re,gV,gD,max_Ev,tau=tau)\n",
    "        # Jacobian\n",
    "        J = light_speed/((d - Rstar*np.cos(theta))/D + 1/vx)\n",
    "        # BDM flux\n",
    "        return J*jx*vx*np.sin(theta)\n",
    "    else:\n",
    "        return 0\n",
    "    \n",
    "def get_BDMflux_theta_legacy(t,Tx,mx,Rstar,theta,phi,beta,sigxv = 1e-45,Re = 8.5,max_Ev = 100,tau = 10):\n",
    "    # Get BDM velocity\n",
    "    vx = get_BDMv(Tx,mx)\n",
    "    # Get the propagation length of BDM via given t and vx\n",
    "    d = get_d(t,vx,Rstar,theta)\n",
    "    # Get the required SNv propagation length\n",
    "    D = get_D(d,Rstar,theta)\n",
    "    # Get the distance between boosted point to GC\n",
    "    rprime = get_rprime(d,Rstar,Re,theta,phi,beta)\n",
    "    if rprime >= 1e-5:\n",
    "        # Get the BDM scattering angle psi\n",
    "        cosPsi = get_cosPsi(d,Rstar,theta)\n",
    "        # Evaluate the xemissivity\n",
    "        jx = xemissivity_legacy(Tx,mx,rprime,D,Rstar,cosPsi,sigxv,Re,max_Ev,tau)\n",
    "        # Jacobian\n",
    "        J = light_speed/((d - Rstar*np.cos(theta))/D + 1/vx)\n",
    "        # BDM flux\n",
    "        return J*jx*vx*np.sin(theta)\n",
    "    else:\n",
    "        return 0"
   ]
  },
  {
   "cell_type": "code",
   "execution_count": 24,
   "id": "76bb9d8e-249f-4e5b-96ce-0e194fb163da",
   "metadata": {},
   "outputs": [
    {
     "name": "stderr",
     "output_type": "stream",
     "text": [
      "/Users/yenhsun/GitHub/SNnuBDM2/src/geometry.py:128: RuntimeWarning: invalid value encountered in double_scalars\n",
      "  cosIota = (Re**2 - ell2 - (d*np.cos(theta))**2)/(2*np.cos(theta)*np.sqrt(ell2)*d)\n",
      "/Users/yenhsun/GitHub/SNnuBDM2/src/geometry.py:46: RuntimeWarning: invalid value encountered in double_scalars\n",
      "  cosPsi = (Rstar**2 - D2 - d**2)/(2*D*d)\n",
      "/var/folders/dr/w2wmjyk173551q0j44jf3fnr0000gn/T/ipykernel_18165/3045283998.py:74: RuntimeWarning: invalid value encountered in arccos\n",
      "  psi = np.arccos(cosPsi)\n"
     ]
    },
    {
     "name": "stdout",
     "output_type": "stream",
     "text": [
      "6\r"
     ]
    },
    {
     "name": "stderr",
     "output_type": "stream",
     "text": [
      "/var/folders/dr/w2wmjyk173551q0j44jf3fnr0000gn/T/ipykernel_18165/3965621210.py:22: RuntimeWarning: overflow encountered in exp\n",
      "  return (1/18.9686)*Tv**(-3)*(Ev**2/(np.exp(exponent) + 1))\n"
     ]
    },
    {
     "name": "stdout",
     "output_type": "stream",
     "text": [
      "52\r"
     ]
    },
    {
     "name": "stderr",
     "output_type": "stream",
     "text": [
      "/var/folders/dr/w2wmjyk173551q0j44jf3fnr0000gn/T/ipykernel_18165/3045283998.py:76: RuntimeWarning: divide by zero encountered in double_scalars\n",
      "  if Tx < 2*mx/np.tan(psi)**2:\n"
     ]
    },
    {
     "name": "stdout",
     "output_type": "stream",
     "text": [
      "55\r"
     ]
    },
    {
     "name": "stderr",
     "output_type": "stream",
     "text": [
      "/Users/yenhsun/GitHub/SNnuBDM2/src/geometry.py:128: RuntimeWarning: divide by zero encountered in double_scalars\n",
      "  cosIota = (Re**2 - ell2 - (d*np.cos(theta))**2)/(2*np.cos(theta)*np.sqrt(ell2)*d)\n",
      "/Users/yenhsun/GitHub/SNnuBDM2/src/geometry.py:128: RuntimeWarning: invalid value encountered in sqrt\n",
      "  cosIota = (Re**2 - ell2 - (d*np.cos(theta))**2)/(2*np.cos(theta)*np.sqrt(ell2)*d)\n",
      "/Users/yenhsun/GitHub/SNnuBDM2/src/geometry.py:148: RuntimeWarning: invalid value encountered in sqrt\n",
      "  rp2 = ell2*cosIota**2 + (np.sqrt(ell2)*sinIota - h*np.sin(phi))**2 + h**2*np.cos(phi)**2\n"
     ]
    },
    {
     "name": "stdout",
     "output_type": "stream",
     "text": [
      "100\r"
     ]
    }
   ],
   "source": [
    "Rstar = 8.5\n",
    "Tx = 10\n",
    "mx = 1e-2\n",
    "mV = mx/3\n",
    "theta_ls = np.logspace(-2,np.log10(np.pi/2),20)\n",
    "phi_ls = np.linspace(0,2*np.pi,20)\n",
    "bdmflux_legacy = []\n",
    "integ = vegas.Integrator([[0, np.pi]])\n",
    "time_ls = np.logspace(np.log10(yr2s)-6,np.log10(yr2s)+1.5,100)\n",
    "i = 1\n",
    "for t in time_ls:\n",
    "    def f(x):\n",
    "        theta = x[0]\n",
    "        return 2*np.pi*get_BDMflux_theta_legacy(t,Tx,mx,Rstar,theta,0,0)\n",
    "        #if ~np.isnan(flux):\n",
    "        #    return flux\n",
    "        #else: return 0\n",
    "    result = integ(f,nitn=10,neval=1000)\n",
    "    bdmflux_legacy.append(result.mean)\n",
    "    print(i,end='\\r')\n",
    "    i+=1"
   ]
  },
  {
   "cell_type": "code",
   "execution_count": 25,
   "id": "4e7d9053-f461-4ffc-ab92-ab9da64214a0",
   "metadata": {},
   "outputs": [
    {
     "data": {
      "text/plain": [
       "(1e-19, 1e-12)"
      ]
     },
     "execution_count": 25,
     "metadata": {},
     "output_type": "execute_result"
    },
    {
     "data": {
      "image/png": "[encoded data removed]",
      "text/plain": [
       "<Figure size 640x480 with 1 Axes>"
      ]
     },
     "metadata": {},
     "output_type": "display_data"
    }
   ],
   "source": [
    "plt.plot(time_ls/yr2s,bdmflux_legacy)\n",
    "plt.xscale('log')\n",
    "plt.yscale('log')\n",
    "plt.xlabel(r'$t$ [yr]')\n",
    "plt.ylabel(r'$d\\Phi_\\chi/dT_\\chi$ [MeV^{-1} cm$^{-2} s^{-1}$]')\n",
    "plt.title(r'$T_\\chi =$'+str(Tx) +r' MeV, $m_\\chi = $' + str(mx)+ r' keV and $\\sigma_{\\chi\\nu}=10^{-45}$ cm$^2$')\n",
    "plt.ylim(1e-19,1e-12)"
   ]
  },
  {
   "cell_type": "code",
   "execution_count": 31,
   "id": "04101554-5aff-41f2-89ee-056bc95aa229",
   "metadata": {},
   "outputs": [
    {
     "name": "stdout",
     "output_type": "stream",
     "text": [
      "20\r"
     ]
    }
   ],
   "source": [
    "Rstar = 8.5\n",
    "Tx = 10\n",
    "mx = 1e-3\n",
    "mV = mx/3\n",
    "theta_ls = np.logspace(-2,np.log10(np.pi/2),20)\n",
    "phi_ls = np.linspace(0,2*np.pi,20)\n",
    "bdmflux = []\n",
    "integ = vegas.Integrator([[0, np.pi]])\n",
    "time_ls = np.logspace(np.log10(yr2s)-3,np.log10(yr2s)+4,20)\n",
    "i = 1\n",
    "for t in time_ls:\n",
    "    def f(x):\n",
    "        theta = x[0]\n",
    "        return 2*np.pi*get_BDMflux_theta(t,Tx,mx,mV,Rstar,theta,0,0)\n",
    "        #if ~np.isnan(flux):\n",
    "        #    return flux\n",
    "        #else: return 0\n",
    "    result = integ(f,nitn=10,neval=2000)\n",
    "    bdmflux.append(result.mean)\n",
    "    print(i,end='\\r')\n",
    "    i+=1"
   ]
  },
  {
   "cell_type": "code",
   "execution_count": 30,
   "id": "0aa9a31f-3216-4f96-bf4c-382852c7f146",
   "metadata": {},
   "outputs": [
    {
     "data": {
      "text/plain": [
       "Text(0.5, 1.0, '$T_\\\\chi = 5$ MeV, $m_\\\\chi = 1$ keV and $g_V=g_D=1$')"
      ]
     },
     "execution_count": 30,
     "metadata": {},
     "output_type": "execute_result"
    },
    {
     "data": {
      "image/png": "[encoded data removed]",
      "text/plain": [
       "<Figure size 640x480 with 1 Axes>"
      ]
     },
     "metadata": {},
     "output_type": "display_data"
    }
   ],
   "source": [
    "plt.plot(time_ls/yr2s,np.abs(bdmflux))\n",
    "plt.xscale('log')\n",
    "plt.yscale('log')\n",
    "plt.xlabel(r'$t$ [yr]')\n",
    "plt.ylabel(r'$d\\Phi_\\chi/dT_\\chi$ [MeV^{-1} cm$^{-2} s^{-1}$]')\n",
    "plt.title(r'$T_\\chi = 5$ MeV, $m_\\chi = 1$ keV and $g_V=g_D=1$')\n",
    "#plt.ylim(1e-17,1e-9)"
   ]
  },
  {
   "cell_type": "code",
   "execution_count": 32,
   "id": "e28ff394-388b-4657-8ac0-107438fd9795",
   "metadata": {},
   "outputs": [
    {
     "data": {
      "text/plain": [
       "Text(0.5, 1.0, '$T_\\\\chi = 5$ MeV, $m_\\\\chi = 1$ keV and $g_V=g_D=1$')"
      ]
     },
     "execution_count": 32,
     "metadata": {},
     "output_type": "execute_result"
    },
    {
     "data": {
      "image/png": "[encoded data removed]",
      "text/plain": [
       "<Figure size 640x480 with 1 Axes>"
      ]
     },
     "metadata": {},
     "output_type": "display_data"
    }
   ],
   "source": [
    "plt.plot(time_ls/yr2s,np.abs(bdmflux))\n",
    "plt.xscale('log')\n",
    "plt.yscale('log')\n",
    "plt.xlabel(r'$t$ [yr]')\n",
    "plt.ylabel(r'$d\\Phi_\\chi/dT_\\chi$ [MeV^{-1} cm$^{-2} s^{-1}$]')\n",
    "plt.title(r'$T_\\chi = 5$ MeV, $m_\\chi = 1$ keV and $g_V=g_D=1$')\n",
    "#plt.ylim(1e-17,1e-9)"
   ]
  },
  {
   "cell_type": "code",
   "execution_count": 5,
   "id": "f4aa151b-93a2-4da0-8b98-10bec71d9e25",
   "metadata": {},
   "outputs": [
    {
     "data": {
      "text/plain": [
       "\u001b[0;31mSignature:\u001b[0m \u001b[0mget_Ev_cosPhi\u001b[0m\u001b[0;34m(\u001b[0m\u001b[0mTx\u001b[0m\u001b[0;34m,\u001b[0m \u001b[0mmx\u001b[0m\u001b[0;34m,\u001b[0m \u001b[0mpsi\u001b[0m\u001b[0;34m,\u001b[0m \u001b[0mmax_Ev\u001b[0m\u001b[0;34m=\u001b[0m\u001b[0;36m1000\u001b[0m\u001b[0;34m)\u001b[0m\u001b[0;34m\u001b[0m\u001b[0;34m\u001b[0m\u001b[0m\n",
       "\u001b[0;31mDocstring:\u001b[0m\n",
       "Get the initial neutrino energy and scattering angle cos(phi) for\n",
       "a given (Tx,mx,psi). Additional 'flag' and 'msg' will be output\n",
       "to indicate the set of solution is valid or not\n",
       "\n",
       "Input\n",
       "------\n",
       "Tx: BDM kinetic energy\n",
       "mx: DM mass\n",
       "psi: the DM scattering angle, according to the scheme, it should\n",
       "be negative (below the horizon)\n",
       "max_Ev: Maximum Ev to be searched for the solution of the algorithm\n",
       "\n",
       "Output\n",
       "------\n",
       "tuple\n",
       "Ev: Required initial neutrino energy\n",
       "cos(phi): the cosine value of the neutrino scattering\n",
       "flag: 'valid' or 'invalid' for the solution\n",
       "msg: 1: Pass, if flag returns 'valid'\n",
       "     2: Solution exists but might not be physical because energy-\n",
       "        momentum conservation is violated. Such violation could be\n",
       "        due to round-off error. Further check is necessary\n",
       "     3: The algorithm cannot find the solution for Ev for the given\n",
       "        'max_Ev'.\n",
       "\u001b[0;31mFile:\u001b[0m      ~/GitHub/SNnuBDM2/src/crossSection.py\n",
       "\u001b[0;31mType:\u001b[0m      function\n"
      ]
     },
     "metadata": {},
     "output_type": "display_data"
    }
   ],
   "source": [
    "get_Ev_cosPhi?"
   ]
  },
  {
   "cell_type": "code",
   "execution_count": 7,
   "id": "68ede9b1-98f9-4c67-98e0-770256ac0116",
   "metadata": {},
   "outputs": [
    {
     "data": {
      "text/plain": [
       "\u001b[0;31mSignature:\u001b[0m \u001b[0mget_rprime\u001b[0m\u001b[0;34m(\u001b[0m\u001b[0md\u001b[0m\u001b[0;34m,\u001b[0m \u001b[0mRstar\u001b[0m\u001b[0;34m,\u001b[0m \u001b[0mRe\u001b[0m\u001b[0;34m,\u001b[0m \u001b[0mtheta\u001b[0m\u001b[0;34m,\u001b[0m \u001b[0mphi\u001b[0m\u001b[0;34m,\u001b[0m \u001b[0mbeta\u001b[0m\u001b[0;34m,\u001b[0m \u001b[0mtolerance\u001b[0m\u001b[0;34m=\u001b[0m\u001b[0;36m1e-10\u001b[0m\u001b[0;34m)\u001b[0m\u001b[0;34m\u001b[0m\u001b[0;34m\u001b[0m\u001b[0m\n",
       "\u001b[0;31mDocstring:\u001b[0m\n",
       "Calculate the distance from boosted point to GC r'\n",
       "\n",
       "Input\n",
       "------\n",
       "d: the l.o.s distance d\n",
       "Rstar: the distance between Earth and SN\n",
       "Re: the distance between Earth and the GC\n",
       "theta: the open-angle in rad\n",
       "phi: the azimuth angle in rad\n",
       "beta: the off-center angle in rad\n",
       "\n",
       "Output\n",
       "------\n",
       "r': the distance r'\n",
       "\u001b[0;31mFile:\u001b[0m      ~/GitHub/SNnuBDM2/src/geometry.py\n",
       "\u001b[0;31mType:\u001b[0m      function\n"
      ]
     },
     "metadata": {},
     "output_type": "display_data"
    }
   ],
   "source": [
    "get_rprime?"
   ]
  },
  {
   "cell_type": "code",
   "execution_count": 8,
   "id": "fa226c3c-87f4-4f82-9dfa-2e6295f4b2d7",
   "metadata": {},
   "outputs": [
    {
     "data": {
      "text/plain": [
       "\u001b[0;31mSignature:\u001b[0m \u001b[0mget_d\u001b[0m\u001b[0;34m(\u001b[0m\u001b[0mt\u001b[0m\u001b[0;34m,\u001b[0m \u001b[0mvx\u001b[0m\u001b[0;34m,\u001b[0m \u001b[0mRstar\u001b[0m\u001b[0;34m,\u001b[0m \u001b[0mtheta\u001b[0m\u001b[0;34m)\u001b[0m\u001b[0;34m\u001b[0m\u001b[0;34m\u001b[0m\u001b[0m\n",
       "\u001b[0;31mDocstring:\u001b[0m\n",
       "Calculate the distance l.o.s d\n",
       "\n",
       "Input\n",
       "------\n",
       "t: the arrival time of BDM at Earth relative to the first SN neutrino on the Earth\n",
       "vx: BDM velocity in the unit of light speed\n",
       "Rstar: the distance between Earth and SN\n",
       "theta: the open-angle in rad\n",
       "\n",
       "Output\n",
       "------\n",
       "d: the l.o.s\n",
       "\u001b[0;31mFile:\u001b[0m      ~/GitHub/SNnuBDM2/src/geometry.py\n",
       "\u001b[0;31mType:\u001b[0m      function\n"
      ]
     },
     "metadata": {},
     "output_type": "display_data"
    }
   ],
   "source": [
    "get_d?"
   ]
  },
  {
   "cell_type": "code",
   "execution_count": 9,
   "id": "8288aeea-f666-4686-a97a-0cbcc87dd29d",
   "metadata": {},
   "outputs": [
    {
     "data": {
      "text/plain": [
       "\u001b[0;31mSignature:\u001b[0m \u001b[0mget_D\u001b[0m\u001b[0;34m(\u001b[0m\u001b[0md\u001b[0m\u001b[0;34m,\u001b[0m \u001b[0mRstar\u001b[0m\u001b[0;34m,\u001b[0m \u001b[0mtheta\u001b[0m\u001b[0;34m,\u001b[0m \u001b[0mis_square\u001b[0m\u001b[0;34m=\u001b[0m\u001b[0;32mFalse\u001b[0m\u001b[0;34m)\u001b[0m\u001b[0;34m\u001b[0m\u001b[0;34m\u001b[0m\u001b[0m\n",
       "\u001b[0;31mDocstring:\u001b[0m\n",
       "Calculate the distance between SN and boosted point D\n",
       "\n",
       "Input\n",
       "------\n",
       "d: the l.o.s distance d\n",
       "Rstar: the distance between Earth and SN\n",
       "theta: the open-angle in rad\n",
       "is_square: return the square of such distance, default is False\n",
       "\n",
       "Output\n",
       "------\n",
       "D: the distance D\n",
       "\u001b[0;31mFile:\u001b[0m      ~/GitHub/SNnuBDM2/src/geometry.py\n",
       "\u001b[0;31mType:\u001b[0m      function\n"
      ]
     },
     "metadata": {},
     "output_type": "display_data"
    }
   ],
   "source": [
    "get_D?"
   ]
  },
  {
   "cell_type": "code",
   "execution_count": 10,
   "id": "cb010d2c-5580-43d5-9ee4-ab2a77355b6a",
   "metadata": {},
   "outputs": [
    {
     "data": {
      "text/plain": [
       "\u001b[0;31mSignature:\u001b[0m \u001b[0mget_cosPsi\u001b[0m\u001b[0;34m(\u001b[0m\u001b[0md\u001b[0m\u001b[0;34m,\u001b[0m \u001b[0mRstar\u001b[0m\u001b[0;34m,\u001b[0m \u001b[0mtheta\u001b[0m\u001b[0;34m)\u001b[0m\u001b[0;34m\u001b[0m\u001b[0;34m\u001b[0m\u001b[0m\n",
       "\u001b[0;31mDocstring:\u001b[0m\n",
       "Get the cosine value of scattering angle cos(psi).\n",
       "If we did it with law of cosine, then for the case of psi > pi/2,\n",
       "it will always return pi - psi which cannot reflect the pratical\n",
       "situation\n",
       "\n",
       "Input\n",
       "------\n",
       "d: the l.o.s distance d\n",
       "Rstar: the distance between Earth and SN\n",
       "theta: the open-angle in rad\n",
       "\n",
       "Output\n",
       "------\n",
       "psi: scattering angle in rad\n",
       "\u001b[0;31mFile:\u001b[0m      ~/GitHub/SNnuBDM2/src/geometry.py\n",
       "\u001b[0;31mType:\u001b[0m      function\n"
      ]
     },
     "metadata": {},
     "output_type": "display_data"
    }
   ],
   "source": [
    "?get_cosPsi"
   ]
  },
  {
   "cell_type": "code",
   "execution_count": 9,
   "id": "4632f53a-18a2-49ed-af9d-5eb8401b94d4",
   "metadata": {},
   "outputs": [
    {
     "data": {
      "text/plain": [
       "\u001b[0;31mSignature:\u001b[0m \u001b[0mget_BDMv\u001b[0m\u001b[0;34m(\u001b[0m\u001b[0mTx\u001b[0m\u001b[0;34m,\u001b[0m \u001b[0mmx\u001b[0m\u001b[0;34m)\u001b[0m\u001b[0;34m\u001b[0m\u001b[0;34m\u001b[0m\u001b[0m\n",
       "\u001b[0;31mDocstring:\u001b[0m\n",
       "The BDM velocity in the unit of light speed\n",
       "\n",
       "Input\n",
       "------\n",
       "Tx: DM kinetic energy\n",
       "mx: DM mass\n",
       "\n",
       "Output\n",
       "------\n",
       "vx: VDM velocity\n",
       "\u001b[0;31mFile:\u001b[0m      ~/GitHub/SNnuBDM2/src/crossSection.py\n",
       "\u001b[0;31mType:\u001b[0m      function\n"
      ]
     },
     "metadata": {},
     "output_type": "display_data"
    }
   ],
   "source": [
    "get_BDMv?"
   ]
  },
  {
   "cell_type": "code",
   "execution_count": 4,
   "id": "ea40a314-02cc-4fb3-93dc-204e1189906c",
   "metadata": {},
   "outputs": [
    {
     "data": {
      "text/plain": [
       "\u001b[0;31mSignature:\u001b[0m \u001b[0mdiffCrossSectionNuDM\u001b[0m\u001b[0;34m(\u001b[0m\u001b[0mcosPhi\u001b[0m\u001b[0;34m,\u001b[0m \u001b[0mEv\u001b[0m\u001b[0;34m,\u001b[0m \u001b[0mmx\u001b[0m\u001b[0;34m,\u001b[0m \u001b[0mmV\u001b[0m\u001b[0;34m,\u001b[0m \u001b[0mgV\u001b[0m\u001b[0;34m,\u001b[0m \u001b[0mgD\u001b[0m\u001b[0;34m)\u001b[0m\u001b[0;34m\u001b[0m\u001b[0;34m\u001b[0m\u001b[0m\n",
       "\u001b[0;31mDocstring:\u001b[0m\n",
       "Lab-frame differential cross section for neutrino-DM scattering\n",
       "\n",
       "Input\n",
       "------\n",
       "cosPhi: the cos(phi) where phi is the neutrino scattering angle\n",
       "Ev: the initial neutrino energy\n",
       "mx: DM mass in MeV\n",
       "mV: mediator mass in MeV\n",
       "gV: the nu-DM coupling constant\n",
       "gD: the DM-DM coupling constant\n",
       "\n",
       "Output\n",
       "------\n",
       "nu-DM diff. cross section: Lab-frame with unit 1/cm^2 * 1/rad\n",
       "\u001b[0;31mFile:\u001b[0m      ~/GitHub/SNnuBDM2/src/crossSection.py\n",
       "\u001b[0;31mType:\u001b[0m      function\n"
      ]
     },
     "metadata": {},
     "output_type": "display_data"
    }
   ],
   "source": [
    "diffCrossSectionNuDM?"
   ]
  },
  {
   "cell_type": "code",
   "execution_count": 56,
   "id": "fa378c0e-46d5-4987-bed9-fafdcc308035",
   "metadata": {},
   "outputs": [],
   "source": [
    "Tx = 5\n",
    "mx = 1e-3\n",
    "Rstar = 8.5\n",
    "vx = get_BDMv(Tx,mx)\n",
    "theta_ls = np.logspace(-9,np.log10(np.pi),100)\n",
    "t = 1000*yr2s\n",
    "diffsigxv = []\n",
    "Ev_ls = []\n",
    "d_ls = []\n",
    "D_ls = []\n",
    "psi_ls =[]\n",
    "phi_ls =[]\n",
    "for theta in theta_ls:\n",
    "    d = get_d(t,vx,Rstar,theta)\n",
    "    cospsi = get_cosPsi(d,Rstar,theta)\n",
    "    Ev,cosphi,flag,_ = get_Ev_cosPhi(Tx,mx,cospsi,max_Ev = 100)\n",
    "    D = get_D(d,Rstar,theta)\n",
    "    if flag == 'valid':\n",
    "        sigxv = diffCrossSectionNuDM(cosphi,Ev,mx,mx/3,1,1)*dnv(D,Ev)\n",
    "    else:\n",
    "        sigxv = 0\n",
    "        Ev = 0\n",
    "    diffsigxv.append(sigxv)\n",
    "    Ev_ls.append(Ev)\n",
    "    d_ls.append(d)\n",
    "    D_ls.append(D)\n",
    "    psi_ls.append(cospsi)\n",
    "    phi_ls.append(cosphi)"
   ]
  },
  {
   "cell_type": "code",
   "execution_count": 57,
   "id": "e5fd118f-41cc-4346-8448-5a83fa282eb5",
   "metadata": {},
   "outputs": [
    {
     "data": {
      "text/plain": [
       "Text(0.5, 0, '$\\\\theta$ [$\\\\pi$]')"
      ]
     },
     "execution_count": 57,
     "metadata": {},
     "output_type": "execute_result"
    },
    {
     "data": {
      "image/png": "[encoded data removed]",
      "text/plain": [
       "<Figure size 640x480 with 1 Axes>"
      ]
     },
     "metadata": {},
     "output_type": "display_data"
    }
   ],
   "source": [
    "plt.plot(theta_ls/np.pi,diffsigxv)\n",
    "plt.xscale('log')\n",
    "plt.yscale('log')\n",
    "plt.xlabel(r'$\\theta$ [$\\pi$]')\n",
    "#plt.xlim(1e-4,)"
   ]
  },
  {
   "cell_type": "code",
   "execution_count": 58,
   "id": "e70222f7-d78c-41e2-a08c-8abbd32e6bda",
   "metadata": {},
   "outputs": [
    {
     "data": {
      "text/plain": [
       "Text(0.5, 0, '$\\\\theta$ [$\\\\pi$]')"
      ]
     },
     "execution_count": 58,
     "metadata": {},
     "output_type": "execute_result"
    },
    {
     "data": {
      "image/png": "[encoded data removed]",
      "text/plain": [
       "<Figure size 640x480 with 1 Axes>"
      ]
     },
     "metadata": {},
     "output_type": "display_data"
    }
   ],
   "source": [
    "plt.plot(theta_ls/np.pi,Ev_ls)\n",
    "plt.xscale('log')\n",
    "plt.yscale('log')\n",
    "plt.xlabel(r'$\\theta$ [$\\pi$]')"
   ]
  },
  {
   "cell_type": "code",
   "execution_count": 59,
   "id": "78ffcd49-2b3b-43fa-b19a-1743a7f5029c",
   "metadata": {},
   "outputs": [
    {
     "data": {
      "text/plain": [
       "Text(0.5, 0, '$\\\\theta$ [$\\\\pi$]')"
      ]
     },
     "execution_count": 59,
     "metadata": {},
     "output_type": "execute_result"
    },
    {
     "data": {
      "image/png": "[encoded data removed]",
      "text/plain": [
       "<Figure size 640x480 with 1 Axes>"
      ]
     },
     "metadata": {},
     "output_type": "display_data"
    }
   ],
   "source": [
    "plt.plot(theta_ls/np.pi,d_ls,label='$d$')\n",
    "plt.plot(theta_ls/np.pi,D_ls,label='$D$')\n",
    "plt.legend()\n",
    "plt.xscale('log')\n",
    "plt.yscale('log')\n",
    "plt.xlabel(r'$\\theta$ [$\\pi$]')"
   ]
  },
  {
   "cell_type": "code",
   "execution_count": 60,
   "id": "cd28a37e-8cce-487f-8a69-7413be4f648c",
   "metadata": {},
   "outputs": [
    {
     "name": "stderr",
     "output_type": "stream",
     "text": [
      "/var/folders/dr/w2wmjyk173551q0j44jf3fnr0000gn/T/ipykernel_18165/2005512296.py:1: RuntimeWarning: invalid value encountered in arccos\n",
      "  plt.plot(theta_ls/np.pi,np.arccos(psi_ls)/np.pi,label='$\\psi$')\n"
     ]
    },
    {
     "data": {
      "text/plain": [
       "Text(0, 0.5, '$\\\\pi$')"
      ]
     },
     "execution_count": 60,
     "metadata": {},
     "output_type": "execute_result"
    },
    {
     "data": {
      "image/png": "[encoded data removed]",
      "text/plain": [
       "<Figure size 640x480 with 1 Axes>"
      ]
     },
     "metadata": {},
     "output_type": "display_data"
    }
   ],
   "source": [
    "plt.plot(theta_ls/np.pi,np.arccos(psi_ls)/np.pi,label='$\\psi$')\n",
    "plt.plot(theta_ls/np.pi,np.arccos(phi_ls)/np.pi,label='$\\phi$')\n",
    "plt.legend()\n",
    "plt.xscale('log')\n",
    "#plt.yscale('log')\n",
    "plt.xlabel(r'$\\theta$ [$\\pi$]')\n",
    "plt.ylabel(r'$\\pi$')"
   ]
  },
  {
   "cell_type": "code",
   "execution_count": 64,
   "id": "fe29853a-8632-420f-b3e1-82cc1097010c",
   "metadata": {},
   "outputs": [
    {
     "data": {
      "text/plain": [
       "8.637642199308958"
      ]
     },
     "execution_count": 64,
     "metadata": {},
     "output_type": "execute_result"
    }
   ],
   "source": [
    "D_ls[-2]"
   ]
  },
  {
   "cell_type": "code",
   "execution_count": 63,
   "id": "91dcae77-0c14-4672-a17e-44f3694e521e",
   "metadata": {},
   "outputs": [
    {
     "data": {
      "text/plain": [
       "[0,\n",
       " 0,\n",
       " 0,\n",
       " 0,\n",
       " 0,\n",
       " 0,\n",
       " 0,\n",
       " 0,\n",
       " 0,\n",
       " 0,\n",
       " 0,\n",
       " 0,\n",
       " 0,\n",
       " 0,\n",
       " 0,\n",
       " 0,\n",
       " 0,\n",
       " 0,\n",
       " 0,\n",
       " 0,\n",
       " 0,\n",
       " 0,\n",
       " 0,\n",
       " 0,\n",
       " 0,\n",
       " 0,\n",
       " 0,\n",
       " 0,\n",
       " 0,\n",
       " 0,\n",
       " 0,\n",
       " 0,\n",
       " 0,\n",
       " 0,\n",
       " 0,\n",
       " 0,\n",
       " 0,\n",
       " 0,\n",
       " 0,\n",
       " 0,\n",
       " 0,\n",
       " 0,\n",
       " 0,\n",
       " 0,\n",
       " 0,\n",
       " 0,\n",
       " 0,\n",
       " 0,\n",
       " 0,\n",
       " 0,\n",
       " 0,\n",
       " 0,\n",
       " 0,\n",
       " 0,\n",
       " 0,\n",
       " 0,\n",
       " 0,\n",
       " 0,\n",
       " 0,\n",
       " 6.074576202295169e-13,\n",
       " 2.521884847148948e-13,\n",
       " 7.56325610668823e-14,\n",
       " 2.1467589622934544e-14,\n",
       " 6.432569009852301e-15,\n",
       " 2.102094023346177e-15,\n",
       " 7.404361477870222e-16,\n",
       " 2.754123410434339e-16,\n",
       " 1.062710013713412e-16,\n",
       " 4.199061021156264e-17,\n",
       " 1.6840084830865757e-17,\n",
       " 6.81366492796223e-18,\n",
       " 2.769686547869796e-18,\n",
       " 1.1274572495268973e-18,\n",
       " 4.583429497628747e-19,\n",
       " 1.8558315299939092e-19,\n",
       " 7.463567036572375e-20,\n",
       " 2.9733456277164564e-20,\n",
       " 1.170975979132652e-20,\n",
       " 4.5572402575228216e-21,\n",
       " 1.7572024580926483e-21,\n",
       " 6.755191841272198e-22,\n",
       " 2.614882848767906e-22,\n",
       " 1.0322448279248515e-22,\n",
       " 4.216925442188878e-23,\n",
       " 1.8119731150366224e-23,\n",
       " 8.335952956603133e-24,\n",
       " 4.182821815806052e-24,\n",
       " 2.32952892896451e-24,\n",
       " 1.459132912414721e-24,\n",
       " 1.0343550519815478e-24,\n",
       " 8.289579314064228e-25,\n",
       " 7.469697009222462e-25,\n",
       " 7.532358393323883e-25,\n",
       " 8.51735375091114e-25,\n",
       " 1.0970466285191423e-24,\n",
       " 1.675138059358282e-24,\n",
       " 3.313035433649459e-24,\n",
       " 1.0485897770590285e-23,\n",
       " 1.0551581835813452e-22,\n",
       " 0]"
      ]
     },
     "execution_count": 63,
     "metadata": {},
     "output_type": "execute_result"
    }
   ],
   "source": [
    "diffsigxv"
   ]
  },
  {
   "cell_type": "code",
   "execution_count": null,
   "id": "b00700bc-83df-43f4-bf84-662b4067dc42",
   "metadata": {},
   "outputs": [],
   "source": []
  }
 ],
 "metadata": {
  "kernelspec": {
   "display_name": "Python 3 (ipykernel)",
   "language": "python",
   "name": "python3"
  },
  "language_info": {
   "codemirror_mode": {
    "name": "ipython",
    "version": 3
   },
   "file_extension": ".py",
   "mimetype": "text/x-python",
   "name": "python",
   "nbconvert_exporter": "python",
   "pygments_lexer": "ipython3",
   "version": "3.9.7"
  }
 },
 "nbformat": 4,
 "nbformat_minor": 5
}
