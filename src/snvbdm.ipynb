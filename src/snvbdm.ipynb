{
 "cells": [
  {
   "cell_type": "code",
   "execution_count": 1,
   "id": "3f20d799-6eed-4094-875e-c8a74b863c40",
   "metadata": {},
   "outputs": [],
   "source": [
    "import numpy as np\n",
    "import matplotlib.pyplot as plt\n",
    "import vegas\n",
    "from constants import *"
   ]
  },
  {
   "cell_type": "code",
   "execution_count": 2,
   "id": "710b471d-1c7c-4e1c-9e03-3a051244dbcb",
   "metadata": {},
   "outputs": [],
   "source": [
    "from geometry import get_rprime,get_d,get_D,get_cosPsi\n",
    "from crossSection import get_BDMv,get_BDMp,diffCrossSectionNuDM,get_Ev_cosPhi"
   ]
  },
  {
   "cell_type": "code",
   "execution_count": 3,
   "id": "722dc008-efce-4e0b-8950-245eec97574b",
   "metadata": {},
   "outputs": [],
   "source": [
    "def dnv(d,Ev,Lv = Lv,tau = 10):\n",
    "    \"\"\"\n",
    "    Neutrino number density per energy at d\n",
    "    \n",
    "    Input\n",
    "    ------\n",
    "    Enu: Neutrino energy in MeV\n",
    "    d: Distance to the SN explosion site, in kpc\n",
    "    Lv: Neutrino luminosity, default is 1e52 erg/s\n",
    "    tau: duration of the SN explosion\n",
    "    \n",
    "    Output\n",
    "    ------\n",
    "    Neutrino flux at d: # per Enu per cm**3\n",
    "    \"\"\"\n",
    "    Lv = Lv*erg2MeV*tau\n",
    "    d = d*kpc2cm\n",
    "    \n",
    "    # Fermi dirac distribution\n",
    "    def _fv(Ev,Tv):\n",
    "        exponent = Ev/Tv - 3\n",
    "        return (1/18.9686)*Tv**(-3)*(Ev**2/(np.exp(exponent) + 1))\n",
    "    \n",
    "    nue_dist = _fv(Ev,2.76)/11\n",
    "    nueb_dist = _fv(Ev,4.01)/16\n",
    "    # total 4 species for x\n",
    "    nux_dist = _fv(Ev,6.26)/25\n",
    "    \n",
    "    luminosity = Lv/(4*np.pi*d**2*light_speed)\n",
    "    return luminosity*(nue_dist+nueb_dist+4*nux_dist)\n",
    "\n",
    "\n",
    "def nx(r,mx):\n",
    "    \"\"\"\n",
    "    DM halo number density at r in MW\n",
    "    \n",
    "    Input\n",
    "    ------\n",
    "    r: distance to GC, in kpc\n",
    "    mx: DM mass in MeV\n",
    "    \n",
    "    Output\n",
    "    ------\n",
    "    DM number density, #/cm^3 at r\n",
    "    \"\"\"\n",
    "    rr=r/24.42\n",
    "    return (184/mx)/(rr*(1 + rr)**2)"
   ]
  },
  {
   "cell_type": "markdown",
   "id": "e949f32b-2edf-48af-ba7c-fd51e921e6ba",
   "metadata": {},
   "source": [
    "The term $dE_\\nu/dT_\\chi$ can be evaluated through the reciprocal of\n",
    "$$\n",
    "\\frac{dT_\\chi}{dE_\\nu} = \\frac{d}{dE_\\nu}\\left( E_\\nu - \\frac{E_\\nu m_\\chi}{m_\\chi + E_\\nu(1-\\cos\\phi)}\\right)\n",
    "$$\n",
    "where\n",
    "$$\n",
    "\\cos\\phi = \\frac{1}{\\sqrt{1+\\frac{\\sin^2\\psi}{(E_\\nu/p_\\chi -\\cos\\psi)^2}}}.\n",
    "$$\n",
    "We solved this with \n",
    "$$\n",
    "\\frac{d T_\\chi}{dE_\\nu}=1+\\frac{E_{\\nu}m_{\\chi}}{[m_{\\chi}+E_{\\nu}(1-1/\\sqrt{\\xi})]^{2}}\\left[1-\\frac{E_{\\nu}\\sin^{2}\\psi}{p_{\\chi}(\\frac{E_{\\nu}}{p_{\\chi}}-\\cos\\psi)^{3}\\xi^{3/2}}-\\frac{1}{\\sqrt{\\xi}}\\right]-\\frac{m_{\\chi}}{m_{\\chi}+E_{\\nu}(1-1/\\sqrt{\\xi})}\n",
    "$$\n",
    "where\n",
    "$$\n",
    "\\xi = 1+\\frac{\\sin^2\\psi}{(E_\\nu/p_\\chi -\\cos\\psi)^2}\n",
    "$$"
   ]
  },
  {
   "cell_type": "code",
   "execution_count": 34,
   "id": "a2c8e8b4-3d1c-444b-90d2-cc71ab8802ff",
   "metadata": {},
   "outputs": [],
   "source": [
    "def dEvdTx(Ev,Tx,mx,psi):\n",
    "    \"\"\"\n",
    "    Get the dEv/dTx for the given inputs\n",
    "    \"\"\"\n",
    "    px = get_BDMp(Tx,mx)\n",
    "    xi = 1 + np.sin(psi)**2/(Ev/px - np.cos(psi))**2\n",
    "    A = Ev*mx/(mx + Ev*(1 - 1/np.sqrt(xi)))**2\n",
    "    B = 1 - Ev*np.sin(psi)**2/px/(Ev/px - np.cos(psi))**3/xi**1.5 - 1/np.sqrt(xi)\n",
    "    C = mx/(mx + Ev*(1 - 1/np.sqrt(xi)))\n",
    "    dTxdEv = 1 + A*B - C\n",
    "    return 1/dTxdEv\n",
    "\n",
    "\n",
    "def xemissivity(Tx,mx,mV,r,d,Rstar,psi,Re = 8.5,gV = 1,gD = 1,max_Ev = 100):\n",
    "    \"\"\"\n",
    "    Evaluate the BDM emissivity toward the direction psi at the given boosted point \n",
    "    \n",
    "    Input\n",
    "    ------\n",
    "    Tx: BDM kinetic energy, MeV\n",
    "    mx: DM mass, MeV\n",
    "    mV: mediator mass, MeV\n",
    "    r: distance from boosted point to GC for calculating DM number density, kpc\n",
    "    d: distance from boosted point to the Earth, kpc\n",
    "    Rstar: distance from SN to the Earth, kpc\n",
    "    psi: the BDM scattering angle, rad\n",
    "    Re: distance from GC to Earth, default 8.5 kpc\n",
    "    gV: DM-neutrino coupling constant, default 1\n",
    "    gD: DM-DM coupling constant, default 1\n",
    "    max_Ev: maximum neutrino energy to be searched for, default 100 MeV\n",
    "    \n",
    "    Output\n",
    "    ------\n",
    "    jx: BDM emissivity at the boosted point, 1/(MeV*cm^3*s*rad)\n",
    "    \"\"\"\n",
    "    # Get the required Ev and cos(phi) to generate BDM with kinetic energy Tx with DM\n",
    "    # scattering angle psi\n",
    "    Ev,cosPhi,flag1,_ = get_Ev_cosPhi(Tx,mx,psi,max_Ev = max_Ev)\n",
    "    Evp,_,flag2,_ = get_Ev_cosPhi(Tx+1e-6,mx,psi,max_Ev = max_Ev)\n",
    "    # If flag is valid, proceed the calculation. Otherwise, terminates the function \n",
    "    if flag1 == 'valid' and flag2 == 'valid':\n",
    "        # flag is valid\n",
    "        # Get the differential DM-nu scattering cross section\n",
    "        diffCrox = diffCrossSectionNuDM(cosPhi,Ev,mx,mV,gV,gD)\n",
    "        # Get the emissivity jx\n",
    "        jx = light_speed*diffCrox*nx(r,mx)*dnv(d,Ev,Lv=Lv,tau=10)*(Evp - Ev)/1e-6\n",
    "        return jx\n",
    "    else:\n",
    "        # flag is invalid, unphysical inputs\n",
    "        return 0\n",
    "        "
   ]
  },
  {
   "cell_type": "code",
   "execution_count": 33,
   "id": "504508ed-a3b8-490e-92b0-1e79504673e1",
   "metadata": {},
   "outputs": [
    {
     "data": {
      "text/plain": [
       "((5.001052503258818, 0.05008413487069898, 'valid', 1),\n",
       " (5.000952503256714, 0.05008413696940668, 'valid', 1))"
      ]
     },
     "execution_count": 33,
     "metadata": {},
     "output_type": "execute_result"
    }
   ],
   "source": [
    "get_Ev_cosPhi(5,1e-3,0.1),get_Ev_cosPhi(5-1e-4,1e-3,0.1)"
   ]
  },
  {
   "cell_type": "code",
   "execution_count": 30,
   "id": "b3aae60b-445c-4b84-98c2-e6a27a374ddd",
   "metadata": {},
   "outputs": [
    {
     "data": {
      "text/plain": [
       "1.0000000210386162"
      ]
     },
     "execution_count": 30,
     "metadata": {},
     "output_type": "execute_result"
    }
   ],
   "source": [
    "(Evp-Ev)/1e-4"
   ]
  },
  {
   "cell_type": "code",
   "execution_count": 22,
   "id": "b0317082-6ebf-4aeb-a6fb-8caf851617c5",
   "metadata": {},
   "outputs": [
    {
     "data": {
      "text/plain": [
       "5.00105350325884"
      ]
     },
     "execution_count": 22,
     "metadata": {},
     "output_type": "execute_result"
    }
   ],
   "source": [
    "Evp"
   ]
  },
  {
   "cell_type": "code",
   "execution_count": 31,
   "id": "f1ed6e03-de28-4bd8-a413-5481c76e5f2e",
   "metadata": {},
   "outputs": [
    {
     "data": {
      "text/plain": [
       "1.0021967448378222"
      ]
     },
     "execution_count": 31,
     "metadata": {},
     "output_type": "execute_result"
    }
   ],
   "source": [
    "dEvdTx(5,Evp,1e-3,0.1)"
   ]
  },
  {
   "cell_type": "code",
   "execution_count": 5,
   "id": "8ba3125f-7b0a-4427-bc78-1abdc48a9d3c",
   "metadata": {},
   "outputs": [],
   "source": [
    "def get_BDMflux_theta(t,Tx,mx,mV,Rstar,theta,phi,beta,Re = 8.5,gV = 1,gD = 1,max_Ev = 100):\n",
    "    # Get BDM velocity\n",
    "    vx = get_BDMv(Tx,mx)\n",
    "    # Get the propagation length of BDM via given t and vx\n",
    "    d = get_d(t,vx,Rstar,theta)\n",
    "    # Get the required SNv propagation length\n",
    "    D = get_D(d,Rstar,theta)\n",
    "    # Get the distance between boosted point to GC\n",
    "    rprime = get_rprime(d,Rstar,Re,theta,phi,beta)\n",
    "    # Get the BDM scattering angle psi\n",
    "    psi = np.arccos(get_cosPsi(d,Rstar,theta))\n",
    "    # Evaluate the xemissivity\n",
    "    jx = xemissivity(Tx,mx,mV,rprime,d,Rstar,psi,Re,gV,gD,max_Ev)\n",
    "    # Jacobian\n",
    "    J = light_speed/((d - Rstar*np.cos(theta))/D + 1/vx)\n",
    "    # BDM flux\n",
    "    return J*jx*vx*np.sin(theta)"
   ]
  },
  {
   "cell_type": "code",
   "execution_count": 10,
   "id": "fb80046e-67ea-4130-85c6-f8ce5d47f65f",
   "metadata": {},
   "outputs": [
    {
     "data": {
      "text/plain": [
       "7.498806606935368"
      ]
     },
     "execution_count": 10,
     "metadata": {},
     "output_type": "execute_result"
    }
   ],
   "source": []
  },
  {
   "cell_type": "code",
   "execution_count": 37,
   "id": "76bb9d8e-249f-4e5b-96ce-0e194fb163da",
   "metadata": {},
   "outputs": [
    {
     "name": "stderr",
     "output_type": "stream",
     "text": [
      "/Users/yenhsun/GitHub/SNnuBDM2/src/geometry.py:128: RuntimeWarning: invalid value encountered in double_scalars\n",
      "  cosIota = (Re**2 - ell2 - (d*np.cos(theta))**2)/(2*np.cos(theta)*np.sqrt(ell2)*d)\n",
      "/Users/yenhsun/GitHub/SNnuBDM2/src/geometry.py:46: RuntimeWarning: invalid value encountered in double_scalars\n",
      "  cosPsi = (Rstar**2 - D2 - d**2)/(2*D*d)\n"
     ]
    },
    {
     "name": "stdout",
     "output_type": "stream",
     "text": [
      "50 out of 50 jobs are completed!\r"
     ]
    }
   ],
   "source": [
    "Tx = 5\n",
    "mx = 1e-3\n",
    "mV = mx/3\n",
    "theta_ls = np.logspace(-2,np.log10(np.pi/2),20)\n",
    "phi_ls = np.linspace(0,2*np.pi,20)\n",
    "bdmflux = []\n",
    "integ = vegas.Integrator([[0, np.pi/2]])\n",
    "i = 1\n",
    "for t in np.logspace(0,np.log10(10*yr2s),50):\n",
    "    def f(x):\n",
    "        theta = x[0]\n",
    "        return 2*np.pi*get_BDMflux_theta(t,Tx,mx,mV,8.5,theta,0,0)\n",
    "    result = integ(f,nitn=10,neval=5000)\n",
    "    bdmflux.append(result.mean)\n",
    "    print(f'{i} out of 50 jobs are completed!',end='\\r')\n",
    "    i+=1"
   ]
  },
  {
   "cell_type": "code",
   "execution_count": 41,
   "id": "4e7d9053-f461-4ffc-ab92-ab9da64214a0",
   "metadata": {},
   "outputs": [
    {
     "data": {
      "image/png": "[encoded data removed]",
      "text/plain": [
       "<Figure size 432x288 with 1 Axes>"
      ]
     },
     "metadata": {
      "needs_background": "light"
     },
     "output_type": "display_data"
    }
   ],
   "source": [
    "plt.plot(np.logspace(0,np.log10(10*yr2s),50)/yr2s,bdmflux)\n",
    "plt.xscale('log')\n",
    "plt.yscale('log')\n"
   ]
  },
  {
   "cell_type": "code",
   "execution_count": 13,
   "id": "48c96dc8-73d1-422b-8c10-32b5cb86169b",
   "metadata": {},
   "outputs": [
    {
     "data": {
      "text/plain": [
       "[7.676400693283983e+22,\n",
       " 5.814856157114581e+22,\n",
       " 4.153766269623047e+22,\n",
       " 1.862343359803063e+22,\n",
       " 9.588495830568533e+21,\n",
       " 1.5400010227989158e+22,\n",
       " 1.190407088925071e+22,\n",
       " 6.399513140308501e+21,\n",
       " 5.749735332703918e+21,\n",
       " 4.3070490010402937e+21,\n",
       " 3.904842161367486e+21,\n",
       " 1.9549260648363312e+21,\n",
       " 1.806526194564945e+21,\n",
       " 1.337077792305988e+21,\n",
       " 1.210793396270384e+21,\n",
       " 6.383430037148246e+20,\n",
       " 6.100658452497592e+20,\n",
       " 4.685836521803587e+20,\n",
       " 4.92088285046379e+20,\n",
       " 3.308964868607125e+20,\n",
       " 2.6434572798962732e+20,\n",
       " 2.5815383583034196e+20,\n",
       " 1.940753785315387e+20,\n",
       " 8.67241416050841e+19,\n",
       " 5.024326409831696e+19,\n",
       " 2.4826189141328007e+19,\n",
       " 1.024795515689763e+19,\n",
       " 4.913312309398212e+18,\n",
       " 2.5185173218594806e+18,\n",
       " 1.2583332797935421e+18,\n",
       " 6.0991293472223e+17,\n",
       " 2.9659421665310874e+17,\n",
       " 1.484700216965407e+17,\n",
       " 7.357898781330315e+16,\n",
       " 3.636052607603265e+16,\n",
       " 1.7884892479297224e+16,\n",
       " 8857251591021189.0,\n",
       " 4370919251189664.0,\n",
       " 2159031002005092.0,\n",
       " 1068426620510047.9,\n",
       " 527902981622700.6,\n",
       " 260882826991231.53,\n",
       " 128893712694720.56,\n",
       " 63730437516280.02,\n",
       " 31492958487318.12,\n",
       " 15565135261992.209,\n",
       " 7692265525694.309,\n",
       " 3801996906697.5737,\n",
       " 1879078127133.1868,\n",
       " 928736097908.5691]"
      ]
     },
     "execution_count": 13,
     "metadata": {},
     "output_type": "execute_result"
    }
   ],
   "source": [
    "bdmflux"
   ]
  },
  {
   "cell_type": "code",
   "execution_count": 49,
   "id": "221cad0b-a88a-48dc-9de9-9878c8429cf8",
   "metadata": {},
   "outputs": [
    {
     "data": {
      "image/png": "[encoded data removed]",
      "text/plain": [
       "<Figure size 432x288 with 1 Axes>"
      ]
     },
     "metadata": {
      "needs_background": "light"
     },
     "output_type": "display_data"
    }
   ],
   "source": [
    "plt.plot(theta_ls,bdmflux)\n",
    "plt.xscale('log')\n",
    "plt.yscale('log')"
   ]
  },
  {
   "cell_type": "code",
   "execution_count": 44,
   "id": "04101554-5aff-41f2-89ee-056bc95aa229",
   "metadata": {},
   "outputs": [
    {
     "data": {
      "text/plain": [
       "0.19611987703015263"
      ]
     },
     "execution_count": 44,
     "metadata": {},
     "output_type": "execute_result"
    }
   ],
   "source": [
    "np.log10(np.pi/2)"
   ]
  },
  {
   "cell_type": "code",
   "execution_count": 8,
   "id": "0aa9a31f-3216-4f96-bf4c-382852c7f146",
   "metadata": {},
   "outputs": [
    {
     "data": {
      "text/plain": [
       "(1.2661086379218418e-06, 7.797882545587096e-23)"
      ]
     },
     "execution_count": 8,
     "metadata": {},
     "output_type": "execute_result"
    }
   ],
   "source": [
    "xemissivity(3,1e-3,1e-3/3,5,5,8.5,8.5,0.1)"
   ]
  },
  {
   "cell_type": "code",
   "execution_count": 6,
   "id": "e28ff394-388b-4657-8ac0-107438fd9795",
   "metadata": {},
   "outputs": [
    {
     "data": {
      "text/plain": [
       "1.9147717830352495e-26"
      ]
     },
     "execution_count": 6,
     "metadata": {},
     "output_type": "execute_result"
    }
   ],
   "source": [
    "diffCrossSectionNuDM(np.cos(np.pi),10,0.1,0.033,1,1)"
   ]
  },
  {
   "cell_type": "code",
   "execution_count": 12,
   "id": "f4aa151b-93a2-4da0-8b98-10bec71d9e25",
   "metadata": {},
   "outputs": [
    {
     "data": {
      "text/plain": [
       "(5.005260413636671, 0.050503352033445734, 'valid', 1)"
      ]
     },
     "execution_count": 12,
     "metadata": {},
     "output_type": "execute_result"
    }
   ],
   "source": [
    "get_Ev_cosPhi(5,5e-3,0.1)"
   ]
  },
  {
   "cell_type": "code",
   "execution_count": 7,
   "id": "68ede9b1-98f9-4c67-98e0-770256ac0116",
   "metadata": {},
   "outputs": [
    {
     "data": {
      "text/plain": [
       "\u001b[0;31mSignature:\u001b[0m \u001b[0mget_rprime\u001b[0m\u001b[0;34m(\u001b[0m\u001b[0md\u001b[0m\u001b[0;34m,\u001b[0m \u001b[0mRstar\u001b[0m\u001b[0;34m,\u001b[0m \u001b[0mRe\u001b[0m\u001b[0;34m,\u001b[0m \u001b[0mtheta\u001b[0m\u001b[0;34m,\u001b[0m \u001b[0mphi\u001b[0m\u001b[0;34m,\u001b[0m \u001b[0mbeta\u001b[0m\u001b[0;34m,\u001b[0m \u001b[0mtolerance\u001b[0m\u001b[0;34m=\u001b[0m\u001b[0;36m1e-10\u001b[0m\u001b[0;34m)\u001b[0m\u001b[0;34m\u001b[0m\u001b[0;34m\u001b[0m\u001b[0m\n",
       "\u001b[0;31mDocstring:\u001b[0m\n",
       "Calculate the distance from boosted point to GC r'\n",
       "\n",
       "Input\n",
       "------\n",
       "d: the l.o.s distance d\n",
       "Rstar: the distance between Earth and SN\n",
       "Re: the distance between Earth and the GC\n",
       "theta: the open-angle in rad\n",
       "phi: the azimuth angle in rad\n",
       "beta: the off-center angle in rad\n",
       "\n",
       "Output\n",
       "------\n",
       "r': the distance r'\n",
       "\u001b[0;31mFile:\u001b[0m      ~/GitHub/SNnuBDM2/src/geometry.py\n",
       "\u001b[0;31mType:\u001b[0m      function\n"
      ]
     },
     "metadata": {},
     "output_type": "display_data"
    }
   ],
   "source": [
    "get_rprime?"
   ]
  },
  {
   "cell_type": "code",
   "execution_count": 8,
   "id": "fa226c3c-87f4-4f82-9dfa-2e6295f4b2d7",
   "metadata": {},
   "outputs": [
    {
     "data": {
      "text/plain": [
       "\u001b[0;31mSignature:\u001b[0m \u001b[0mget_d\u001b[0m\u001b[0;34m(\u001b[0m\u001b[0mt\u001b[0m\u001b[0;34m,\u001b[0m \u001b[0mvx\u001b[0m\u001b[0;34m,\u001b[0m \u001b[0mRstar\u001b[0m\u001b[0;34m,\u001b[0m \u001b[0mtheta\u001b[0m\u001b[0;34m)\u001b[0m\u001b[0;34m\u001b[0m\u001b[0;34m\u001b[0m\u001b[0m\n",
       "\u001b[0;31mDocstring:\u001b[0m\n",
       "Calculate the distance l.o.s d\n",
       "\n",
       "Input\n",
       "------\n",
       "t: the arrival time of BDM at Earth relative to the first SN neutrino on the Earth\n",
       "vx: BDM velocity in the unit of light speed\n",
       "Rstar: the distance between Earth and SN\n",
       "theta: the open-angle in rad\n",
       "\n",
       "Output\n",
       "------\n",
       "d: the l.o.s\n",
       "\u001b[0;31mFile:\u001b[0m      ~/GitHub/SNnuBDM2/src/geometry.py\n",
       "\u001b[0;31mType:\u001b[0m      function\n"
      ]
     },
     "metadata": {},
     "output_type": "display_data"
    }
   ],
   "source": [
    "get_d?"
   ]
  },
  {
   "cell_type": "code",
   "execution_count": 9,
   "id": "8288aeea-f666-4686-a97a-0cbcc87dd29d",
   "metadata": {},
   "outputs": [
    {
     "data": {
      "text/plain": [
       "\u001b[0;31mSignature:\u001b[0m \u001b[0mget_D\u001b[0m\u001b[0;34m(\u001b[0m\u001b[0md\u001b[0m\u001b[0;34m,\u001b[0m \u001b[0mRstar\u001b[0m\u001b[0;34m,\u001b[0m \u001b[0mtheta\u001b[0m\u001b[0;34m,\u001b[0m \u001b[0mis_square\u001b[0m\u001b[0;34m=\u001b[0m\u001b[0;32mFalse\u001b[0m\u001b[0;34m)\u001b[0m\u001b[0;34m\u001b[0m\u001b[0;34m\u001b[0m\u001b[0m\n",
       "\u001b[0;31mDocstring:\u001b[0m\n",
       "Calculate the distance between SN and boosted point D\n",
       "\n",
       "Input\n",
       "------\n",
       "d: the l.o.s distance d\n",
       "Rstar: the distance between Earth and SN\n",
       "theta: the open-angle in rad\n",
       "is_square: return the square of such distance, default is False\n",
       "\n",
       "Output\n",
       "------\n",
       "D: the distance D\n",
       "\u001b[0;31mFile:\u001b[0m      ~/GitHub/SNnuBDM2/src/geometry.py\n",
       "\u001b[0;31mType:\u001b[0m      function\n"
      ]
     },
     "metadata": {},
     "output_type": "display_data"
    }
   ],
   "source": [
    "get_D?"
   ]
  },
  {
   "cell_type": "code",
   "execution_count": 10,
   "id": "cb010d2c-5580-43d5-9ee4-ab2a77355b6a",
   "metadata": {},
   "outputs": [
    {
     "data": {
      "text/plain": [
       "\u001b[0;31mSignature:\u001b[0m \u001b[0mget_cosPsi\u001b[0m\u001b[0;34m(\u001b[0m\u001b[0md\u001b[0m\u001b[0;34m,\u001b[0m \u001b[0mRstar\u001b[0m\u001b[0;34m,\u001b[0m \u001b[0mtheta\u001b[0m\u001b[0;34m)\u001b[0m\u001b[0;34m\u001b[0m\u001b[0;34m\u001b[0m\u001b[0m\n",
       "\u001b[0;31mDocstring:\u001b[0m\n",
       "Get the cosine value of scattering angle cos(psi).\n",
       "If we did it with law of cosine, then for the case of psi > pi/2,\n",
       "it will always return pi - psi which cannot reflect the pratical\n",
       "situation\n",
       "\n",
       "Input\n",
       "------\n",
       "d: the l.o.s distance d\n",
       "Rstar: the distance between Earth and SN\n",
       "theta: the open-angle in rad\n",
       "\n",
       "Output\n",
       "------\n",
       "psi: scattering angle in rad\n",
       "\u001b[0;31mFile:\u001b[0m      ~/GitHub/SNnuBDM2/src/geometry.py\n",
       "\u001b[0;31mType:\u001b[0m      function\n"
      ]
     },
     "metadata": {},
     "output_type": "display_data"
    }
   ],
   "source": [
    "?get_cosPsi"
   ]
  },
  {
   "cell_type": "code",
   "execution_count": 9,
   "id": "4632f53a-18a2-49ed-af9d-5eb8401b94d4",
   "metadata": {},
   "outputs": [
    {
     "data": {
      "text/plain": [
       "\u001b[0;31mSignature:\u001b[0m \u001b[0mget_BDMv\u001b[0m\u001b[0;34m(\u001b[0m\u001b[0mTx\u001b[0m\u001b[0;34m,\u001b[0m \u001b[0mmx\u001b[0m\u001b[0;34m)\u001b[0m\u001b[0;34m\u001b[0m\u001b[0;34m\u001b[0m\u001b[0m\n",
       "\u001b[0;31mDocstring:\u001b[0m\n",
       "The BDM velocity in the unit of light speed\n",
       "\n",
       "Input\n",
       "------\n",
       "Tx: DM kinetic energy\n",
       "mx: DM mass\n",
       "\n",
       "Output\n",
       "------\n",
       "vx: VDM velocity\n",
       "\u001b[0;31mFile:\u001b[0m      ~/GitHub/SNnuBDM2/src/crossSection.py\n",
       "\u001b[0;31mType:\u001b[0m      function\n"
      ]
     },
     "metadata": {},
     "output_type": "display_data"
    }
   ],
   "source": [
    "get_BDMv?"
   ]
  },
  {
   "cell_type": "code",
   "execution_count": null,
   "id": "ea40a314-02cc-4fb3-93dc-204e1189906c",
   "metadata": {},
   "outputs": [],
   "source": []
  }
 ],
 "metadata": {
  "kernelspec": {
   "display_name": "Python 3 (ipykernel)",
   "language": "python",
   "name": "python3"
  },
  "language_info": {
   "codemirror_mode": {
    "name": "ipython",
    "version": 3
   },
   "file_extension": ".py",
   "mimetype": "text/x-python",
   "name": "python",
   "nbconvert_exporter": "python",
   "pygments_lexer": "ipython3",
   "version": "3.9.7"
  }
 },
 "nbformat": 4,
 "nbformat_minor": 5
}
