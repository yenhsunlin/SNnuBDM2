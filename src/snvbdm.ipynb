{
 "cells": [
  {
   "cell_type": "code",
   "execution_count": 1,
   "id": "3f20d799-6eed-4094-875e-c8a74b863c40",
   "metadata": {},
   "outputs": [],
   "source": [
    "import numpy as np\n",
    "import matplotlib.pyplot as plt\n",
    "import vegas\n",
    "from constants import *"
   ]
  },
  {
   "cell_type": "code",
   "execution_count": 2,
   "id": "710b471d-1c7c-4e1c-9e03-3a051244dbcb",
   "metadata": {},
   "outputs": [],
   "source": [
    "from geometry import get_rprime,get_d,get_D,get_cosPsi\n",
    "from crossSection import get_BDMv,get_BDMp,diffCrossSectionNuDM,get_Ev_cosPhi"
   ]
  },
  {
   "cell_type": "code",
   "execution_count": 3,
   "id": "722dc008-efce-4e0b-8950-245eec97574b",
   "metadata": {},
   "outputs": [],
   "source": [
    "def dnv(D,Ev,Lv = Lv,tau = 10):\n",
    "    \"\"\"\n",
    "    Neutrino number density per energy at d\n",
    "    \n",
    "    Input\n",
    "    ------\n",
    "    Enu: Neutrino energy in MeV\n",
    "    D: Distance from the boosted point to the SN explosion site, in kpc\n",
    "    Lv: Neutrino luminosity, default is 1e52 erg/s\n",
    "    tau: duration of the SN explosion\n",
    "    \n",
    "    Output\n",
    "    ------\n",
    "    Neutrino flux at d: # per Enu per cm**3\n",
    "    \"\"\"\n",
    "    Lv = Lv*erg2MeV*tau\n",
    "    d = d*kpc2cm\n",
    "    \n",
    "    # Fermi dirac distribution\n",
    "    def _fv(Ev,Tv):\n",
    "        exponent = Ev/Tv - 3\n",
    "        return (1/18.9686)*Tv**(-3)*(Ev**2/(np.exp(exponent) + 1))\n",
    "    \n",
    "    nue_dist = _fv(Ev,2.76)/11\n",
    "    nueb_dist = _fv(Ev,4.01)/16\n",
    "    # total 4 species for x\n",
    "    nux_dist = _fv(Ev,6.26)/25\n",
    "    \n",
    "    luminosity = Lv/(4*np.pi*d**2*light_speed)\n",
    "    return luminosity*(nue_dist+nueb_dist+4*nux_dist)\n",
    "\n",
    "\n",
    "def nx(r,mx):\n",
    "    \"\"\"\n",
    "    DM halo number density at r in MW\n",
    "    \n",
    "    Input\n",
    "    ------\n",
    "    r: distance to GC, in kpc\n",
    "    mx: DM mass in MeV\n",
    "    \n",
    "    Output\n",
    "    ------\n",
    "    DM number density, #/cm^3 at r\n",
    "    \"\"\"\n",
    "    rr=r/24.42\n",
    "    return (184/mx)/(rr*(1 + rr)**2)"
   ]
  },
  {
   "cell_type": "markdown",
   "id": "e949f32b-2edf-48af-ba7c-fd51e921e6ba",
   "metadata": {},
   "source": [
    "The term $dE_\\nu/dT_\\chi$ can be evaluated through the reciprocal of\n",
    "$$\n",
    "\\frac{dT_\\chi}{dE_\\nu} = \\frac{d}{dE_\\nu}\\left( E_\\nu - \\frac{E_\\nu m_\\chi}{m_\\chi + E_\\nu(1-\\cos\\phi)}\\right)\n",
    "$$\n",
    "where\n",
    "$$\n",
    "\\cos\\phi = \\frac{1}{\\sqrt{1+\\frac{\\sin^2\\psi}{(E_\\nu/p_\\chi -\\cos\\psi)^2}}}.\n",
    "$$\n",
    "We solved this with \n",
    "$$\n",
    "\\frac{d T_\\chi}{dE_\\nu}=1+\\frac{E_{\\nu}m_{\\chi}}{[m_{\\chi}+E_{\\nu}(1-1/\\sqrt{\\xi})]^{2}}\\left[1-\\frac{E_{\\nu}\\sin^{2}\\psi}{p_{\\chi}(\\frac{E_{\\nu}}{p_{\\chi}}-\\cos\\psi)^{3}\\xi^{3/2}}-\\frac{1}{\\sqrt{\\xi}}\\right]-\\frac{m_{\\chi}}{m_{\\chi}+E_{\\nu}(1-1/\\sqrt{\\xi})}\n",
    "$$\n",
    "where\n",
    "$$\n",
    "\\xi = 1+\\frac{\\sin^2\\psi}{(E_\\nu/p_\\chi -\\cos\\psi)^2}\n",
    "$$"
   ]
  },
  {
   "cell_type": "code",
   "execution_count": 47,
   "id": "2894a222-0535-4ba4-ba46-1e5be0ec2d96",
   "metadata": {},
   "outputs": [],
   "source": [
    "def Ev2(Tx,mx,alpha):\n",
    "    \"\"\"\n",
    "    Calculate the neutrino energy to produce DM kinetic energy at\n",
    "    lab frame with scattering angle alpha via analytical expression.\n",
    "    \n",
    "    Input\n",
    "    ------\n",
    "    Tx: DM kinetic energy\n",
    "    mx: DM mass\n",
    "    alpha: scattering angle in lab frame\n",
    "    \n",
    "    Output\n",
    "    Ev: the corresponding neutrino energy\n",
    "    \"\"\" \n",
    "    sec = 1/np.cos(alpha)\n",
    "    Enu = (Tx*sec**2+sec*np.sqrt(Tx*(2*mx+Tx)))/(2-Tx*np.tan(alpha)**2/mx)\n",
    "    return Enu\n",
    "\n",
    "def gamma(Ev,mx):\n",
    "    \"\"\"\n",
    "    Calculate gamma factor in CM frame\n",
    "    \"\"\"\n",
    "    s = mx**2+2*Ev*mx\n",
    "    Ecm = 0.5*(s+mx**2)/np.sqrt(s)\n",
    "    return Ecm/mx\n",
    "\n",
    "\n",
    "def g(Ev,mx,alpha):\n",
    "    \"\"\"\n",
    "    Calculate BDM angular distribution dndOmega\n",
    "    \n",
    "    Input\n",
    "    ------\n",
    "    Enu: Neutrino energy\n",
    "    mx: DM mass\n",
    "    alpha: lab frame scattering angle in [0,Pi/2]\n",
    "    \n",
    "    Output\n",
    "    ------\n",
    "    g: PDF of scattering angle alpha\n",
    "    \"\"\" \n",
    "    if 0 <= alpha <= np.pi/2 and Ev > 0:\n",
    "        gm = gamma(Ev,mx)\n",
    "        sec = 1/np.cos(alpha)\n",
    "        dndOmega = gm**2*sec**3/np.pi/(1+gm**2*np.tan(alpha)**2)**2\n",
    "    else:\n",
    "        dndOmega = 0\n",
    "    return dndOmega\n",
    "\n",
    "def dEv(Tx,mx,alpha):\n",
    "    \"\"\"\n",
    "    Calculate dEv/dTx via analytical expression. Note that the given\n",
    "    inputs must lead to positive Ev or the corresponding dEvdTx would\n",
    "    be unphysical\n",
    "    \n",
    "    Input\n",
    "    ------\n",
    "    Tx: DM kinetic energy\n",
    "    mx: DM mass\n",
    "    alpha: scattering angle in lab frame\n",
    "    \n",
    "    Output\n",
    "    ------\n",
    "    dEv/dTx: the derivative of Ev over Tx\n",
    "    \"\"\"\n",
    "    sec = 1/np.cos(alpha)\n",
    "    numerator = mx**2*sec*(2*sec*np.sqrt(Tx*(2*mx + Tx)) + 2*mx + Tx*sec**2 + Tx)\n",
    "    denominator = (Tx*np.tan(alpha)**2 - 2*mx)**2*np.sqrt(Tx*(2*mx + Tx))\n",
    "    return numerator/denominator\n"
   ]
  },
  {
   "cell_type": "code",
   "execution_count": 97,
   "id": "a2c8e8b4-3d1c-444b-90d2-cc71ab8802ff",
   "metadata": {},
   "outputs": [],
   "source": [
    "def dEvdTx(Ev,Tx,mx,psi):\n",
    "    \"\"\"\n",
    "    Get the dEv/dTx for the given inputs\n",
    "    \"\"\"\n",
    "    px = get_BDMp(Tx,mx)\n",
    "    xi = 1 + np.sin(psi)**2/(Ev/px - np.cos(psi))**2\n",
    "    A = Ev*mx/(mx + Ev*(1 - 1/np.sqrt(xi)))**2\n",
    "    B = 1 - Ev*np.sin(psi)**2/px/(Ev/px - np.cos(psi))**3/xi**1.5 - 1/np.sqrt(xi)\n",
    "    C = mx/(mx + Ev*(1 - 1/np.sqrt(xi)))\n",
    "    dTxdEv = 1 + A*B - C\n",
    "    return 1/dTxdEv\n",
    "\n",
    "\n",
    "def xemissivity(Tx,mx,mV,r,D,Rstar,psi,Re = 8.5,gV = 1,gD = 1,max_Ev = 100,deltaTx = 1e-6):\n",
    "    \"\"\"\n",
    "    Evaluate the BDM emissivity toward the direction psi at the given boosted point \n",
    "    \n",
    "    Input\n",
    "    ------\n",
    "    Tx: BDM kinetic energy, MeV\n",
    "    mx: DM mass, MeV\n",
    "    mV: mediator mass, MeV\n",
    "    r: distance from boosted point to GC for calculating DM number density, kpc\n",
    "    D: distance from boosted point to the SN explosion site, kpc\n",
    "    Rstar: distance from SN to the Earth, kpc\n",
    "    psi: the BDM scattering angle, rad\n",
    "    Re: distance from GC to Earth, default 8.5 kpc\n",
    "    gV: DM-neutrino coupling constant, default 1\n",
    "    gD: DM-DM coupling constant, default 1\n",
    "    max_Ev: maximum neutrino energy to be searched for, default 100 MeV\n",
    "    \n",
    "    Output\n",
    "    ------\n",
    "    jx: BDM emissivity at the boosted point, 1/(MeV*cm^3*s*rad)\n",
    "    \"\"\"\n",
    "    # Get the required Ev and cos(phi) to generate BDM with kinetic energy Tx with DM\n",
    "    # scattering angle psi\n",
    "    Ev,cosPhi,flag,_ = get_Ev_cosPhi(Tx,mx,psi,max_Ev = max_Ev)\n",
    "    #Evp,_,flag_dTx,_ = get_Ev_cosPhi(Tx + deltaTx,mx,psi,max_Ev = max_Ev)\n",
    "    # If both flags are valid, proceed the calculation. Otherwise, terminates the function \n",
    "    if flag == 'valid': #and flag_dTx == 'valid':\n",
    "        # Get the differential DM-nu scattering cross section\n",
    "        diffCrox = diffCrossSectionNuDM(cosPhi,Ev,mx,mV,gV,gD)\n",
    "        # Get dEv/dTx\n",
    "        dEvdTx =  dEvdTx(Ev,Tx,mx,psi) # (Evp - Ev)/deltaTx\n",
    "        # Get the emissivity jx\n",
    "        jx = light_speed*diffCrox*nx(r,mx)*dnv(D,Ev,Lv=Lv,tau=10)*dEvdTx\n",
    "        return jx\n",
    "    else:\n",
    "        # flag is invalid, unphysical inputs\n",
    "        return 0\n",
    "        "
   ]
  },
  {
   "cell_type": "code",
   "execution_count": 72,
   "id": "c5f2db71-f7e0-4171-b5a5-a3ae4b69bad4",
   "metadata": {},
   "outputs": [
    {
     "data": {
      "text/plain": [
       "0.0017293587159668514"
      ]
     },
     "execution_count": 72,
     "metadata": {},
     "output_type": "execute_result"
    }
   ],
   "source": [
    "dEv(5,1e-3,0.1)"
   ]
  },
  {
   "cell_type": "code",
   "execution_count": 62,
   "id": "504508ed-a3b8-490e-92b0-1e79504673e1",
   "metadata": {},
   "outputs": [
    {
     "data": {
      "text/plain": [
       "((5.001052503258818, 0.05008413487069898, 'valid', 1),\n",
       " (5.000952503256714, 0.05008413696940668, 'valid', 1))"
      ]
     },
     "execution_count": 62,
     "metadata": {},
     "output_type": "execute_result"
    }
   ],
   "source": [
    "get_Ev_cosPhi(5,1e-3,0.1),get_Ev_cosPhi(5-1e-4,1e-3,0.1)"
   ]
  },
  {
   "cell_type": "code",
   "execution_count": 30,
   "id": "b3aae60b-445c-4b84-98c2-e6a27a374ddd",
   "metadata": {},
   "outputs": [
    {
     "data": {
      "text/plain": [
       "1.0000000210386162"
      ]
     },
     "execution_count": 30,
     "metadata": {},
     "output_type": "execute_result"
    }
   ],
   "source": [
    "(Evp-Ev)/1e-4"
   ]
  },
  {
   "cell_type": "code",
   "execution_count": 90,
   "id": "b0317082-6ebf-4aeb-a6fb-8caf851617c5",
   "metadata": {},
   "outputs": [
    {
     "data": {
      "text/plain": [
       "0.9999999800079973"
      ]
     },
     "execution_count": 90,
     "metadata": {},
     "output_type": "execute_result"
    }
   ],
   "source": [
    "get_BDMv(5,1e-3)"
   ]
  },
  {
   "cell_type": "code",
   "execution_count": 43,
   "id": "f1ed6e03-de28-4bd8-a413-5481c76e5f2e",
   "metadata": {},
   "outputs": [
    {
     "data": {
      "text/plain": [
       "1.0021967448378222"
      ]
     },
     "execution_count": 43,
     "metadata": {},
     "output_type": "execute_result"
    }
   ],
   "source": [
    "dEvdTx(5,Evp,1e-3,0.1)"
   ]
  },
  {
   "cell_type": "code",
   "execution_count": 128,
   "id": "8ba3125f-7b0a-4427-bc78-1abdc48a9d3c",
   "metadata": {},
   "outputs": [],
   "source": [
    "def get_BDMflux_theta(t,Tx,mx,mV,Rstar,theta,phi,beta,Re = 8.5,gV = 1,gD = 1,max_Ev = 100):\n",
    "    # Get BDM velocity\n",
    "    vx = get_BDMv(Tx,mx)\n",
    "    # Get the propagation length of BDM via given t and vx\n",
    "    d = get_d(t,vx,Rstar,theta)\n",
    "    # Get the required SNv propagation length\n",
    "    D = get_D(d,Rstar,theta)\n",
    "    # Get the distance between boosted point to GC\n",
    "    rprime = get_rprime(d,Rstar,Re,theta,phi,beta)\n",
    "    if rprime >= 1e-6:\n",
    "        # Get the BDM scattering angle psi\n",
    "        psi = np.arccos(get_cosPsi(d,Rstar,theta))\n",
    "        # Evaluate the xemissivity\n",
    "        jx = xemissivity(Tx,mx,mV,rprime,D,Rstar,psi,Re,gV,gD,max_Ev)\n",
    "        # Jacobian\n",
    "        J = light_speed/((d - Rstar*np.cos(theta))/D + 1/vx)\n",
    "        # BDM flux\n",
    "        return J*jx*vx*np.sin(theta)\n",
    "    else:\n",
    "        return 0"
   ]
  },
  {
   "cell_type": "code",
   "execution_count": 76,
   "id": "24aa08f3-5691-4a80-baac-2d4d5d20fd90",
   "metadata": {},
   "outputs": [
    {
     "data": {
      "text/plain": [
       "9.859994783399664e+16"
      ]
     },
     "execution_count": 76,
     "metadata": {},
     "output_type": "execute_result"
    }
   ],
   "source": [
    "get_d(10000,get_BDMv(5,1e-3),8.5,0.078)*kpc2cm"
   ]
  },
  {
   "cell_type": "code",
   "execution_count": 82,
   "id": "5c95d2e2-7dad-413b-95b7-c0790fd54c77",
   "metadata": {},
   "outputs": [
    {
     "data": {
      "text/plain": [
       "8.499968143088475"
      ]
     },
     "execution_count": 82,
     "metadata": {},
     "output_type": "execute_result"
    }
   ],
   "source": [
    "get_D(get_d(10000,get_BDMv(5,1e-3),8.5,0.078),8.5,0.078)"
   ]
  },
  {
   "cell_type": "code",
   "execution_count": 80,
   "id": "09601d50-3c9b-4f33-8714-80c16c72c0a4",
   "metadata": {},
   "outputs": [
    {
     "data": {
      "text/plain": [
       "0.07800029299979098"
      ]
     },
     "execution_count": 80,
     "metadata": {},
     "output_type": "execute_result"
    }
   ],
   "source": [
    "np.arccos(get_cosPsi(get_d(10000,get_BDMv(5,1e-3),8.5,0.078),get_D(get_d(10000,get_BDMv(5,1e-3),8.5,0.078),8.5,0.078),0.078))"
   ]
  },
  {
   "cell_type": "code",
   "execution_count": 83,
   "id": "ec9f6c60-d39f-4d8b-bd85-dedbaea1594f",
   "metadata": {},
   "outputs": [
    {
     "data": {
      "text/plain": [
       "8.499968143076604"
      ]
     },
     "execution_count": 83,
     "metadata": {},
     "output_type": "execute_result"
    }
   ],
   "source": [
    "get_rprime(get_d(10000,get_BDMv(5,1e-3),8.5,0.078),8.5,8.5,0.078,0.9,0)"
   ]
  },
  {
   "cell_type": "code",
   "execution_count": 129,
   "id": "76bb9d8e-249f-4e5b-96ce-0e194fb163da",
   "metadata": {},
   "outputs": [
    {
     "name": "stdout",
     "output_type": "stream",
     "text": [
      "2\r"
     ]
    },
    {
     "name": "stderr",
     "output_type": "stream",
     "text": [
      "/Users/yenhsun/GitHub/SNnuBDM2/src/geometry.py:128: RuntimeWarning: divide by zero encountered in double_scalars\n",
      "  cosIota = (Re**2 - ell2 - (d*np.cos(theta))**2)/(2*np.cos(theta)*np.sqrt(ell2)*d)\n"
     ]
    },
    {
     "name": "stdout",
     "output_type": "stream",
     "text": [
      "4\r"
     ]
    },
    {
     "name": "stderr",
     "output_type": "stream",
     "text": [
      "/Users/yenhsun/GitHub/SNnuBDM2/src/geometry.py:128: RuntimeWarning: invalid value encountered in sqrt\n",
      "  cosIota = (Re**2 - ell2 - (d*np.cos(theta))**2)/(2*np.cos(theta)*np.sqrt(ell2)*d)\n",
      "/Users/yenhsun/GitHub/SNnuBDM2/src/geometry.py:148: RuntimeWarning: invalid value encountered in sqrt\n",
      "  rp2 = ell2*cosIota**2 + (np.sqrt(ell2)*sinIota - h*np.sin(phi))**2 + h**2*np.cos(phi)**2\n"
     ]
    },
    {
     "name": "stdout",
     "output_type": "stream",
     "text": [
      "25\r"
     ]
    },
    {
     "name": "stderr",
     "output_type": "stream",
     "text": [
      "/var/folders/qf/n6502vwn5yz_j_q3fyn7nt140000gn/T/ipykernel_99573/3745238628.py:12: RuntimeWarning: invalid value encountered in arccos\n",
      "  psi = np.arccos(get_cosPsi(d,Rstar,theta))\n"
     ]
    },
    {
     "name": "stdout",
     "output_type": "stream",
     "text": [
      "50\r"
     ]
    }
   ],
   "source": [
    "Tx = 5\n",
    "mx = 1e-3\n",
    "mV = mx/3\n",
    "theta_ls = np.logspace(-2,np.log10(np.pi/2),20)\n",
    "phi_ls = np.linspace(0,2*np.pi,20)\n",
    "bdmflux = []\n",
    "integ = vegas.Integrator([[0, np.pi/2]])\n",
    "i = 1\n",
    "for t in np.logspace(np.log10(yr2s)-3,np.log10(0.1*yr2s),50):\n",
    "    def f(x):\n",
    "        theta = x[0]\n",
    "        return 2*np.pi*get_BDMflux_theta(t,Tx,mx,mV,8.5,theta,0,0)\n",
    "        #if ~np.isnan(flux):\n",
    "        #    return flux\n",
    "        #else: return 0\n",
    "    result = integ(f,nitn=10,neval=2000)\n",
    "    bdmflux.append(result.mean)\n",
    "    print(i,end='\\r')\n",
    "    i+=1"
   ]
  },
  {
   "cell_type": "code",
   "execution_count": 130,
   "id": "4e7d9053-f461-4ffc-ab92-ab9da64214a0",
   "metadata": {},
   "outputs": [
    {
     "data": {
      "text/plain": [
       "Text(0.5, 1.0, '$T_\\\\chi = 5$ MeV and $m_\\\\chi = 1$ keV')"
      ]
     },
     "execution_count": 130,
     "metadata": {},
     "output_type": "execute_result"
    },
    {
     "data": {
      "image/png": "[encoded data removed]",
      "text/plain": [
       "<Figure size 432x288 with 1 Axes>"
      ]
     },
     "metadata": {
      "needs_background": "light"
     },
     "output_type": "display_data"
    }
   ],
   "source": [
    "plt.plot(np.logspace(np.log10(yr2s)-3,np.log10(0.1*yr2s),50)/yr2s,bdmflux)\n",
    "plt.xscale('log')\n",
    "plt.yscale('log')\n",
    "plt.xlabel(r'$t$ [yr]')\n",
    "plt.ylabel(r'$g_V^{-2}g_D^{-2}d\\Phi_\\chi/dT_\\chi$ [MeV^{-1} cm$^{-2} s^{-1}$]')\n",
    "plt.title(r'$T_\\chi = 5$ MeV and $m_\\chi = 1$ keV')"
   ]
  },
  {
   "cell_type": "code",
   "execution_count": 49,
   "id": "221cad0b-a88a-48dc-9de9-9878c8429cf8",
   "metadata": {},
   "outputs": [
    {
     "data": {
      "image/png": "[encoded data removed]",
      "text/plain": [
       "<Figure size 432x288 with 1 Axes>"
      ]
     },
     "metadata": {
      "needs_background": "light"
     },
     "output_type": "display_data"
    }
   ],
   "source": [
    "plt.plot(theta_ls,bdmflux)\n",
    "plt.xscale('log')\n",
    "plt.yscale('log')"
   ]
  },
  {
   "cell_type": "code",
   "execution_count": 44,
   "id": "04101554-5aff-41f2-89ee-056bc95aa229",
   "metadata": {},
   "outputs": [
    {
     "data": {
      "text/plain": [
       "0.19611987703015263"
      ]
     },
     "execution_count": 44,
     "metadata": {},
     "output_type": "execute_result"
    }
   ],
   "source": [
    "np.log10(np.pi/2)"
   ]
  },
  {
   "cell_type": "code",
   "execution_count": 58,
   "id": "0aa9a31f-3216-4f96-bf4c-382852c7f146",
   "metadata": {},
   "outputs": [
    {
     "data": {
      "text/plain": [
       "-0.0"
      ]
     },
     "execution_count": 58,
     "metadata": {},
     "output_type": "execute_result"
    }
   ],
   "source": [
    "xemissivity(3,1e-3,1e-3/3,5,5,8.5,8.5,0.1)"
   ]
  },
  {
   "cell_type": "code",
   "execution_count": 6,
   "id": "e28ff394-388b-4657-8ac0-107438fd9795",
   "metadata": {},
   "outputs": [
    {
     "data": {
      "text/plain": [
       "1.9147717830352495e-26"
      ]
     },
     "execution_count": 6,
     "metadata": {},
     "output_type": "execute_result"
    }
   ],
   "source": [
    "diffCrossSectionNuDM(np.cos(np.pi),10,0.1,0.033,1,1)"
   ]
  },
  {
   "cell_type": "code",
   "execution_count": 12,
   "id": "f4aa151b-93a2-4da0-8b98-10bec71d9e25",
   "metadata": {},
   "outputs": [
    {
     "data": {
      "text/plain": [
       "(5.005260413636671, 0.050503352033445734, 'valid', 1)"
      ]
     },
     "execution_count": 12,
     "metadata": {},
     "output_type": "execute_result"
    }
   ],
   "source": [
    "get_Ev_cosPhi(5,5e-3,0.1)"
   ]
  },
  {
   "cell_type": "code",
   "execution_count": 7,
   "id": "68ede9b1-98f9-4c67-98e0-770256ac0116",
   "metadata": {},
   "outputs": [
    {
     "data": {
      "text/plain": [
       "\u001b[0;31mSignature:\u001b[0m \u001b[0mget_rprime\u001b[0m\u001b[0;34m(\u001b[0m\u001b[0md\u001b[0m\u001b[0;34m,\u001b[0m \u001b[0mRstar\u001b[0m\u001b[0;34m,\u001b[0m \u001b[0mRe\u001b[0m\u001b[0;34m,\u001b[0m \u001b[0mtheta\u001b[0m\u001b[0;34m,\u001b[0m \u001b[0mphi\u001b[0m\u001b[0;34m,\u001b[0m \u001b[0mbeta\u001b[0m\u001b[0;34m,\u001b[0m \u001b[0mtolerance\u001b[0m\u001b[0;34m=\u001b[0m\u001b[0;36m1e-10\u001b[0m\u001b[0;34m)\u001b[0m\u001b[0;34m\u001b[0m\u001b[0;34m\u001b[0m\u001b[0m\n",
       "\u001b[0;31mDocstring:\u001b[0m\n",
       "Calculate the distance from boosted point to GC r'\n",
       "\n",
       "Input\n",
       "------\n",
       "d: the l.o.s distance d\n",
       "Rstar: the distance between Earth and SN\n",
       "Re: the distance between Earth and the GC\n",
       "theta: the open-angle in rad\n",
       "phi: the azimuth angle in rad\n",
       "beta: the off-center angle in rad\n",
       "\n",
       "Output\n",
       "------\n",
       "r': the distance r'\n",
       "\u001b[0;31mFile:\u001b[0m      ~/GitHub/SNnuBDM2/src/geometry.py\n",
       "\u001b[0;31mType:\u001b[0m      function\n"
      ]
     },
     "metadata": {},
     "output_type": "display_data"
    }
   ],
   "source": [
    "get_rprime?"
   ]
  },
  {
   "cell_type": "code",
   "execution_count": 8,
   "id": "fa226c3c-87f4-4f82-9dfa-2e6295f4b2d7",
   "metadata": {},
   "outputs": [
    {
     "data": {
      "text/plain": [
       "\u001b[0;31mSignature:\u001b[0m \u001b[0mget_d\u001b[0m\u001b[0;34m(\u001b[0m\u001b[0mt\u001b[0m\u001b[0;34m,\u001b[0m \u001b[0mvx\u001b[0m\u001b[0;34m,\u001b[0m \u001b[0mRstar\u001b[0m\u001b[0;34m,\u001b[0m \u001b[0mtheta\u001b[0m\u001b[0;34m)\u001b[0m\u001b[0;34m\u001b[0m\u001b[0;34m\u001b[0m\u001b[0m\n",
       "\u001b[0;31mDocstring:\u001b[0m\n",
       "Calculate the distance l.o.s d\n",
       "\n",
       "Input\n",
       "------\n",
       "t: the arrival time of BDM at Earth relative to the first SN neutrino on the Earth\n",
       "vx: BDM velocity in the unit of light speed\n",
       "Rstar: the distance between Earth and SN\n",
       "theta: the open-angle in rad\n",
       "\n",
       "Output\n",
       "------\n",
       "d: the l.o.s\n",
       "\u001b[0;31mFile:\u001b[0m      ~/GitHub/SNnuBDM2/src/geometry.py\n",
       "\u001b[0;31mType:\u001b[0m      function\n"
      ]
     },
     "metadata": {},
     "output_type": "display_data"
    }
   ],
   "source": [
    "get_d?"
   ]
  },
  {
   "cell_type": "code",
   "execution_count": 9,
   "id": "8288aeea-f666-4686-a97a-0cbcc87dd29d",
   "metadata": {},
   "outputs": [
    {
     "data": {
      "text/plain": [
       "\u001b[0;31mSignature:\u001b[0m \u001b[0mget_D\u001b[0m\u001b[0;34m(\u001b[0m\u001b[0md\u001b[0m\u001b[0;34m,\u001b[0m \u001b[0mRstar\u001b[0m\u001b[0;34m,\u001b[0m \u001b[0mtheta\u001b[0m\u001b[0;34m,\u001b[0m \u001b[0mis_square\u001b[0m\u001b[0;34m=\u001b[0m\u001b[0;32mFalse\u001b[0m\u001b[0;34m)\u001b[0m\u001b[0;34m\u001b[0m\u001b[0;34m\u001b[0m\u001b[0m\n",
       "\u001b[0;31mDocstring:\u001b[0m\n",
       "Calculate the distance between SN and boosted point D\n",
       "\n",
       "Input\n",
       "------\n",
       "d: the l.o.s distance d\n",
       "Rstar: the distance between Earth and SN\n",
       "theta: the open-angle in rad\n",
       "is_square: return the square of such distance, default is False\n",
       "\n",
       "Output\n",
       "------\n",
       "D: the distance D\n",
       "\u001b[0;31mFile:\u001b[0m      ~/GitHub/SNnuBDM2/src/geometry.py\n",
       "\u001b[0;31mType:\u001b[0m      function\n"
      ]
     },
     "metadata": {},
     "output_type": "display_data"
    }
   ],
   "source": [
    "get_D?"
   ]
  },
  {
   "cell_type": "code",
   "execution_count": 10,
   "id": "cb010d2c-5580-43d5-9ee4-ab2a77355b6a",
   "metadata": {},
   "outputs": [
    {
     "data": {
      "text/plain": [
       "\u001b[0;31mSignature:\u001b[0m \u001b[0mget_cosPsi\u001b[0m\u001b[0;34m(\u001b[0m\u001b[0md\u001b[0m\u001b[0;34m,\u001b[0m \u001b[0mRstar\u001b[0m\u001b[0;34m,\u001b[0m \u001b[0mtheta\u001b[0m\u001b[0;34m)\u001b[0m\u001b[0;34m\u001b[0m\u001b[0;34m\u001b[0m\u001b[0m\n",
       "\u001b[0;31mDocstring:\u001b[0m\n",
       "Get the cosine value of scattering angle cos(psi).\n",
       "If we did it with law of cosine, then for the case of psi > pi/2,\n",
       "it will always return pi - psi which cannot reflect the pratical\n",
       "situation\n",
       "\n",
       "Input\n",
       "------\n",
       "d: the l.o.s distance d\n",
       "Rstar: the distance between Earth and SN\n",
       "theta: the open-angle in rad\n",
       "\n",
       "Output\n",
       "------\n",
       "psi: scattering angle in rad\n",
       "\u001b[0;31mFile:\u001b[0m      ~/GitHub/SNnuBDM2/src/geometry.py\n",
       "\u001b[0;31mType:\u001b[0m      function\n"
      ]
     },
     "metadata": {},
     "output_type": "display_data"
    }
   ],
   "source": [
    "?get_cosPsi"
   ]
  },
  {
   "cell_type": "code",
   "execution_count": 9,
   "id": "4632f53a-18a2-49ed-af9d-5eb8401b94d4",
   "metadata": {},
   "outputs": [
    {
     "data": {
      "text/plain": [
       "\u001b[0;31mSignature:\u001b[0m \u001b[0mget_BDMv\u001b[0m\u001b[0;34m(\u001b[0m\u001b[0mTx\u001b[0m\u001b[0;34m,\u001b[0m \u001b[0mmx\u001b[0m\u001b[0;34m)\u001b[0m\u001b[0;34m\u001b[0m\u001b[0;34m\u001b[0m\u001b[0m\n",
       "\u001b[0;31mDocstring:\u001b[0m\n",
       "The BDM velocity in the unit of light speed\n",
       "\n",
       "Input\n",
       "------\n",
       "Tx: DM kinetic energy\n",
       "mx: DM mass\n",
       "\n",
       "Output\n",
       "------\n",
       "vx: VDM velocity\n",
       "\u001b[0;31mFile:\u001b[0m      ~/GitHub/SNnuBDM2/src/crossSection.py\n",
       "\u001b[0;31mType:\u001b[0m      function\n"
      ]
     },
     "metadata": {},
     "output_type": "display_data"
    }
   ],
   "source": [
    "get_BDMv?"
   ]
  },
  {
   "cell_type": "code",
   "execution_count": null,
   "id": "ea40a314-02cc-4fb3-93dc-204e1189906c",
   "metadata": {},
   "outputs": [],
   "source": []
  }
 ],
 "metadata": {
  "kernelspec": {
   "display_name": "Python 3 (ipykernel)",
   "language": "python",
   "name": "python3"
  },
  "language_info": {
   "codemirror_mode": {
    "name": "ipython",
    "version": 3
   },
   "file_extension": ".py",
   "mimetype": "text/x-python",
   "name": "python",
   "nbconvert_exporter": "python",
   "pygments_lexer": "ipython3",
   "version": "3.9.7"
  }
 },
 "nbformat": 4,
 "nbformat_minor": 5
}
