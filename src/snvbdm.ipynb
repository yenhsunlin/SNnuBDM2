{
 "cells": [
  {
   "cell_type": "code",
   "execution_count": 1,
   "id": "3f20d799-6eed-4094-875e-c8a74b863c40",
   "metadata": {},
   "outputs": [],
   "source": [
    "import numpy as np\n",
    "import matplotlib.pyplot as plt\n",
    "import vegas\n",
    "from constants import *"
   ]
  },
  {
   "cell_type": "code",
   "execution_count": 2,
   "id": "710b471d-1c7c-4e1c-9e03-3a051244dbcb",
   "metadata": {},
   "outputs": [],
   "source": [
    "from geometry import get_rprime,get_d,get_D,get_cosPsi\n",
    "from crossSection import get_BDMv,get_BDMp,diffCrossSectionNuDM,get_Ev_cosPhi"
   ]
  },
  {
   "cell_type": "code",
   "execution_count": 3,
   "id": "722dc008-efce-4e0b-8950-245eec97574b",
   "metadata": {},
   "outputs": [],
   "source": [
    "def dnv(d,Ev,Lv = Lv,tau = 10):\n",
    "    \"\"\"\n",
    "    Neutrino number density per energy at d\n",
    "    \n",
    "    Input\n",
    "    ------\n",
    "    Enu: Neutrino energy in MeV\n",
    "    d: Distance to the SN explosion site, in kpc\n",
    "    Lv: Neutrino luminosity, default is 1e52 erg/s\n",
    "    tau: duration of the SN explosion\n",
    "    \n",
    "    Output\n",
    "    ------\n",
    "    Neutrino flux at d: # per Enu per cm**3\n",
    "    \"\"\"\n",
    "    Lv = Lv*erg2MeV*tau\n",
    "    d = d*kpc2cm\n",
    "    \n",
    "    # Fermi dirac distribution\n",
    "    def _fv(Ev,Tv):\n",
    "        exponent = Ev/Tv - 3\n",
    "        return (1/18.9686)*Tv**(-3)*(Ev**2/(np.exp(exponent) + 1))\n",
    "    \n",
    "    nue_dist = _fv(Ev,2.76)/11\n",
    "    nueb_dist = _fv(Ev,4.01)/16\n",
    "    # total 4 species for x\n",
    "    nux_dist = _fv(Ev,6.26)/25\n",
    "    \n",
    "    luminosity = Lv/(4*np.pi*d**2*light_speed)\n",
    "    return luminosity*(nue_dist+nueb_dist+4*nux_dist)\n",
    "\n",
    "\n",
    "def nx(r,mx):\n",
    "    \"\"\"\n",
    "    DM halo number density at r in MW\n",
    "    \n",
    "    Input\n",
    "    ------\n",
    "    r: distance to GC, in kpc\n",
    "    mx: DM mass in MeV\n",
    "    \n",
    "    Output\n",
    "    ------\n",
    "    DM number density, #/cm^3 at r\n",
    "    \"\"\"\n",
    "    rr=r/24.42\n",
    "    return (184/mx)/(rr*(1 + rr)**2)"
   ]
  },
  {
   "cell_type": "markdown",
   "id": "e949f32b-2edf-48af-ba7c-fd51e921e6ba",
   "metadata": {},
   "source": [
    "The term $dE_\\nu/dT_\\chi$ can be evaluated through the reciprocal of\n",
    "$$\n",
    "\\frac{dT_\\chi}{dE_\\nu} = \\frac{d}{dE_\\nu}\\left( E_\\nu - \\frac{E_\\nu m_\\chi}{m_\\chi + E_\\nu(1-\\cos\\phi)}\\right)\n",
    "$$\n",
    "where\n",
    "$$\n",
    "\\cos\\phi = \\frac{1}{\\sqrt{1+\\frac{\\sin^2\\psi}{(E_\\nu/p_\\chi -\\cos\\psi)^2}}}.\n",
    "$$\n",
    "We solved this with \n",
    "$$\n",
    "\\frac{d T_\\chi}{dE_\\nu}=1+\\frac{E_{\\nu}m_{\\chi}}{[m_{\\chi}+E_{\\nu}(1-1/\\sqrt{\\xi})]^{2}}\\left[1-\\frac{E_{\\nu}\\sin^{2}\\psi}{p_{\\chi}(\\frac{E_{\\nu}}{p_{\\chi}}-\\cos\\psi)^{3}\\xi^{3/2}}-\\frac{1}{\\sqrt{\\xi}}\\right]-\\frac{m_{\\chi}}{m_{\\chi}+E_{\\nu}(1-1/\\sqrt{\\xi})}\n",
    "$$\n",
    "where\n",
    "$$\n",
    "\\xi = 1+\\frac{\\sin^2\\psi}{(E_\\nu/p_\\chi -\\cos\\psi)^2}\n",
    "$$"
   ]
  },
  {
   "cell_type": "code",
   "execution_count": 17,
   "id": "a2c8e8b4-3d1c-444b-90d2-cc71ab8802ff",
   "metadata": {},
   "outputs": [],
   "source": [
    "def dEvdTx(Ev,Tx,mx,psi):\n",
    "    \"\"\"\n",
    "    Get the dEv/dTx for the given inputs\n",
    "    \"\"\"\n",
    "    px = get_BDMp(Tx,mx)\n",
    "    xi = 1 + np.sin(psi)**2/(Ev/px - np.cos(psi))**2\n",
    "    A = Ev*mx/(mx + Ev*(1 - 1/np.sqrt(xi)))**2\n",
    "    B = 1 - Ev*np.sin(psi)**2/px/(Ev/px - np.cos(psi))**3/xi**1.5 - 1/np.sqrt(xi)\n",
    "    C = mx/(mx + Ev*(1 - 1/np.sqrt(xi)))\n",
    "    dTxdEv = 1 + A*B - C\n",
    "    return 1/dTxdEv\n",
    "\n",
    "\n",
    "def xemissivity(Tx,mx,mV,r,d,Rstar,psi,Re = 8.5,gV = 1,gD = 1,max_Ev = 100):\n",
    "    \"\"\"\n",
    "    Evaluate the BDM emissivity toward the direction psi at the given boosted point \n",
    "    \n",
    "    Input\n",
    "    ------\n",
    "    Tx: BDM kinetic energy, MeV\n",
    "    mx: DM mass, MeV\n",
    "    mV: mediator mass, MeV\n",
    "    r: distance from boosted point to GC for calculating DM number density, kpc\n",
    "    d: distance from boosted point to the Earth, kpc\n",
    "    Rstar: distance from SN to the Earth, kpc\n",
    "    psi: the BDM scattering angle, rad\n",
    "    Re: distance from GC to Earth, default 8.5 kpc\n",
    "    gV: DM-neutrino coupling constant, default 1\n",
    "    gD: DM-DM coupling constant, default 1\n",
    "    max_Ev: maximum neutrino energy to be searched for, default 100 MeV\n",
    "    \n",
    "    Output\n",
    "    ------\n",
    "    jx: BDM emissivity at the boosted point, 1/(MeV*cm^3*s*rad)\n",
    "    \"\"\"\n",
    "    # Get the required Ev and cos(phi) to generate BDM with kinetic energy Tx with DM\n",
    "    # scattering angle psi\n",
    "    Ev,cosPhi,flag,_ = get_Ev_cosPhi(Tx,mx,psi,max_Ev = max_Ev)\n",
    "    # If flag is valid, proceed the calculation. Otherwise, terminates the function \n",
    "    if flag == 'valid':\n",
    "        # flag is valid\n",
    "        # Get the DM-nu scattering cross section\n",
    "        diffCrox = diffCrossSectionNuDM(cosPhi,Ev,mx,mV,gV,gD)\n",
    "        # Get the emissivity jx\n",
    "        jx = light_speed*diffCrox*nx(r,mx)*dnv(d,Ev,Lv=Lv,tau=10)*dEvdTx(Ev,Tx,mx,psi)\n",
    "        return jx\n",
    "    else:\n",
    "        # flag is invalid, unphysical inputs\n",
    "        return 0\n",
    "        "
   ]
  },
  {
   "cell_type": "code",
   "execution_count": 18,
   "id": "0aa9a31f-3216-4f96-bf4c-382852c7f146",
   "metadata": {},
   "outputs": [
    {
     "data": {
      "text/plain": [
       "1.5392283987404687e-08"
      ]
     },
     "execution_count": 18,
     "metadata": {},
     "output_type": "execute_result"
    }
   ],
   "source": [
    "xemissivity(3,1e-3,1e-3/3,5,5,8.5,8.5,0.1)"
   ]
  },
  {
   "cell_type": "code",
   "execution_count": 6,
   "id": "e28ff394-388b-4657-8ac0-107438fd9795",
   "metadata": {},
   "outputs": [
    {
     "data": {
      "text/plain": [
       "1.9147717830352495e-26"
      ]
     },
     "execution_count": 6,
     "metadata": {},
     "output_type": "execute_result"
    }
   ],
   "source": [
    "diffCrossSectionNuDM(np.cos(np.pi),10,0.1,0.033,1,1)"
   ]
  },
  {
   "cell_type": "code",
   "execution_count": 12,
   "id": "f4aa151b-93a2-4da0-8b98-10bec71d9e25",
   "metadata": {},
   "outputs": [
    {
     "data": {
      "text/plain": [
       "(5.005260413636671, 0.050503352033445734, 'valid', 1)"
      ]
     },
     "execution_count": 12,
     "metadata": {},
     "output_type": "execute_result"
    }
   ],
   "source": [
    "get_Ev_cosPhi(5,5e-3,0.1)"
   ]
  },
  {
   "cell_type": "code",
   "execution_count": 7,
   "id": "68ede9b1-98f9-4c67-98e0-770256ac0116",
   "metadata": {},
   "outputs": [
    {
     "data": {
      "text/plain": [
       "\u001b[0;31mSignature:\u001b[0m \u001b[0mget_rprime\u001b[0m\u001b[0;34m(\u001b[0m\u001b[0md\u001b[0m\u001b[0;34m,\u001b[0m \u001b[0mRstar\u001b[0m\u001b[0;34m,\u001b[0m \u001b[0mRe\u001b[0m\u001b[0;34m,\u001b[0m \u001b[0mtheta\u001b[0m\u001b[0;34m,\u001b[0m \u001b[0mphi\u001b[0m\u001b[0;34m,\u001b[0m \u001b[0mbeta\u001b[0m\u001b[0;34m,\u001b[0m \u001b[0mtolerance\u001b[0m\u001b[0;34m=\u001b[0m\u001b[0;36m1e-10\u001b[0m\u001b[0;34m)\u001b[0m\u001b[0;34m\u001b[0m\u001b[0;34m\u001b[0m\u001b[0m\n",
       "\u001b[0;31mDocstring:\u001b[0m\n",
       "Calculate the distance from boosted point to GC r'\n",
       "\n",
       "Input\n",
       "------\n",
       "d: the l.o.s distance d\n",
       "Rstar: the distance between Earth and SN\n",
       "Re: the distance between Earth and the GC\n",
       "theta: the open-angle in rad\n",
       "phi: the azimuth angle in rad\n",
       "beta: the off-center angle in rad\n",
       "\n",
       "Output\n",
       "------\n",
       "r': the distance r'\n",
       "\u001b[0;31mFile:\u001b[0m      ~/GitHub/SNnuBDM2/src/geometry.py\n",
       "\u001b[0;31mType:\u001b[0m      function\n"
      ]
     },
     "metadata": {},
     "output_type": "display_data"
    }
   ],
   "source": [
    "get_rprime?"
   ]
  },
  {
   "cell_type": "code",
   "execution_count": 8,
   "id": "fa226c3c-87f4-4f82-9dfa-2e6295f4b2d7",
   "metadata": {},
   "outputs": [
    {
     "data": {
      "text/plain": [
       "\u001b[0;31mSignature:\u001b[0m \u001b[0mget_d\u001b[0m\u001b[0;34m(\u001b[0m\u001b[0mt\u001b[0m\u001b[0;34m,\u001b[0m \u001b[0mvx\u001b[0m\u001b[0;34m,\u001b[0m \u001b[0mRstar\u001b[0m\u001b[0;34m,\u001b[0m \u001b[0mtheta\u001b[0m\u001b[0;34m)\u001b[0m\u001b[0;34m\u001b[0m\u001b[0;34m\u001b[0m\u001b[0m\n",
       "\u001b[0;31mDocstring:\u001b[0m\n",
       "Calculate the distance l.o.s d\n",
       "\n",
       "Input\n",
       "------\n",
       "t: the arrival time of BDM at Earth relative to the first SN neutrino on the Earth\n",
       "vx: BDM velocity in the unit of light speed\n",
       "Rstar: the distance between Earth and SN\n",
       "theta: the open-angle in rad\n",
       "\n",
       "Output\n",
       "------\n",
       "d: the l.o.s\n",
       "\u001b[0;31mFile:\u001b[0m      ~/GitHub/SNnuBDM2/src/geometry.py\n",
       "\u001b[0;31mType:\u001b[0m      function\n"
      ]
     },
     "metadata": {},
     "output_type": "display_data"
    }
   ],
   "source": [
    "get_d?"
   ]
  },
  {
   "cell_type": "code",
   "execution_count": 9,
   "id": "8288aeea-f666-4686-a97a-0cbcc87dd29d",
   "metadata": {},
   "outputs": [
    {
     "data": {
      "text/plain": [
       "\u001b[0;31mSignature:\u001b[0m \u001b[0mget_D\u001b[0m\u001b[0;34m(\u001b[0m\u001b[0md\u001b[0m\u001b[0;34m,\u001b[0m \u001b[0mRstar\u001b[0m\u001b[0;34m,\u001b[0m \u001b[0mtheta\u001b[0m\u001b[0;34m,\u001b[0m \u001b[0mis_square\u001b[0m\u001b[0;34m=\u001b[0m\u001b[0;32mFalse\u001b[0m\u001b[0;34m)\u001b[0m\u001b[0;34m\u001b[0m\u001b[0;34m\u001b[0m\u001b[0m\n",
       "\u001b[0;31mDocstring:\u001b[0m\n",
       "Calculate the distance between SN and boosted point D\n",
       "\n",
       "Input\n",
       "------\n",
       "d: the l.o.s distance d\n",
       "Rstar: the distance between Earth and SN\n",
       "theta: the open-angle in rad\n",
       "is_square: return the square of such distance, default is False\n",
       "\n",
       "Output\n",
       "------\n",
       "D: the distance D\n",
       "\u001b[0;31mFile:\u001b[0m      ~/GitHub/SNnuBDM2/src/geometry.py\n",
       "\u001b[0;31mType:\u001b[0m      function\n"
      ]
     },
     "metadata": {},
     "output_type": "display_data"
    }
   ],
   "source": [
    "get_D?"
   ]
  },
  {
   "cell_type": "code",
   "execution_count": 10,
   "id": "cb010d2c-5580-43d5-9ee4-ab2a77355b6a",
   "metadata": {},
   "outputs": [
    {
     "data": {
      "text/plain": [
       "\u001b[0;31mSignature:\u001b[0m \u001b[0mget_cosPsi\u001b[0m\u001b[0;34m(\u001b[0m\u001b[0md\u001b[0m\u001b[0;34m,\u001b[0m \u001b[0mRstar\u001b[0m\u001b[0;34m,\u001b[0m \u001b[0mtheta\u001b[0m\u001b[0;34m)\u001b[0m\u001b[0;34m\u001b[0m\u001b[0;34m\u001b[0m\u001b[0m\n",
       "\u001b[0;31mDocstring:\u001b[0m\n",
       "Get the cosine value of scattering angle cos(psi).\n",
       "If we did it with law of cosine, then for the case of psi > pi/2,\n",
       "it will always return pi - psi which cannot reflect the pratical\n",
       "situation\n",
       "\n",
       "Input\n",
       "------\n",
       "d: the l.o.s distance d\n",
       "Rstar: the distance between Earth and SN\n",
       "theta: the open-angle in rad\n",
       "\n",
       "Output\n",
       "------\n",
       "psi: scattering angle in rad\n",
       "\u001b[0;31mFile:\u001b[0m      ~/GitHub/SNnuBDM2/src/geometry.py\n",
       "\u001b[0;31mType:\u001b[0m      function\n"
      ]
     },
     "metadata": {},
     "output_type": "display_data"
    }
   ],
   "source": [
    "?get_cosPsi"
   ]
  },
  {
   "cell_type": "code",
   "execution_count": null,
   "id": "4632f53a-18a2-49ed-af9d-5eb8401b94d4",
   "metadata": {},
   "outputs": [],
   "source": []
  }
 ],
 "metadata": {
  "kernelspec": {
   "display_name": "Python 3 (ipykernel)",
   "language": "python",
   "name": "python3"
  },
  "language_info": {
   "codemirror_mode": {
    "name": "ipython",
    "version": 3
   },
   "file_extension": ".py",
   "mimetype": "text/x-python",
   "name": "python",
   "nbconvert_exporter": "python",
   "pygments_lexer": "ipython3",
   "version": "3.9.13"
  }
 },
 "nbformat": 4,
 "nbformat_minor": 5
}
