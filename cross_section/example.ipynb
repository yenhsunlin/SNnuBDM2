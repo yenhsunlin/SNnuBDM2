{
 "cells": [
  {
   "cell_type": "code",
   "execution_count": 1,
   "id": "428f26c2-e7ab-4727-9bd6-967ea4774ac0",
   "metadata": {},
   "outputs": [],
   "source": [
    "import numpy as np\n",
    "from crox import diff_sig_xnu,sig_xe,eps_prime"
   ]
  },
  {
   "cell_type": "markdown",
   "id": "bf523471-e060-4178-840d-89c45efdbdd8",
   "metadata": {},
   "source": [
    "There are three functions that are directly related to your calculation: `diff_sig_xnu`, `sig_xe` and `eps_prime`. Others are for auxillary purpose and not needed for you. But if you are interested, I have written detailed docstrings for every functions. It should be not hard to operate them. Note that please consider that all functions are *vectorization un-supported* by default. If you want to parallelize the computation, please use python `multiprocessing` module.\n",
    "\n",
    "Here are the brief description for the three functions:\n",
    "\n",
    "- `diff_sig_xnu(Tx,mx,mV,psi,gV,gD,Ef_max=1000)`: The differential SN$\\nu$-DM cross section for DM is deflected by angle $\\psi$ after scattering, in cm<sup>2</sup>.\n",
    "  - `Tx`: the kinetic energy $T_\\chi$ gained by DM after scattering, in MeV\n",
    "  - `mx`: the DM mass $m_\\chi$, in MeV\n",
    "  - `mV`: the mediator mass $m_V$, in MeV. Considering this is a free parameter and, it is usually proportional to $m_\\chi$, eg. $m_V = m_\\chi/3$\n",
    "  - `psi`: the deflection angle $\\psi$ for DM after scattering\n",
    "  - `gV`: the coupling strength $g_V$, dimensionless. It describes the interacting strength between DM-SN$\\nu$. In your calculation, set it as **1**.\n",
    "  - `gD`: the coupling strength $g_D$. It describes the interacting strength between DM-DM. In your calculation, set it as **1**.\n",
    "  - `Ef_max`: Default is 1000. Increase it if `root_scalar` error occured\n",
    "- `sig_xe(Tx,mx,mV,eps,gD)`: The total BDM-$e$ cross section, in cm<sup>2</sup>.\n",
    "  - `Tx`: the kinetic energy $T_\\chi$ gained by DM after scattering, in MeV\n",
    "  - `mx`: the DM mass $m_\\chi$, in MeV\n",
    "  - `mV`: the mediator mass $m_V$, in MeV. Considering this is a free parameter and, it is usually proportional to $m_\\chi$, eg. $m_V = m_\\chi/3$\n",
    "  - `eps`: the coupling strength $\\varepsilon$. It describes the interacting strength between DM-electron. In your calculation, you will be asked to set it as **1** or varying it according to `eps_prime`.\n",
    "  - `gD`: the coupling strength $g_D$. It describes the interacting strength between DM-DM. In your calculation, set it as **1**.\n",
    "- `eps_prime(gV,q)`: the induced kinetic mixing parameter $\\varepsilon^\\prime$ by $\\mu/\\tau$-loops, dimensionless\n",
    "  - `gV`: the coupling strength $g_V$, dimensionless. It describes the interacting strength between DM-SN$\\nu$. In your calculation, set it as **1**.\n",
    "  - `q`: the momentum-transfer $q$, in MeV. Usually this term equals $T_\\chi$ unless specified otherwise.\n"
   ]
  },
  {
   "cell_type": "code",
   "execution_count": 2,
   "id": "a0c3c11f-59c7-4103-8022-10bedba60ee1",
   "metadata": {},
   "outputs": [],
   "source": [
    "# Example\n",
    "Tx = 10\n",
    "mx = 0.1\n",
    "mV = mx/3\n",
    "psi = 0.4*np.pi\n",
    "gV,gD,eps = 1,1,1\n",
    "eps_p = eps_prime(gV,Tx) # Use kinetic mixing induced by mu/tau loops"
   ]
  },
  {
   "cell_type": "code",
   "execution_count": 3,
   "id": "f19200e2-2508-4aac-8eaa-68868f230878",
   "metadata": {},
   "outputs": [
    {
     "data": {
      "text/plain": [
       "4.467702954205462e-25"
      ]
     },
     "execution_count": 3,
     "metadata": {},
     "output_type": "execute_result"
    }
   ],
   "source": [
    "# Differential SNnu-DM cross section at angle psi\n",
    "diff_sig_xnu(Tx,mx,mV,psi,gV,gD)"
   ]
  },
  {
   "cell_type": "code",
   "execution_count": 4,
   "id": "07e8d700-2061-4373-83c8-b9fdf42d0bed",
   "metadata": {},
   "outputs": [
    {
     "data": {
      "text/plain": [
       "6.50740916193739e-22"
      ]
     },
     "execution_count": 4,
     "metadata": {},
     "output_type": "execute_result"
    }
   ],
   "source": [
    "# Total DM-e cross section\n",
    "sig_xe(Tx,mx,mV,eps,gD)"
   ]
  },
  {
   "cell_type": "code",
   "execution_count": 5,
   "id": "98d6ae47-93c0-4d18-b14b-4812ecdea09d",
   "metadata": {},
   "outputs": [
    {
     "data": {
      "text/plain": [
       "1.3550543350574344e-25"
      ]
     },
     "execution_count": 5,
     "metadata": {},
     "output_type": "execute_result"
    }
   ],
   "source": [
    "# Total DM-e cross section with eps is induced by mu/tau loop\n",
    "sig_xe(Tx,mx,mV,eps_p,gD)"
   ]
  },
  {
   "cell_type": "code",
   "execution_count": null,
   "id": "c8238198-9a46-4d8d-93f0-bece05977abe",
   "metadata": {},
   "outputs": [],
   "source": []
  }
 ],
 "metadata": {
  "kernelspec": {
   "display_name": "Python 3 (ipykernel)",
   "language": "python",
   "name": "python3"
  },
  "language_info": {
   "codemirror_mode": {
    "name": "ipython",
    "version": 3
   },
   "file_extension": ".py",
   "mimetype": "text/x-python",
   "name": "python",
   "nbconvert_exporter": "python",
   "pygments_lexer": "ipython3",
   "version": "3.9.7"
  }
 },
 "nbformat": 4,
 "nbformat_minor": 5
}
